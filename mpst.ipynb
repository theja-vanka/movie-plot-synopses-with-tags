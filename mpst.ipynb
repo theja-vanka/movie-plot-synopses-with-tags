{
 "cells": [
  {
   "cell_type": "markdown",
   "metadata": {},
   "source": [
    "<h1>MPST: Movie Plot Synopses with Tags</h1>"
   ]
  },
  {
   "cell_type": "markdown",
   "metadata": {},
   "source": [
    "# 1. Business Problem"
   ]
  },
  {
   "cell_type": "markdown",
   "metadata": {},
   "source": [
    "## 1.1 Description"
   ]
  },
  {
   "cell_type": "markdown",
   "metadata": {},
   "source": [
    "Abstract Social tagging of movies reveals a wide range of heterogeneous information about movies, like the genre, plot structure, soundtracks, metadata, visual and emotional experiences. Such information can be valuable in building automatic systems to create tags for movies. Automatic tagging systems can help recommendation engines to improve the retrieval of similar movies as well as help viewers to know what to expect from a movie in advance. In this paper, we set out to the task of collecting a corpus of movie plot synopses and tags. We describe a methodology that enabled us to build a fine-grained set of around 70 tags exposing heterogeneous characteristics of movie plots and the multi-label associations of these tags with some 14K movie plot synopses. We investigate how these tags correlate with movies and the flow of emotions throughout different types of movies. Finally, we use this corpus to explore the feasibility of inferring tags from plot synopses. We expect the corpus will be useful in other tasks where analysis of narratives is relevant."
   ]
  },
  {
   "cell_type": "markdown",
   "metadata": {},
   "source": [
    "#### Problem Statement\n",
    "- Identify which tag should be assigned to which movie.  \n",
    "- we present the MPST corpus that contains plot synopses of 14,828 movies and their associations with a set of fine-grained tags, where each movie is tagged with one or more tags."
   ]
  },
  {
   "cell_type": "markdown",
   "metadata": {},
   "source": [
    "## 1.2 Sources"
   ]
  },
  {
   "cell_type": "markdown",
   "metadata": {},
   "source": [
    "Dataset : https://www.kaggle.com/cryptexcode/mpst-movie-plot-synopses-with-tags\n",
    "\n",
    "Please find the paper here: https://www.aclweb.org/anthology/L18-1274\n",
    "\n",
    "This dataset was published in LREC 2018@Miyazaki, Japan.\n",
    "\n",
    "Keywords Tag generation for movies, Movie plot analysis, Multi-label dataset, Narrative texts\n",
    "\n",
    "More information is available here http://ritual.uh.edu/mpst-2018/"
   ]
  },
  {
   "cell_type": "markdown",
   "metadata": {},
   "source": [
    "## 1.3 Real world/Business Objectives and Constraints"
   ]
  },
  {
   "cell_type": "markdown",
   "metadata": {},
   "source": [
    "1. Predict as many tags as possible with high precision and recall.\n",
    "2. No strict latency concerns."
   ]
  },
  {
   "cell_type": "markdown",
   "metadata": {},
   "source": [
    "# 2. Machine Learning Probelm"
   ]
  },
  {
   "cell_type": "markdown",
   "metadata": {},
   "source": [
    "## 2.1 Data"
   ]
  },
  {
   "cell_type": "markdown",
   "metadata": {},
   "source": [
    "<p> \n",
    "- Data will be in a csv file<br>\n",
    "- Train.csv contains 6 columns : imdb_id, title, plot_synopsis, tags, split, synopsis_source <br>\n",
    "- Size of Train.csv - 28MB <br>\n",
    "- Number of rows in Train.csv = 14,828\n",
    "</p>"
   ]
  },
  {
   "cell_type": "markdown",
   "metadata": {},
   "source": [
    "## 2.2 Mapping the real-world problem to a Machine Learning Problem"
   ]
  },
  {
   "cell_type": "markdown",
   "metadata": {},
   "source": [
    "### 2.2.1 Type of Machine Learning Problem"
   ]
  },
  {
   "cell_type": "markdown",
   "metadata": {},
   "source": [
    "It is a multi-label classification problem \n",
    "Multi-label Classification: Multilabel classification assigns to each sample a set of target labels. This can be thought as predicting properties of a data-point that are not mutually exclusive, such as topics that are relevant for a document."
   ]
  },
  {
   "cell_type": "markdown",
   "metadata": {},
   "source": [
    "### 2.2.2 Performance metric"
   ]
  },
  {
   "cell_type": "markdown",
   "metadata": {},
   "source": [
    "'Micro f1 score': \n",
    "Calculate metrics globally by counting the total true positives, false negatives and false positives. This is a better metric when we have class imbalance."
   ]
  },
  {
   "cell_type": "markdown",
   "metadata": {},
   "source": [
    "# 3. Exploratory Data Analysis"
   ]
  },
  {
   "cell_type": "markdown",
   "metadata": {},
   "source": [
    "## 3.1 Data Loading and Cleaning"
   ]
  },
  {
   "cell_type": "code",
   "execution_count": 58,
   "metadata": {},
   "outputs": [],
   "source": [
    "import warnings\n",
    "warnings.filterwarnings(\"ignore\")\n",
    "import pandas as pd\n",
    "import matplotlib.pyplot as plt\n",
    "import seaborn as sns\n",
    "import numpy as np\n",
    "from wordcloud import WordCloud\n",
    "import pickle\n",
    "import re\n",
    "import os\n",
    "import string\n",
    "from datetime import datetime\n",
    "from nltk.corpus import stopwords\n",
    "from nltk.tokenize import word_tokenize\n",
    "from nltk.stem import PorterStemmer\n",
    "from gensim.models import Word2Vec\n",
    "from gensim.models import KeyedVectors\n",
    "from sklearn.feature_extraction.text import CountVectorizer\n",
    "from sklearn.feature_extraction.text import TfidfVectorizer\n",
    "from sklearn.multiclass import OneVsRestClassifier\n",
    "from sklearn.linear_model import SGDClassifier\n",
    "from nltk.stem.snowball import SnowballStemmer\n",
    "from sklearn import metrics\n",
    "from sklearn.metrics import f1_score,precision_score,recall_score\n",
    "from sklearn.metrics import roc_curve, auc, confusion_matrix, roc_auc_score, accuracy_score"
   ]
  },
  {
   "cell_type": "code",
   "execution_count": 2,
   "metadata": {},
   "outputs": [],
   "source": [
    "raw_data = pd.read_csv('mpst_full_data.csv', delimiter=',')"
   ]
  },
  {
   "cell_type": "code",
   "execution_count": 3,
   "metadata": {},
   "outputs": [
    {
     "data": {
      "text/html": [
       "<div>\n",
       "<style scoped>\n",
       "    .dataframe tbody tr th:only-of-type {\n",
       "        vertical-align: middle;\n",
       "    }\n",
       "\n",
       "    .dataframe tbody tr th {\n",
       "        vertical-align: top;\n",
       "    }\n",
       "\n",
       "    .dataframe thead th {\n",
       "        text-align: right;\n",
       "    }\n",
       "</style>\n",
       "<table border=\"1\" class=\"dataframe\">\n",
       "  <thead>\n",
       "    <tr style=\"text-align: right;\">\n",
       "      <th></th>\n",
       "      <th>imdb_id</th>\n",
       "      <th>title</th>\n",
       "      <th>plot_synopsis</th>\n",
       "      <th>tags</th>\n",
       "      <th>split</th>\n",
       "      <th>synopsis_source</th>\n",
       "    </tr>\n",
       "  </thead>\n",
       "  <tbody>\n",
       "    <tr>\n",
       "      <th>0</th>\n",
       "      <td>tt0057603</td>\n",
       "      <td>I tre volti della paura</td>\n",
       "      <td>Note: this synopsis is for the orginal Italian...</td>\n",
       "      <td>cult, horror, gothic, murder, atmospheric</td>\n",
       "      <td>train</td>\n",
       "      <td>imdb</td>\n",
       "    </tr>\n",
       "    <tr>\n",
       "      <th>1</th>\n",
       "      <td>tt1733125</td>\n",
       "      <td>Dungeons &amp; Dragons: The Book of Vile Darkness</td>\n",
       "      <td>Two thousand years ago, Nhagruul the Foul, a s...</td>\n",
       "      <td>violence</td>\n",
       "      <td>train</td>\n",
       "      <td>imdb</td>\n",
       "    </tr>\n",
       "    <tr>\n",
       "      <th>2</th>\n",
       "      <td>tt0033045</td>\n",
       "      <td>The Shop Around the Corner</td>\n",
       "      <td>Matuschek's, a gift store in Budapest, is the ...</td>\n",
       "      <td>romantic</td>\n",
       "      <td>test</td>\n",
       "      <td>imdb</td>\n",
       "    </tr>\n",
       "    <tr>\n",
       "      <th>3</th>\n",
       "      <td>tt0113862</td>\n",
       "      <td>Mr. Holland's Opus</td>\n",
       "      <td>Glenn Holland, not a morning person by anyone'...</td>\n",
       "      <td>inspiring, romantic, stupid, feel-good</td>\n",
       "      <td>train</td>\n",
       "      <td>imdb</td>\n",
       "    </tr>\n",
       "    <tr>\n",
       "      <th>4</th>\n",
       "      <td>tt0086250</td>\n",
       "      <td>Scarface</td>\n",
       "      <td>In May 1980, a Cuban man named Tony Montana (A...</td>\n",
       "      <td>cruelty, murder, dramatic, cult, violence, atm...</td>\n",
       "      <td>val</td>\n",
       "      <td>imdb</td>\n",
       "    </tr>\n",
       "  </tbody>\n",
       "</table>\n",
       "</div>"
      ],
      "text/plain": [
       "     imdb_id                                          title  \\\n",
       "0  tt0057603                        I tre volti della paura   \n",
       "1  tt1733125  Dungeons & Dragons: The Book of Vile Darkness   \n",
       "2  tt0033045                     The Shop Around the Corner   \n",
       "3  tt0113862                             Mr. Holland's Opus   \n",
       "4  tt0086250                                       Scarface   \n",
       "\n",
       "                                       plot_synopsis  \\\n",
       "0  Note: this synopsis is for the orginal Italian...   \n",
       "1  Two thousand years ago, Nhagruul the Foul, a s...   \n",
       "2  Matuschek's, a gift store in Budapest, is the ...   \n",
       "3  Glenn Holland, not a morning person by anyone'...   \n",
       "4  In May 1980, a Cuban man named Tony Montana (A...   \n",
       "\n",
       "                                                tags  split synopsis_source  \n",
       "0          cult, horror, gothic, murder, atmospheric  train            imdb  \n",
       "1                                           violence  train            imdb  \n",
       "2                                           romantic   test            imdb  \n",
       "3             inspiring, romantic, stupid, feel-good  train            imdb  \n",
       "4  cruelty, murder, dramatic, cult, violence, atm...    val            imdb  "
      ]
     },
     "execution_count": 3,
     "metadata": {},
     "output_type": "execute_result"
    }
   ],
   "source": [
    "raw_data.head()"
   ]
  },
  {
   "cell_type": "markdown",
   "metadata": {},
   "source": [
    "#### Finding and removing duplicate entries"
   ]
  },
  {
   "cell_type": "code",
   "execution_count": 4,
   "metadata": {},
   "outputs": [],
   "source": [
    "dup_removed = raw_data.drop_duplicates(['title','plot_synopsis','split'])"
   ]
  },
  {
   "cell_type": "code",
   "execution_count": 5,
   "metadata": {},
   "outputs": [
    {
     "data": {
      "text/plain": [
       "14486"
      ]
     },
     "execution_count": 5,
     "metadata": {},
     "output_type": "execute_result"
    }
   ],
   "source": [
    "dup_removed.count()[0]"
   ]
  },
  {
   "cell_type": "code",
   "execution_count": 6,
   "metadata": {},
   "outputs": [
    {
     "name": "stdout",
     "output_type": "stream",
     "text": [
      "Empty DataFrame\n",
      "Columns: []\n",
      "Index: []\n"
     ]
    }
   ],
   "source": [
    "null_columns=dup_removed.columns[dup_removed.isnull().any()]\n",
    "print(dup_removed[dup_removed.isnull().any(axis=1)][null_columns].head())"
   ]
  },
  {
   "cell_type": "code",
   "execution_count": 7,
   "metadata": {},
   "outputs": [
    {
     "data": {
      "text/plain": [
       "('train', 'test', 'val')"
      ]
     },
     "execution_count": 7,
     "metadata": {},
     "output_type": "execute_result"
    }
   ],
   "source": [
    "tuple(dup_removed['split'].unique())"
   ]
  },
  {
   "cell_type": "code",
   "execution_count": 8,
   "metadata": {},
   "outputs": [],
   "source": [
    "objects = tuple(dup_removed['split'].unique())\n",
    "y_pos = np.arange(len(objects))\n",
    "performance = [dup_removed[dup_removed['split'] == 'train'].count()[0],dup_removed[dup_removed['split'] == 'test'].count()[0],dup_removed[dup_removed['split'] == 'val'].count()[0]]"
   ]
  },
  {
   "cell_type": "code",
   "execution_count": 9,
   "metadata": {},
   "outputs": [
    {
     "data": {
      "image/png": "[encoded data removed]",
      "text/plain": [
       "<Figure size 432x288 with 1 Axes>"
      ]
     },
     "metadata": {
      "needs_background": "light"
     },
     "output_type": "display_data"
    }
   ],
   "source": [
    "plt.bar(y_pos, performance, align='center', alpha=0.5)\n",
    "plt.xticks(y_pos, objects)\n",
    "plt.ylabel('Count')\n",
    "plt.title('Split')\n",
    "\n",
    "plt.show()"
   ]
  },
  {
   "cell_type": "markdown",
   "metadata": {},
   "source": [
    "## 3.2 Split into train, val and test"
   ]
  },
  {
   "cell_type": "code",
   "execution_count": 10,
   "metadata": {},
   "outputs": [
    {
     "data": {
      "text/plain": [
       "9203"
      ]
     },
     "execution_count": 10,
     "metadata": {},
     "output_type": "execute_result"
    }
   ],
   "source": [
    "train = dup_removed[dup_removed['split'] == 'train']\n",
    "train.count()[0]"
   ]
  },
  {
   "cell_type": "code",
   "execution_count": 11,
   "metadata": {},
   "outputs": [
    {
     "data": {
      "text/plain": [
       "2934"
      ]
     },
     "execution_count": 11,
     "metadata": {},
     "output_type": "execute_result"
    }
   ],
   "source": [
    "test = dup_removed[dup_removed['split'] == 'test']\n",
    "test.count()[0]"
   ]
  },
  {
   "cell_type": "code",
   "execution_count": 12,
   "metadata": {},
   "outputs": [
    {
     "data": {
      "text/plain": [
       "2349"
      ]
     },
     "execution_count": 12,
     "metadata": {},
     "output_type": "execute_result"
    }
   ],
   "source": [
    "val = dup_removed[dup_removed['split'] == 'val']\n",
    "val.count()[0]"
   ]
  },
  {
   "cell_type": "markdown",
   "metadata": {},
   "source": [
    "## 3.3 Analysis of Tags"
   ]
  },
  {
   "cell_type": "code",
   "execution_count": 13,
   "metadata": {},
   "outputs": [],
   "source": [
    "vectorizer = CountVectorizer(tokenizer = lambda x: x.replace(' ', '').split(','))\n",
    "tag_vector = vectorizer.fit_transform(train['tags'])"
   ]
  },
  {
   "cell_type": "code",
   "execution_count": 14,
   "metadata": {},
   "outputs": [
    {
     "name": "stdout",
     "output_type": "stream",
     "text": [
      "Number of data points : 9203\n",
      "Number of unique tags : 71\n"
     ]
    }
   ],
   "source": [
    "print(\"Number of data points :\", tag_vector.shape[0])\n",
    "print(\"Number of unique tags :\", tag_vector.shape[1])"
   ]
  },
  {
   "cell_type": "code",
   "execution_count": 15,
   "metadata": {},
   "outputs": [
    {
     "name": "stdout",
     "output_type": "stream",
     "text": [
      "Tags we have : ['absurd', 'action', 'adultcomedy', 'allegory', 'alternatehistory', 'alternatereality', 'antiwar', 'atmospheric', 'autobiographical', 'avantgarde', 'blaxploitation', 'bleak', 'boring', 'brainwashing', 'christianfilm', 'claustrophobic', 'clever', 'comedy', 'comic', 'cruelty', 'cult', 'cute', 'dark', 'depressing', 'dramatic', 'entertaining', 'fantasy', 'feel-good', 'flashback', 'goodversusevil', 'gothic', 'grindhousefilm', 'haunting', 'historical', 'historicalfiction', 'homemovie', 'horror', 'humor', 'insanity', 'inspiring', 'intrigue', 'magicalrealism', 'melodrama', 'murder', 'mystery', 'neonoir', 'nonfiction', 'paranormal', 'philosophical', 'plottwist', 'pornographic', 'prank', 'psychedelic', 'psychological', 'queer', 'realism', 'revenge', 'romantic', 'sadist', 'satire', 'sci-fi', 'sentimental', 'storytelling', 'stupid', 'suicidal', 'suspenseful', 'thought-provoking', 'tragedy', 'violence', 'western', 'whimsical']\n"
     ]
    }
   ],
   "source": [
    "tags = vectorizer.get_feature_names()\n",
    "print(\"Tags we have :\", tags)"
   ]
  },
  {
   "cell_type": "code",
   "execution_count": 16,
   "metadata": {},
   "outputs": [],
   "source": [
    "freqs = tag_vector.sum(axis=0).A1\n",
    "result = dict(zip(tags, freqs))"
   ]
  },
  {
   "cell_type": "code",
   "execution_count": 17,
   "metadata": {},
   "outputs": [
    {
     "data": {
      "text/plain": [
       "{'absurd': 166,\n",
       " 'action': 397,\n",
       " 'adultcomedy': 82,\n",
       " 'allegory': 87,\n",
       " 'alternatehistory': 63,\n",
       " 'alternatereality': 126,\n",
       " 'antiwar': 71,\n",
       " 'atmospheric': 262,\n",
       " 'autobiographical': 28,\n",
       " 'avantgarde': 155,\n",
       " 'blaxploitation': 56,\n",
       " 'bleak': 139,\n",
       " 'boring': 329,\n",
       " 'brainwashing': 77,\n",
       " 'christianfilm': 27,\n",
       " 'claustrophobic': 52,\n",
       " 'clever': 58,\n",
       " 'comedy': 1178,\n",
       " 'comic': 63,\n",
       " 'cruelty': 276,\n",
       " 'cult': 1650,\n",
       " 'cute': 116,\n",
       " 'dark': 252,\n",
       " 'depressing': 124,\n",
       " 'dramatic': 252,\n",
       " 'entertaining': 445,\n",
       " 'fantasy': 319,\n",
       " 'feel-good': 48,\n",
       " 'flashback': 1814,\n",
       " 'goodversusevil': 535,\n",
       " 'gothic': 279,\n",
       " 'grindhousefilm': 44,\n",
       " 'haunting': 94,\n",
       " 'historical': 169,\n",
       " 'historicalfiction': 93,\n",
       " 'homemovie': 96,\n",
       " 'horror': 301,\n",
       " 'humor': 523,\n",
       " 'insanity': 403,\n",
       " 'inspiring': 67,\n",
       " 'intrigue': 99,\n",
       " 'magicalrealism': 34,\n",
       " 'melodrama': 289,\n",
       " 'murder': 3588,\n",
       " 'mystery': 320,\n",
       " 'neonoir': 451,\n",
       " 'nonfiction': 22,\n",
       " 'paranormal': 325,\n",
       " 'philosophical': 152,\n",
       " 'plottwist': 121,\n",
       " 'pornographic': 101,\n",
       " 'prank': 166,\n",
       " 'psychedelic': 1167,\n",
       " 'psychological': 173,\n",
       " 'queer': 62,\n",
       " 'realism': 140,\n",
       " 'revenge': 1518,\n",
       " 'romantic': 1797,\n",
       " 'sadist': 385,\n",
       " 'satire': 521,\n",
       " 'sci-fi': 194,\n",
       " 'sentimental': 154,\n",
       " 'storytelling': 226,\n",
       " 'stupid': 111,\n",
       " 'suicidal': 28,\n",
       " 'suspenseful': 654,\n",
       " 'thought-provoking': 78,\n",
       " 'tragedy': 344,\n",
       " 'violence': 2760,\n",
       " 'western': 48,\n",
       " 'whimsical': 55}"
      ]
     },
     "execution_count": 17,
     "metadata": {},
     "output_type": "execute_result"
    }
   ],
   "source": [
    "result"
   ]
  },
  {
   "cell_type": "code",
   "execution_count": 18,
   "metadata": {},
   "outputs": [],
   "source": [
    "tag_quest_count = tag_vector.sum(axis=1).tolist()\n",
    "tag_quest_count=[int(j) for i in tag_quest_count for j in i]"
   ]
  },
  {
   "cell_type": "code",
   "execution_count": 19,
   "metadata": {},
   "outputs": [
    {
     "name": "stdout",
     "output_type": "stream",
     "text": [
      "Maximum number of tags per movie: 25\n",
      "Minimum number of tags per movie: 1\n",
      "Avg. number of tags per movie: 2.977181\n"
     ]
    }
   ],
   "source": [
    "print( \"Maximum number of tags per movie: %d\"%max(tag_quest_count))\n",
    "print( \"Minimum number of tags per movie: %d\"%min(tag_quest_count))\n",
    "print( \"Avg. number of tags per movie: %f\"% ((sum(tag_quest_count)*1.0)/len(tag_quest_count)))"
   ]
  },
  {
   "cell_type": "code",
   "execution_count": 20,
   "metadata": {},
   "outputs": [
    {
     "data": {
      "image/png": "[encoded data removed]",
      "text/plain": [
       "<Figure size 432x288 with 1 Axes>"
      ]
     },
     "metadata": {
      "needs_background": "light"
     },
     "output_type": "display_data"
    }
   ],
   "source": [
    "sns.countplot(tag_quest_count, palette='gist_rainbow')\n",
    "plt.title(\"Number of tags in a movie (train)\")\n",
    "plt.xlabel(\"Number of Tags\")\n",
    "plt.ylabel(\"Number of Movies\")\n",
    "plt.show()"
   ]
  },
  {
   "cell_type": "markdown",
   "metadata": {},
   "source": [
    "### Most Frequent Tags"
   ]
  },
  {
   "cell_type": "code",
   "execution_count": 21,
   "metadata": {},
   "outputs": [
    {
     "data": {
      "image/png": "[encoded data removed]",
      "text/plain": [
       "<Figure size 432x288 with 1 Axes>"
      ]
     },
     "metadata": {
      "needs_background": "light"
     },
     "output_type": "display_data"
    }
   ],
   "source": [
    "tup = dict(result.items())\n",
    "\n",
    "wordcloud = WordCloud(background_color='white').generate_from_frequencies(tup)\n",
    "\n",
    "fig = plt.figure()\n",
    "plt.imshow(wordcloud)\n",
    "plt.axis('off')\n",
    "plt.tight_layout(pad=0)\n",
    "fig.savefig(\"tag_wordcloud.png\")\n",
    "plt.show()"
   ]
  },
  {
   "cell_type": "markdown",
   "metadata": {},
   "source": [
    "## 3.4 Cleaning and preprocessing of Plot, Title and tags"
   ]
  },
  {
   "cell_type": "code",
   "execution_count": 22,
   "metadata": {},
   "outputs": [],
   "source": [
    "train_set = train.drop(['split','synopsis_source','imdb_id'], axis=1)\n",
    "test_set = test.drop(['split','synopsis_source','imdb_id'],axis=1)\n",
    "val_set = val.drop(['split','synopsis_source','imdb_id'],axis=1)"
   ]
  },
  {
   "cell_type": "code",
   "execution_count": 23,
   "metadata": {},
   "outputs": [],
   "source": [
    "train_set['tags'] = train_set['tags'].apply(lambda x : x.replace(' ', '').replace(',',' '))\n",
    "test_set['tags'] = test_set['tags'].apply(lambda x : x.replace(' ', '').replace(',',' '))\n",
    "val_set['tags'] = val_set['tags'].apply(lambda x : x.replace(' ', '').replace(',',' '))"
   ]
  },
  {
   "cell_type": "code",
   "execution_count": 24,
   "metadata": {},
   "outputs": [
    {
     "data": {
      "text/html": [
       "<div>\n",
       "<style scoped>\n",
       "    .dataframe tbody tr th:only-of-type {\n",
       "        vertical-align: middle;\n",
       "    }\n",
       "\n",
       "    .dataframe tbody tr th {\n",
       "        vertical-align: top;\n",
       "    }\n",
       "\n",
       "    .dataframe thead th {\n",
       "        text-align: right;\n",
       "    }\n",
       "</style>\n",
       "<table border=\"1\" class=\"dataframe\">\n",
       "  <thead>\n",
       "    <tr style=\"text-align: right;\">\n",
       "      <th></th>\n",
       "      <th>title</th>\n",
       "      <th>plot_synopsis</th>\n",
       "      <th>tags</th>\n",
       "    </tr>\n",
       "  </thead>\n",
       "  <tbody>\n",
       "    <tr>\n",
       "      <th>0</th>\n",
       "      <td>I tre volti della paura</td>\n",
       "      <td>Note: this synopsis is for the orginal Italian...</td>\n",
       "      <td>cult horror gothic murder atmospheric</td>\n",
       "    </tr>\n",
       "    <tr>\n",
       "      <th>1</th>\n",
       "      <td>Dungeons &amp; Dragons: The Book of Vile Darkness</td>\n",
       "      <td>Two thousand years ago, Nhagruul the Foul, a s...</td>\n",
       "      <td>violence</td>\n",
       "    </tr>\n",
       "    <tr>\n",
       "      <th>3</th>\n",
       "      <td>Mr. Holland's Opus</td>\n",
       "      <td>Glenn Holland, not a morning person by anyone'...</td>\n",
       "      <td>inspiring romantic stupid feel-good</td>\n",
       "    </tr>\n",
       "    <tr>\n",
       "      <th>6</th>\n",
       "      <td>Baise-moi</td>\n",
       "      <td>Baise-moi tells the story of Nadine and Manu w...</td>\n",
       "      <td>gothic cruelty violence cult revenge sadist</td>\n",
       "    </tr>\n",
       "    <tr>\n",
       "      <th>7</th>\n",
       "      <td>Flightplan</td>\n",
       "      <td>Kyle Pratt (Jodie Foster) is a propulsion engi...</td>\n",
       "      <td>mystery suspenseful action murder flashback</td>\n",
       "    </tr>\n",
       "  </tbody>\n",
       "</table>\n",
       "</div>"
      ],
      "text/plain": [
       "                                           title  \\\n",
       "0                        I tre volti della paura   \n",
       "1  Dungeons & Dragons: The Book of Vile Darkness   \n",
       "3                             Mr. Holland's Opus   \n",
       "6                                      Baise-moi   \n",
       "7                                     Flightplan   \n",
       "\n",
       "                                       plot_synopsis  \\\n",
       "0  Note: this synopsis is for the orginal Italian...   \n",
       "1  Two thousand years ago, Nhagruul the Foul, a s...   \n",
       "3  Glenn Holland, not a morning person by anyone'...   \n",
       "6  Baise-moi tells the story of Nadine and Manu w...   \n",
       "7  Kyle Pratt (Jodie Foster) is a propulsion engi...   \n",
       "\n",
       "                                          tags  \n",
       "0        cult horror gothic murder atmospheric  \n",
       "1                                     violence  \n",
       "3          inspiring romantic stupid feel-good  \n",
       "6  gothic cruelty violence cult revenge sadist  \n",
       "7  mystery suspenseful action murder flashback  "
      ]
     },
     "execution_count": 24,
     "metadata": {},
     "output_type": "execute_result"
    }
   ],
   "source": [
    "train_set.head()"
   ]
  },
  {
   "cell_type": "code",
   "execution_count": 25,
   "metadata": {},
   "outputs": [
    {
     "name": "stderr",
     "output_type": "stream",
     "text": [
      "100%|██████████| 9203/9203 [00:32<00:00, 278.98it/s]\n"
     ]
    }
   ],
   "source": [
    "from tqdm import tqdm\n",
    "stop_words = set(stopwords.words('english'))\n",
    "stemmer = SnowballStemmer(\"english\")\n",
    "preprocessed_plot_train = []\n",
    "# tqdm is for printing the status bar\n",
    "for sentance in tqdm(train_set['plot_synopsis'].values):\n",
    "    sentance = sentance.lower()\n",
    "    sentance = re.sub(r'\\d+', '', sentance)\n",
    "    sentance = re.sub('[^A-Za-z0-9]+', ' ', sentance)\n",
    "    sentance = sentance.strip()\n",
    "    sentance = word_tokenize(sentance)\n",
    "    sentance= ' '.join(j for j in sentance if j not in stop_words)\n",
    "    preprocessed_plot_train.append(sentance.strip())"
   ]
  },
  {
   "cell_type": "code",
   "execution_count": 29,
   "metadata": {
    "scrolled": false
   },
   "outputs": [
    {
     "data": {
      "text/plain": [
       "4920"
      ]
     },
     "execution_count": 29,
     "metadata": {},
     "output_type": "execute_result"
    }
   ],
   "source": [
    "len(preprocessed_plot_train[0])"
   ]
  },
  {
   "cell_type": "code",
   "execution_count": 27,
   "metadata": {},
   "outputs": [
    {
     "name": "stderr",
     "output_type": "stream",
     "text": [
      "100%|██████████| 2934/2934 [00:10<00:00, 439.14it/s]\n"
     ]
    }
   ],
   "source": [
    "from tqdm import tqdm\n",
    "stop_words = set(stopwords.words('english'))\n",
    "stemmer = SnowballStemmer(\"english\")\n",
    "preprocessed_plot_test = []\n",
    "# tqdm is for printing the status bar\n",
    "for sentance in tqdm(test_set['plot_synopsis'].values):\n",
    "    sentance = sentance.lower()\n",
    "    sentance = re.sub(r'\\d+', '', sentance)\n",
    "    sentance = re.sub('[^A-Za-z0-9]+', ' ', sentance)\n",
    "    sentance = sentance.strip()\n",
    "    sentance = word_tokenize(sentance)\n",
    "    sentance= ' '.join(j for j in sentance if j not in stop_words)\n",
    "    preprocessed_plot_test.append(sentance.strip())"
   ]
  },
  {
   "cell_type": "code",
   "execution_count": 28,
   "metadata": {},
   "outputs": [
    {
     "name": "stderr",
     "output_type": "stream",
     "text": [
      "100%|██████████| 2349/2349 [00:08<00:00, 269.22it/s]\n"
     ]
    }
   ],
   "source": [
    "from tqdm import tqdm\n",
    "stop_words = set(stopwords.words('english'))\n",
    "stemmer = SnowballStemmer(\"english\")\n",
    "preprocessed_plot_val = []\n",
    "# tqdm is for printing the status bar\n",
    "for sentance in tqdm(val_set['plot_synopsis'].values):\n",
    "    sentance = sentance.lower()\n",
    "    sentance = re.sub(r'\\d+', '', sentance)\n",
    "    sentance = re.sub('[^A-Za-z0-9]+', ' ', sentance)\n",
    "    sentance = sentance.strip()\n",
    "    sentance = word_tokenize(sentance)\n",
    "    sentance= ' '.join(j for j in sentance if j not in stop_words)\n",
    "    preprocessed_plot_val.append(sentance.strip())"
   ]
  },
  {
   "cell_type": "markdown",
   "metadata": {},
   "source": [
    "#### Word2Vec"
   ]
  },
  {
   "cell_type": "code",
   "execution_count": 44,
   "metadata": {},
   "outputs": [],
   "source": [
    "list_of_sentance_train=[]\n",
    "for sentance in train_set['plot_synopsis']:\n",
    "    list_of_sentance_train.append(sentance.split())"
   ]
  },
  {
   "cell_type": "code",
   "execution_count": 45,
   "metadata": {},
   "outputs": [],
   "source": [
    "list_of_sentance_test=[]\n",
    "for sentance in test_set['plot_synopsis']:\n",
    "    list_of_sentance_test.append(sentance.split())"
   ]
  },
  {
   "cell_type": "code",
   "execution_count": 46,
   "metadata": {},
   "outputs": [],
   "source": [
    "list_of_sentance_val=[]\n",
    "for sentance in val_set['plot_synopsis']:\n",
    "    list_of_sentance_val.append(sentance.split())"
   ]
  },
  {
   "cell_type": "code",
   "execution_count": 47,
   "metadata": {},
   "outputs": [],
   "source": [
    "w2v_model=Word2Vec(list_of_sentance_train,min_count=5,size=50, workers=4)"
   ]
  },
  {
   "cell_type": "code",
   "execution_count": 48,
   "metadata": {},
   "outputs": [],
   "source": [
    "w2v_words_train = list(w2v_model.wv.vocab)"
   ]
  },
  {
   "cell_type": "markdown",
   "metadata": {},
   "source": [
    "#### Bag of words"
   ]
  },
  {
   "cell_type": "code",
   "execution_count": 56,
   "metadata": {},
   "outputs": [],
   "source": [
    "count_vect_bow = CountVectorizer(min_df=10) #in scikit-learn\n",
    "final_counts_train = count_vect_bow.fit_transform(train_set['plot_synopsis'])"
   ]
  },
  {
   "cell_type": "code",
   "execution_count": 57,
   "metadata": {},
   "outputs": [],
   "source": [
    "final_counts_cv = count_vect_bow.transform(val_set['plot_synopsis'])"
   ]
  },
  {
   "cell_type": "code",
   "execution_count": 58,
   "metadata": {},
   "outputs": [],
   "source": [
    "final_counts_test = count_vect_bow.transform(test_set['plot_synopsis'])"
   ]
  },
  {
   "cell_type": "markdown",
   "metadata": {},
   "source": [
    "#### One-hot encoding tags"
   ]
  },
  {
   "cell_type": "code",
   "execution_count": 30,
   "metadata": {},
   "outputs": [],
   "source": [
    "vectorizer = CountVectorizer(tokenizer = lambda x: x.split(), binary='true')\n",
    "multilabel_train = vectorizer.fit_transform(train_set['tags'])\n",
    "multilabel_test = vectorizer.transform(test_set['tags'])\n",
    "multilable_val = vectorizer.transform(val_set['tags'])"
   ]
  },
  {
   "cell_type": "markdown",
   "metadata": {},
   "source": [
    "#### TFIDF"
   ]
  },
  {
   "cell_type": "code",
   "execution_count": 43,
   "metadata": {},
   "outputs": [],
   "source": [
    "vectorizer = TfidfVectorizer(tokenizer = lambda x: x.split(),smooth_idf=True, \n",
    "                             norm=\"l2\",sublinear_tf=False, ngram_range=(1,4))\n",
    "final_tf_idf_train = vectorizer.fit_transform(preprocessed_plot_train)\n",
    "final_tf_idf_test = vectorizer.transform(preprocessed_plot_test)\n",
    "final_tf_idf_cv = vectorizer.transform(preprocessed_plot_val)"
   ]
  },
  {
   "cell_type": "markdown",
   "metadata": {},
   "source": [
    "#### Avg W2V"
   ]
  },
  {
   "cell_type": "code",
   "execution_count": 44,
   "metadata": {},
   "outputs": [
    {
     "name": "stderr",
     "output_type": "stream",
     "text": [
      "100%|██████████| 9203/9203 [44:15<00:00,  5.47it/s]  "
     ]
    },
    {
     "name": "stdout",
     "output_type": "stream",
     "text": [
      "9203\n"
     ]
    },
    {
     "name": "stderr",
     "output_type": "stream",
     "text": [
      "\n"
     ]
    }
   ],
   "source": [
    "sent_vectors_train = []\n",
    "for sent in tqdm(list_of_sentance_train): \n",
    "    sent_vec = np.zeros(50) \n",
    "    cnt_words =0; \n",
    "    for word in sent: \n",
    "        if word in w2v_words_train:\n",
    "            vec = w2v_model.wv[word]\n",
    "            sent_vec += vec\n",
    "            cnt_words += 1\n",
    "    if cnt_words != 0:\n",
    "        sent_vec /= cnt_words\n",
    "    sent_vectors_train.append(sent_vec)\n",
    "print(len(sent_vectors_train))"
   ]
  },
  {
   "cell_type": "code",
   "execution_count": 46,
   "metadata": {},
   "outputs": [
    {
     "name": "stderr",
     "output_type": "stream",
     "text": [
      "100%|██████████| 2349/2349 [10:57<00:00,  5.32it/s]"
     ]
    },
    {
     "name": "stdout",
     "output_type": "stream",
     "text": [
      "2349\n"
     ]
    },
    {
     "name": "stderr",
     "output_type": "stream",
     "text": [
      "\n"
     ]
    }
   ],
   "source": [
    "sent_vectors_cv = []\n",
    "for sent in tqdm(list_of_sentance_val): \n",
    "    sent_vec = np.zeros(50) \n",
    "    cnt_words =0 \n",
    "    for word in sent: \n",
    "        if word in w2v_words_train:\n",
    "            vec = w2v_model.wv[word]\n",
    "            sent_vec += vec\n",
    "            cnt_words += 1\n",
    "    if cnt_words != 0:\n",
    "        sent_vec /= cnt_words\n",
    "    sent_vectors_cv.append(sent_vec)\n",
    "print(len(sent_vectors_cv))"
   ]
  },
  {
   "cell_type": "code",
   "execution_count": 47,
   "metadata": {},
   "outputs": [
    {
     "name": "stderr",
     "output_type": "stream",
     "text": [
      "100%|██████████| 2934/2934 [13:16<00:00,  5.78it/s] "
     ]
    },
    {
     "name": "stdout",
     "output_type": "stream",
     "text": [
      "2934\n"
     ]
    },
    {
     "name": "stderr",
     "output_type": "stream",
     "text": [
      "\n"
     ]
    }
   ],
   "source": [
    "sent_vectors_test = []\n",
    "for sent in tqdm(list_of_sentance_test): \n",
    "    sent_vec = np.zeros(50) \n",
    "    cnt_words =0\n",
    "    for word in sent: \n",
    "        if word in w2v_words_train:\n",
    "            vec = w2v_model.wv[word]\n",
    "            sent_vec += vec\n",
    "            cnt_words += 1\n",
    "    if cnt_words != 0:\n",
    "        sent_vec /= cnt_words\n",
    "    sent_vectors_test.append(sent_vec)\n",
    "print(len(sent_vectors_test))"
   ]
  },
  {
   "cell_type": "markdown",
   "metadata": {},
   "source": [
    "#### TFIDF W2V"
   ]
  },
  {
   "cell_type": "code",
   "execution_count": 49,
   "metadata": {},
   "outputs": [],
   "source": [
    "model = TfidfVectorizer()\n",
    "tf_idf_matrix_train = model.fit_transform(preprocessed_plot_train)"
   ]
  },
  {
   "cell_type": "code",
   "execution_count": 51,
   "metadata": {},
   "outputs": [],
   "source": [
    "dictionary = dict(zip(model.get_feature_names(), list(model.idf_)))\n",
    "tfidf_feat = model.get_feature_names()"
   ]
  },
  {
   "cell_type": "code",
   "execution_count": 52,
   "metadata": {},
   "outputs": [
    {
     "name": "stderr",
     "output_type": "stream",
     "text": [
      "100%|██████████| 9203/9203 [4:56:24<00:00,  1.35s/it]   \n"
     ]
    }
   ],
   "source": [
    "tfidf_sent_vectors_train = []\n",
    "row=0\n",
    "for sent in tqdm(list_of_sentance_train): \n",
    "    sent_vec = np.zeros(50) \n",
    "    weight_sum =0\n",
    "    for word in sent:\n",
    "        if word in w2v_words_train and word in tfidf_feat:\n",
    "            vec = w2v_model.wv[word]\n",
    "            tf_idf = dictionary[word]*(sent.count(word)/len(sent))\n",
    "            sent_vec += (vec * tf_idf)\n",
    "            weight_sum += tf_idf\n",
    "    if weight_sum != 0:\n",
    "        sent_vec /= weight_sum\n",
    "    tfidf_sent_vectors_train.append(sent_vec)\n",
    "    row += 1"
   ]
  },
  {
   "cell_type": "code",
   "execution_count": 53,
   "metadata": {},
   "outputs": [
    {
     "name": "stderr",
     "output_type": "stream",
     "text": [
      "100%|██████████| 2349/2349 [1:21:55<00:00,  1.10s/it]\n"
     ]
    }
   ],
   "source": [
    "tfidf_sent_vectors_cv = []\n",
    "row=0;\n",
    "for sent in tqdm(list_of_sentance_val): \n",
    "    sent_vec = np.zeros(50) \n",
    "    weight_sum =0\n",
    "    for word in sent: \n",
    "        if word in w2v_words_train and word in tfidf_feat:\n",
    "            vec = w2v_model.wv[word]\n",
    "            tf_idf = dictionary[word]*(sent.count(word)/len(sent))\n",
    "            sent_vec += (vec * tf_idf)\n",
    "            weight_sum += tf_idf\n",
    "    if weight_sum != 0:\n",
    "        sent_vec /= weight_sum\n",
    "    tfidf_sent_vectors_cv.append(sent_vec)\n",
    "    row += 1"
   ]
  },
  {
   "cell_type": "code",
   "execution_count": 54,
   "metadata": {},
   "outputs": [
    {
     "name": "stderr",
     "output_type": "stream",
     "text": [
      "100%|██████████| 2934/2934 [1:43:12<00:00,  2.09s/it]  \n"
     ]
    }
   ],
   "source": [
    "tfidf_sent_vectors_test = []\n",
    "row=0\n",
    "for sent in tqdm(list_of_sentance_test): \n",
    "    sent_vec = np.zeros(50) \n",
    "    weight_sum =0\n",
    "    for word in sent:\n",
    "        if word in w2v_words_train and word in tfidf_feat:\n",
    "            vec = w2v_model.wv[word]\n",
    "            tf_idf = dictionary[word]*(sent.count(word)/len(sent))\n",
    "            sent_vec += (vec * tf_idf)\n",
    "            weight_sum += tf_idf\n",
    "    if weight_sum != 0:\n",
    "        sent_vec /= weight_sum\n",
    "    tfidf_sent_vectors_test.append(sent_vec)\n",
    "    row += 1"
   ]
  },
  {
   "cell_type": "markdown",
   "metadata": {},
   "source": [
    "### Topic wise modelling"
   ]
  },
  {
   "cell_type": "code",
   "execution_count": 75,
   "metadata": {},
   "outputs": [],
   "source": [
    "import gensim\n",
    "from gensim import corpora\n",
    "from gensim.models.coherencemodel import CoherenceModel"
   ]
  },
  {
   "cell_type": "code",
   "execution_count": 64,
   "metadata": {},
   "outputs": [],
   "source": [
    "doc_clean = [doc.split() for doc in preprocessed_plot_train] "
   ]
  },
  {
   "cell_type": "code",
   "execution_count": 65,
   "metadata": {},
   "outputs": [],
   "source": [
    "id2word = corpora.Dictionary(doc_clean)"
   ]
  },
  {
   "cell_type": "code",
   "execution_count": 67,
   "metadata": {},
   "outputs": [],
   "source": [
    "corpus = [id2word.doc2bow(doc) for doc in doc_clean]"
   ]
  },
  {
   "cell_type": "code",
   "execution_count": 81,
   "metadata": {},
   "outputs": [],
   "source": [
    "Lda = gensim.models.ldamodel.LdaModel\n",
    "ldamodel = Lda(corpus, num_topics=6, id2word = id2word, passes=50)"
   ]
  },
  {
   "cell_type": "code",
   "execution_count": 82,
   "metadata": {},
   "outputs": [],
   "source": [
    "doc_lda = ldamodel[doc_term_matrix]"
   ]
  },
  {
   "cell_type": "code",
   "execution_count": 83,
   "metadata": {},
   "outputs": [],
   "source": [
    "import pyLDAvis\n",
    "import pyLDAvis.gensim"
   ]
  },
  {
   "cell_type": "code",
   "execution_count": 84,
   "metadata": {},
   "outputs": [
    {
     "data": {
      "text/html": [
       "\n",
       "<link rel=\"stylesheet\" type=\"text/css\" href=\"https://cdn.rawgit.com/bmabey/pyLDAvis/files/ldavis.v1.0.0.css\">\n",
       "\n",
       "\n",
       "<div id=\"ldavis_el569772617447286263967014\"></div>\n",
       "<script type=\"text/javascript\">\n",
       "\n",
       "var ldavis_el569772617447286263967014_data = {\"mdsDat\": {\"x\": [0.08059808237436891, 0.06951891394306157, -0.04783120300292916, 0.14808719306218537, -0.07168915515719304, -0.17868383121949405], \"y\": [0.06161983109168667, 0.10195417005039961, -0.010452980980363675, -0.06333300470312102, -0.17962596330697708, 0.08983794784837514], \"topics\": [1, 2, 3, 4, 5, 6], \"cluster\": [1, 1, 1, 1, 1, 1], \"Freq\": [28.92875099182129, 19.923580169677734, 16.48505401611328, 14.572993278503418, 13.952930450439453, 6.136690616607666]}, \"tinfo\": {\"Category\": [\"Default\", \"Default\", \"Default\", \"Default\", \"Default\", \"Default\", \"Default\", \"Default\", \"Default\", \"Default\", \"Default\", \"Default\", \"Default\", \"Default\", \"Default\", \"Default\", \"Default\", \"Default\", \"Default\", \"Default\", \"Default\", \"Default\", \"Default\", \"Default\", \"Default\", \"Default\", \"Default\", \"Default\", \"Default\", \"Default\", \"Topic1\", \"Topic1\", \"Topic1\", \"Topic1\", \"Topic1\", \"Topic1\", \"Topic1\", \"Topic1\", \"Topic1\", \"Topic1\", \"Topic1\", \"Topic1\", \"Topic1\", \"Topic1\", \"Topic1\", \"Topic1\", \"Topic1\", \"Topic1\", \"Topic1\", \"Topic1\", \"Topic1\", \"Topic1\", \"Topic1\", \"Topic1\", \"Topic1\", \"Topic1\", \"Topic1\", \"Topic1\", \"Topic1\", \"Topic1\", \"Topic1\", \"Topic1\", \"Topic1\", \"Topic1\", \"Topic1\", \"Topic1\", \"Topic1\", \"Topic1\", \"Topic1\", \"Topic1\", \"Topic1\", \"Topic1\", \"Topic1\", \"Topic1\", \"Topic1\", \"Topic1\", \"Topic1\", \"Topic1\", \"Topic1\", \"Topic1\", \"Topic1\", \"Topic1\", \"Topic1\", \"Topic1\", \"Topic1\", \"Topic1\", \"Topic1\", \"Topic1\", \"Topic1\", \"Topic1\", \"Topic1\", \"Topic1\", \"Topic1\", \"Topic1\", \"Topic1\", \"Topic1\", \"Topic1\", \"Topic1\", \"Topic1\", \"Topic1\", \"Topic1\", \"Topic1\", \"Topic1\", \"Topic1\", \"Topic1\", \"Topic1\", \"Topic1\", \"Topic1\", \"Topic1\", \"Topic1\", \"Topic1\", \"Topic1\", \"Topic1\", \"Topic1\", \"Topic1\", \"Topic1\", \"Topic1\", \"Topic1\", \"Topic1\", \"Topic1\", \"Topic1\", \"Topic1\", \"Topic1\", \"Topic2\", \"Topic2\", \"Topic2\", \"Topic2\", \"Topic2\", \"Topic2\", \"Topic2\", \"Topic2\", \"Topic2\", \"Topic2\", \"Topic2\", \"Topic2\", \"Topic2\", \"Topic2\", \"Topic2\", \"Topic2\", \"Topic2\", \"Topic2\", \"Topic2\", \"Topic2\", \"Topic2\", \"Topic2\", \"Topic2\", \"Topic2\", \"Topic2\", \"Topic2\", \"Topic2\", \"Topic2\", \"Topic2\", \"Topic2\", \"Topic2\", \"Topic2\", \"Topic2\", \"Topic2\", \"Topic2\", \"Topic2\", \"Topic2\", \"Topic2\", \"Topic2\", \"Topic2\", \"Topic2\", \"Topic2\", \"Topic2\", \"Topic2\", \"Topic2\", \"Topic2\", \"Topic2\", \"Topic2\", \"Topic2\", \"Topic2\", \"Topic2\", \"Topic2\", \"Topic2\", \"Topic2\", \"Topic2\", \"Topic2\", \"Topic2\", \"Topic2\", \"Topic2\", \"Topic2\", \"Topic2\", \"Topic2\", \"Topic2\", \"Topic2\", \"Topic2\", \"Topic2\", \"Topic2\", \"Topic2\", \"Topic2\", \"Topic2\", \"Topic2\", \"Topic2\", \"Topic2\", \"Topic2\", \"Topic2\", \"Topic2\", \"Topic2\", \"Topic2\", \"Topic2\", \"Topic2\", \"Topic2\", \"Topic2\", \"Topic2\", \"Topic2\", \"Topic2\", \"Topic2\", \"Topic2\", \"Topic3\", \"Topic3\", \"Topic3\", \"Topic3\", \"Topic3\", \"Topic3\", \"Topic3\", \"Topic3\", \"Topic3\", \"Topic3\", \"Topic3\", \"Topic3\", \"Topic3\", \"Topic3\", \"Topic3\", \"Topic3\", \"Topic3\", \"Topic3\", \"Topic3\", \"Topic3\", \"Topic3\", \"Topic3\", \"Topic3\", \"Topic3\", \"Topic3\", \"Topic3\", \"Topic3\", \"Topic3\", \"Topic3\", \"Topic3\", \"Topic3\", \"Topic3\", \"Topic3\", \"Topic3\", \"Topic3\", \"Topic3\", \"Topic3\", \"Topic3\", \"Topic3\", \"Topic3\", \"Topic3\", \"Topic3\", \"Topic3\", \"Topic3\", \"Topic3\", \"Topic3\", \"Topic3\", \"Topic3\", \"Topic3\", \"Topic3\", \"Topic3\", \"Topic3\", \"Topic3\", \"Topic3\", \"Topic3\", \"Topic3\", \"Topic3\", \"Topic3\", \"Topic3\", \"Topic3\", \"Topic3\", \"Topic3\", \"Topic3\", \"Topic3\", \"Topic3\", \"Topic3\", \"Topic3\", \"Topic3\", \"Topic3\", \"Topic3\", \"Topic3\", \"Topic3\", \"Topic3\", \"Topic3\", \"Topic3\", \"Topic3\", \"Topic3\", \"Topic3\", \"Topic3\", \"Topic3\", \"Topic3\", \"Topic3\", \"Topic3\", \"Topic3\", \"Topic4\", \"Topic4\", \"Topic4\", \"Topic4\", \"Topic4\", \"Topic4\", \"Topic4\", \"Topic4\", \"Topic4\", \"Topic4\", \"Topic4\", \"Topic4\", \"Topic4\", \"Topic4\", \"Topic4\", \"Topic4\", \"Topic4\", \"Topic4\", \"Topic4\", \"Topic4\", \"Topic4\", \"Topic4\", \"Topic4\", \"Topic4\", \"Topic4\", \"Topic4\", \"Topic4\", \"Topic4\", \"Topic4\", \"Topic4\", \"Topic4\", \"Topic4\", \"Topic4\", \"Topic4\", \"Topic4\", \"Topic4\", \"Topic4\", \"Topic4\", \"Topic4\", \"Topic4\", \"Topic4\", \"Topic4\", \"Topic4\", \"Topic4\", \"Topic4\", \"Topic4\", \"Topic4\", \"Topic4\", \"Topic4\", \"Topic4\", \"Topic4\", \"Topic4\", \"Topic4\", \"Topic4\", \"Topic4\", \"Topic4\", \"Topic4\", \"Topic4\", \"Topic4\", \"Topic4\", \"Topic4\", \"Topic4\", \"Topic4\", \"Topic4\", \"Topic4\", \"Topic4\", \"Topic4\", \"Topic4\", \"Topic4\", \"Topic4\", \"Topic4\", \"Topic4\", \"Topic4\", \"Topic4\", \"Topic4\", \"Topic4\", \"Topic4\", \"Topic4\", \"Topic4\", \"Topic4\", \"Topic4\", \"Topic4\", \"Topic4\", \"Topic4\", \"Topic4\", \"Topic4\", \"Topic5\", \"Topic5\", \"Topic5\", \"Topic5\", \"Topic5\", \"Topic5\", \"Topic5\", \"Topic5\", \"Topic5\", \"Topic5\", \"Topic5\", \"Topic5\", \"Topic5\", \"Topic5\", \"Topic5\", \"Topic5\", \"Topic5\", \"Topic5\", \"Topic5\", \"Topic5\", \"Topic5\", \"Topic5\", \"Topic5\", \"Topic5\", \"Topic5\", \"Topic5\", \"Topic5\", \"Topic5\", \"Topic5\", \"Topic5\", \"Topic5\", \"Topic5\", \"Topic5\", \"Topic5\", \"Topic5\", \"Topic5\", \"Topic5\", \"Topic5\", \"Topic5\", \"Topic5\", \"Topic5\", \"Topic5\", \"Topic5\", \"Topic5\", \"Topic5\", \"Topic5\", \"Topic5\", \"Topic5\", \"Topic5\", \"Topic5\", \"Topic5\", \"Topic5\", \"Topic5\", \"Topic5\", \"Topic5\", \"Topic5\", \"Topic5\", \"Topic5\", \"Topic5\", \"Topic5\", \"Topic5\", \"Topic5\", \"Topic5\", \"Topic5\", \"Topic5\", \"Topic5\", \"Topic5\", \"Topic5\", \"Topic5\", \"Topic5\", \"Topic5\", \"Topic5\", \"Topic5\", \"Topic5\", \"Topic5\", \"Topic5\", \"Topic5\", \"Topic5\", \"Topic5\", \"Topic5\", \"Topic5\", \"Topic5\", \"Topic5\", \"Topic5\", \"Topic5\", \"Topic5\", \"Topic5\", \"Topic5\", \"Topic6\", \"Topic6\", \"Topic6\", \"Topic6\", \"Topic6\", \"Topic6\", \"Topic6\", \"Topic6\", \"Topic6\", \"Topic6\", \"Topic6\", \"Topic6\", \"Topic6\", \"Topic6\", \"Topic6\", \"Topic6\", \"Topic6\", \"Topic6\", \"Topic6\", \"Topic6\", \"Topic6\", \"Topic6\", \"Topic6\", \"Topic6\", \"Topic6\", \"Topic6\", \"Topic6\", \"Topic6\", \"Topic6\", \"Topic6\", \"Topic6\", \"Topic6\", \"Topic6\", \"Topic6\", \"Topic6\", \"Topic6\", \"Topic6\", \"Topic6\", \"Topic6\", \"Topic6\", \"Topic6\", \"Topic6\", \"Topic6\", \"Topic6\", \"Topic6\", \"Topic6\", \"Topic6\", \"Topic6\", \"Topic6\", \"Topic6\", \"Topic6\", \"Topic6\", \"Topic6\", \"Topic6\", \"Topic6\", \"Topic6\", \"Topic6\", \"Topic6\", \"Topic6\", \"Topic6\", \"Topic6\", \"Topic6\", \"Topic6\", \"Topic6\", \"Topic6\", \"Topic6\", \"Topic6\", \"Topic6\", \"Topic6\", \"Topic6\", \"Topic6\", \"Topic6\", \"Topic6\", \"Topic6\", \"Topic6\", \"Topic6\", \"Topic6\"], \"Freq\": [8554.0, 8229.0, 2464.0, 6268.0, 9967.0, 2338.0, 4052.0, 2577.0, 5460.0, 2475.0, 19228.0, 4336.0, 4464.0, 4802.0, 1414.0, 8231.0, 1254.0, 1866.0, 4227.0, 6908.0, 3071.0, 1384.0, 3021.0, 7960.0, 1123.0, 6524.0, 2691.0, 2568.0, 6057.0, 6269.0, 696.6403198242188, 609.6948852539062, 377.44378662109375, 328.4993896484375, 321.98382568359375, 296.12249755859375, 247.00340270996094, 243.56906127929688, 231.74790954589844, 204.53236389160156, 197.51751708984375, 178.90023803710938, 176.7738800048828, 149.34434509277344, 148.4537811279297, 141.62962341308594, 139.392333984375, 139.21661376953125, 135.40347290039062, 505.6347961425781, 129.4780731201172, 129.3090362548828, 127.25597381591797, 124.27220916748047, 122.56927490234375, 120.95181274414062, 118.9990234375, 117.15972900390625, 114.02310943603516, 110.89898681640625, 949.7940063476562, 268.6235656738281, 330.3022766113281, 647.67333984375, 211.68495178222656, 982.7760620117188, 857.1343383789062, 313.8043518066406, 481.9544372558594, 4280.23095703125, 474.20989990234375, 513.810302734375, 8282.564453125, 2707.181884765625, 938.1063842773438, 1772.19921875, 1814.1470947265625, 6582.55517578125, 1343.39453125, 630.7900390625, 643.1907958984375, 514.9402465820312, 1977.9920654296875, 806.010498046875, 2136.6025390625, 1596.3665771484375, 5671.6826171875, 948.2061157226562, 1549.0115966796875, 6387.83544921875, 3161.65234375, 2267.7685546875, 1955.1256103515625, 4699.07861328125, 11762.3046875, 7100.3232421875, 2452.717041015625, 2076.4970703125, 3845.68798828125, 5921.8857421875, 3301.269775390625, 8773.1416015625, 2957.794921875, 6557.78955078125, 3158.747802734375, 2730.79150390625, 3316.930908203125, 3360.76904296875, 4059.7880859375, 4479.00732421875, 4798.88671875, 6858.40771484375, 3741.05810546875, 4229.2705078125, 4306.6943359375, 4385.58203125, 3656.49951171875, 4036.010498046875, 3543.05322265625, 3480.854736328125, 3336.495361328125, 3260.69921875, 3224.904541015625, 950.4833984375, 547.309814453125, 475.4280700683594, 442.146728515625, 430.3187255859375, 342.9287109375, 336.8262634277344, 330.6898498535156, 317.55169677734375, 299.4188537597656, 285.8789367675781, 277.4717712402344, 271.93145751953125, 259.9974060058594, 254.68826293945312, 248.1812286376953, 247.13552856445312, 237.7722625732422, 223.7850799560547, 221.5659942626953, 220.4246063232422, 219.07664489746094, 210.92721557617188, 209.04466247558594, 197.4991455078125, 176.67091369628906, 174.0798797607422, 169.7307586669922, 170.73440551757812, 168.55804443359375, 286.3487243652344, 905.7860717773438, 431.80108642578125, 447.12237548828125, 447.70465087890625, 747.6397705078125, 412.3814697265625, 345.8328552246094, 3320.167236328125, 438.11541748046875, 370.0079040527344, 1992.08251953125, 560.818603515625, 1788.40771484375, 777.458251953125, 849.1090698242188, 683.1292114257812, 1347.333984375, 2759.71533203125, 1642.959228515625, 1405.5606689453125, 1293.7210693359375, 2011.84130859375, 818.4088745117188, 4024.366455078125, 1377.859375, 1180.6541748046875, 1600.421142578125, 2020.7476806640625, 2262.598876953125, 1274.0699462890625, 812.5358276367188, 2567.334228515625, 3484.99658203125, 2719.73095703125, 2724.642578125, 1419.73095703125, 2625.165771484375, 2261.990234375, 3093.113037109375, 2381.20654296875, 2417.65869140625, 2832.219970703125, 1788.6571044921875, 1765.9298095703125, 2745.2578125, 3597.673828125, 1879.5594482421875, 2535.40966796875, 2455.13427734375, 2334.499755859375, 2002.0506591796875, 2519.787841796875, 2765.705322265625, 2032.859619140625, 2375.5859375, 1844.4351806640625, 449.94366455078125, 373.77337646484375, 266.5752258300781, 264.6978759765625, 241.28077697753906, 231.04550170898438, 227.6940460205078, 217.56158447265625, 195.78175354003906, 187.2692108154297, 184.52955627441406, 182.10423278808594, 336.44598388671875, 180.28028869628906, 177.68194580078125, 177.02008056640625, 176.1441650390625, 175.08087158203125, 170.45973205566406, 167.46505737304688, 162.74449157714844, 162.06553649902344, 154.8354949951172, 149.43040466308594, 148.3013916015625, 142.3181610107422, 141.96615600585938, 141.4185333251953, 139.5855712890625, 135.30624389648438, 290.7931823730469, 402.9865417480469, 255.60870361328125, 390.4375915527344, 742.9998779296875, 783.9494018554688, 251.19671630859375, 222.97691345214844, 365.07122802734375, 400.91033935546875, 671.2513427734375, 1681.411376953125, 1038.7630615234375, 373.7521667480469, 289.52020263671875, 1128.555419921875, 308.7211608886719, 964.2205810546875, 280.7938537597656, 653.2655639648438, 1999.7208251953125, 314.22430419921875, 2414.12109375, 2153.427734375, 2098.176025390625, 3020.795654296875, 1570.23583984375, 1403.268798828125, 620.5863647460938, 1759.6192626953125, 782.0217895507812, 953.976806640625, 1815.9559326171875, 2261.100830078125, 1972.7333984375, 1787.223876953125, 1841.2568359375, 1911.7562255859375, 1742.701171875, 2981.777587890625, 2037.943115234375, 1406.9498291015625, 1773.221435546875, 2041.7650146484375, 1203.1756591796875, 974.3642578125, 1626.9300537109375, 1725.4781494140625, 1739.2691650390625, 1206.7781982421875, 1270.7454833984375, 1301.1715087890625, 1265.5042724609375, 1224.0496826171875, 433.5647888183594, 425.0444030761719, 392.08831787109375, 303.84515380859375, 295.22576904296875, 285.9246826171875, 282.72802734375, 257.5174255371094, 246.78802490234375, 234.5045166015625, 234.14752197265625, 221.83660888671875, 219.21771240234375, 215.4330596923828, 206.93116760253906, 187.7277069091797, 186.0126953125, 179.30087280273438, 159.88900756835938, 158.4555206298828, 153.75071716308594, 149.75762939453125, 143.76486206054688, 142.25527954101562, 142.06893920898438, 136.9335174560547, 128.89694213867188, 126.85977172851562, 124.57341003417969, 124.48079681396484, 255.7615203857422, 302.31658935546875, 376.3766174316406, 448.593017578125, 1367.9552001953125, 364.8664855957031, 2245.506103515625, 809.92724609375, 1326.180419921875, 1006.2272338867188, 856.8511352539062, 1467.5277099609375, 582.9137573242188, 471.1483459472656, 2657.517578125, 1843.496826171875, 553.489013671875, 2056.681396484375, 1425.5335693359375, 1234.3421630859375, 4262.40625, 544.6510009765625, 4176.83837890625, 487.1253356933594, 2797.426513671875, 1733.7757568359375, 595.0525512695312, 1762.3282470703125, 1067.38818359375, 826.0905151367188, 2379.9384765625, 2154.834716796875, 2710.344970703125, 813.1470947265625, 1529.4344482421875, 2209.964599609375, 2204.988037109375, 796.587890625, 1027.1373291015625, 1507.7568359375, 2583.718994140625, 3280.439453125, 2614.350341796875, 3027.48681640625, 2569.55029296875, 2703.158447265625, 1324.072265625, 1843.5799560546875, 1696.1917724609375, 1430.6480712890625, 1727.0140380859375, 1602.0499267578125, 1643.3927001953125, 1623.90771484375, 1596.0006103515625, 1506.7705078125, 902.064208984375, 829.084228515625, 461.1348571777344, 293.81195068359375, 290.6557922363281, 265.91656494140625, 268.1877136230469, 256.82354736328125, 242.431396484375, 226.4503936767578, 224.49295043945312, 214.7707061767578, 213.53494262695312, 198.4397735595703, 184.3144989013672, 183.53668212890625, 180.94671630859375, 176.3820343017578, 174.4690704345703, 174.44869995117188, 164.55987548828125, 160.0774688720703, 153.98631286621094, 149.30198669433594, 144.09356689453125, 143.27557373046875, 142.55784606933594, 132.58676147460938, 133.3236083984375, 132.20126342773438, 201.61839294433594, 972.9905395507812, 443.8019714355469, 403.0614318847656, 1758.905517578125, 2270.763916015625, 409.2035217285156, 468.6422119140625, 486.6807556152344, 676.2584838867188, 349.04412841796875, 191.07798767089844, 773.7225952148438, 280.5508728027344, 262.50567626953125, 1345.9833984375, 280.6463623046875, 556.7765502929688, 705.3015747070312, 598.9927978515625, 874.5912475585938, 1243.75537109375, 586.3773803710938, 501.5751647949219, 475.29742431640625, 925.774658203125, 547.3804321289062, 820.3012084960938, 1119.318115234375, 1070.052978515625, 1127.1605224609375, 1091.5059814453125, 1459.193359375, 1569.4493408203125, 1272.5865478515625, 1004.7134399414062, 1503.129150390625, 1627.236572265625, 1528.701416015625, 793.52880859375, 2609.18212890625, 1014.9243774414062, 1187.185791015625, 1823.913330078125, 1011.181396484375, 1592.093017578125, 1810.9322509765625, 1468.16845703125, 1289.9029541015625, 1306.6285400390625, 1291.5985107421875, 1066.4990234375, 1129.5931396484375, 1125.6190185546875, 1040.1002197265625, 1044.5755615234375, 1038.4630126953125, 1030.50048828125, 391.68109130859375, 361.37847900390625, 238.9749755859375, 743.8469848632812, 202.1778564453125, 187.6128692626953, 166.37234497070312, 163.6610870361328, 161.1515350341797, 157.29867553710938, 155.72357177734375, 149.19647216796875, 149.02767944335938, 143.51129150390625, 129.8313751220703, 128.71627807617188, 119.61370086669922, 118.42585754394531, 110.91627502441406, 110.08712768554688, 103.87752532958984, 102.35818481445312, 100.16817474365234, 95.73003387451172, 95.33821105957031, 94.22563171386719, 90.47908782958984, 89.61473846435547, 88.76868438720703, 86.83654022216797, 339.89410400390625, 206.9153594970703, 231.48023986816406, 218.2391357421875, 1159.01611328125, 493.41546630859375, 508.701904296875, 1006.1696166992188, 769.4085083007812, 424.4671325683594, 233.3152313232422, 2079.603759765625, 279.5456237792969, 812.8534545898438, 730.9762573242188, 748.9884643554688, 1063.167724609375, 1608.075439453125, 983.2035522460938, 463.23590087890625, 523.480224609375, 220.70944213867188, 309.20916748046875, 237.85362243652344, 530.7322387695312, 488.9072570800781, 459.7991943359375, 367.1772766113281, 423.8895568847656, 444.1364440917969, 501.64404296875, 372.11065673828125, 1028.0921630859375, 341.0975036621094, 395.3502502441406, 887.2681274414062, 659.0933227539062, 685.0082397460938, 545.6747436523438, 629.6725463867188, 559.1302490234375, 617.6729736328125, 540.5347290039062, 522.3321533203125, 546.3104248046875, 526.6236572265625, 521.1490478515625], \"Term\": [\"car\", \"police\", \"harry\", \"love\", \"says\", \"king\", \"gun\", \"charlie\", \"money\", \"ship\", \"tells\", \"school\", \"jack\", \"door\", \"jane\", \"room\", \"prince\", \"earth\", \"tom\", \"men\", \"shoots\", \"queen\", \"frank\", \"mother\", \"castle\", \"killed\", \"gang\", \"joe\", \"film\", \"kill\", \"nina\", \"holmes\", \"charley\", \"cathy\", \"sadie\", \"hes\", \"bridget\", \"doesnt\", \"abigail\", \"mikey\", \"shes\", \"nell\", \"greta\", \"mattie\", \"muriel\", \"lindsey\", \"everly\", \"duane\", \"nandini\", \"rebecca\", \"karin\", \"chucky\", \"hutch\", \"coraline\", \"samir\", \"heathcliff\", \"lina\", \"kitten\", \"ig\", \"scissors\", \"emma\", \"stares\", \"attic\", \"norman\", \"agnes\", \"screams\", \"upstairs\", \"scream\", \"todd\", \"door\", \"doll\", \"downstairs\", \"says\", \"looks\", \"bedroom\", \"jerry\", \"sarah\", \"room\", \"alice\", \"stairs\", \"holly\", \"screaming\", \"bed\", \"claire\", \"peter\", \"floor\", \"see\", \"cat\", \"hears\", \"asks\", \"tom\", \"walks\", \"window\", \"sees\", \"tells\", \"house\", \"david\", \"something\", \"woman\", \"goes\", \"around\", \"back\", \"runs\", \"man\", \"body\", \"dr\", \"comes\", \"like\", \"next\", \"away\", \"go\", \"one\", \"gets\", \"finds\", \"home\", \"get\", \"night\", \"find\", \"mother\", \"car\", \"tries\", \"time\", \"takes\", \"marty\", \"ronnie\", \"daffy\", \"mitch\", \"jess\", \"zack\", \"porky\", \"tess\", \"sid\", \"lola\", \"peggy\", \"zach\", \"nicky\", \"dewey\", \"producer\", \"billie\", \"pam\", \"manny\", \"irving\", \"prom\", \"biff\", \"monty\", \"rosie\", \"sidney\", \"lenny\", \"stu\", \"jen\", \"audrey\", \"quentin\", \"mimi\", \"oscar\", \"larry\", \"rita\", \"judy\", \"sue\", \"julie\", \"football\", \"greg\", \"school\", \"carrie\", \"gay\", \"joe\", \"molly\", \"george\", \"kevin\", \"dave\", \"linda\", \"danny\", \"jack\", \"relationship\", \"bill\", \"york\", \"show\", \"band\", \"new\", \"sex\", \"nick\", \"job\", \"party\", \"friends\", \"max\", \"date\", \"film\", \"home\", \"life\", \"mother\", \"year\", \"day\", \"love\", \"time\", \"family\", \"first\", \"father\", \"work\", \"becomes\", \"get\", \"one\", \"friend\", \"go\", \"later\", \"also\", \"make\", \"two\", \"back\", \"night\", \"tells\", \"goes\", \"raj\", \"karan\", \"ajay\", \"vijay\", \"yi\", \"raja\", \"vikram\", \"kumar\", \"rahul\", \"chan\", \"jai\", \"priya\", \"singh\", \"ursula\", \"rama\", \"thakur\", \"communist\", \"omar\", \"valjean\", \"rohit\", \"wang\", \"kapoor\", \"aiden\", \"dev\", \"iago\", \"sunita\", \"karthik\", \"pooja\", \"kishen\", \"sanjay\", \"sonia\", \"india\", \"li\", \"political\", \"german\", \"british\", \"germans\", \"hitler\", \"ali\", \"khan\", \"french\", \"war\", \"village\", \"minister\", \"hong\", \"army\", \"nazi\", \"american\", \"germany\", \"court\", \"son\", \"rome\", \"family\", \"love\", \"film\", \"father\", \"daughter\", \"brother\", \"government\", \"young\", \"soldiers\", \"prison\", \"wife\", \"also\", \"however\", \"killed\", \"men\", \"life\", \"death\", \"one\", \"later\", \"years\", \"police\", \"two\", \"story\", \"murder\", \"new\", \"time\", \"man\", \"becomes\", \"kill\", \"day\", \"mother\", \"help\", \"clayton\", \"sonny\", \"que\", \"posse\", \"linus\", \"wyatt\", \"butch\", \"skye\", \"riggs\", \"hornblower\", \"chad\", \"lai\", \"castor\", \"snoopy\", \"dude\", \"jody\", \"murtaugh\", \"esteban\", \"brody\", \"kabir\", \"winnie\", \"reacher\", \"mallory\", \"vinny\", \"libby\", \"sissi\", \"mcclane\", \"chong\", \"cordell\", \"herod\", \"vic\", \"saloon\", \"archer\", \"ranch\", \"sheriff\", \"wade\", \"charlie\", \"rocky\", \"jake\", \"jeff\", \"roy\", \"johnny\", \"fbi\", \"hank\", \"gun\", \"gang\", \"jesse\", \"shoots\", \"truck\", \"billy\", \"police\", \"cops\", \"car\", \"robbery\", \"money\", \"frank\", \"cop\", \"shot\", \"jim\", \"bank\", \"john\", \"town\", \"men\", \"lee\", \"michael\", \"kill\", \"killed\", \"shooting\", \"shoot\", \"kills\", \"get\", \"tells\", \"two\", \"back\", \"man\", \"one\", \"killing\", \"find\", \"take\", \"jack\", \"go\", \"gets\", \"away\", \"goes\", \"takes\", \"house\", \"alien\", \"planet\", \"aliens\", \"scientists\", \"hercules\", \"goku\", \"ariel\", \"missile\", \"superman\", \"ninja\", \"elmer\", \"mutant\", \"xavier\", \"spock\", \"riddick\", \"submarine\", \"robots\", \"zed\", \"godzilla\", \"shuttle\", \"scooby\", \"katniss\", \"spaceship\", \"zeus\", \"shaggy\", \"robocop\", \"magneto\", \"megatron\", \"pluto\", \"wolverine\", \"pod\", \"bugs\", \"virus\", \"robot\", \"earth\", \"ship\", \"aircraft\", \"nuclear\", \"kirk\", \"humans\", \"rocket\", \"turtles\", \"base\", \"technology\", \"ash\", \"crew\", \"pirates\", \"device\", \"space\", \"dragon\", \"bond\", \"island\", \"pilot\", \"survivors\", \"facility\", \"mission\", \"spider\", \"destroy\", \"human\", \"battle\", \"control\", \"power\", \"team\", \"world\", \"attack\", \"captain\", \"city\", \"group\", \"escape\", \"rescue\", \"one\", \"use\", \"fight\", \"two\", \"war\", \"find\", \"back\", \"time\", \"however\", \"new\", \"also\", \"dr\", \"kill\", \"help\", \"killed\", \"take\", \"way\", \"first\", \"dracula\", \"bella\", \"loki\", \"batman\", \"cinderella\", \"hazel\", \"reece\", \"fairies\", \"potion\", \"helsing\", \"gotham\", \"dant\", \"clouseau\", \"odysseus\", \"aladdin\", \"merlin\", \"angier\", \"fernand\", \"jekyll\", \"lancelot\", \"holli\", \"babe\", \"selene\", \"gerda\", \"ness\", \"bess\", \"frollo\", \"elvira\", \"antoinette\", \"bertram\", \"joker\", \"fiona\", \"elsa\", \"romeo\", \"prince\", \"vampires\", \"jacob\", \"castle\", \"vampire\", \"ivan\", \"juliet\", \"harry\", \"fairy\", \"edward\", \"sir\", \"arthur\", \"jane\", \"king\", \"queen\", \"count\", \"princess\", \"edmund\", \"gabriel\", \"belle\", \"bruce\", \"magic\", \"victor\", \"witch\", \"robin\", \"snow\", \"lady\", \"duke\", \"love\", \"palace\", \"lord\", \"one\", \"however\", \"two\", \"return\", \"father\", \"life\", \"back\", \"away\", \"death\", \"tells\", \"time\", \"takes\"], \"Total\": [8554.0, 8229.0, 2464.0, 6268.0, 9967.0, 2338.0, 4052.0, 2577.0, 5460.0, 2475.0, 19228.0, 4336.0, 4464.0, 4802.0, 1414.0, 8231.0, 1254.0, 1866.0, 4227.0, 6908.0, 3071.0, 1384.0, 3021.0, 7960.0, 1123.0, 6524.0, 2691.0, 2568.0, 6057.0, 6269.0, 697.5230102539062, 610.575439453125, 378.3278503417969, 329.38330078125, 322.86322021484375, 297.0158996582031, 247.89297485351562, 244.44920349121094, 232.62928771972656, 205.4130859375, 198.39610290527344, 179.78314208984375, 177.6531219482422, 150.227294921875, 149.33755493164062, 142.51133728027344, 140.26861572265625, 140.1031036376953, 136.28213500976562, 509.0645751953125, 130.35702514648438, 130.18814086914062, 128.14212036132812, 125.14852905273438, 123.45475006103516, 121.82833099365234, 119.88411712646484, 118.04364013671875, 114.90010070800781, 111.77951049804688, 967.6813354492188, 270.9109191894531, 335.2132873535156, 662.4146728515625, 214.08412170410156, 1012.1693725585938, 888.72412109375, 321.2575378417969, 504.5500183105469, 4802.3212890625, 497.6053161621094, 545.4120483398438, 9967.1728515625, 3106.36083984375, 1028.0540771484375, 2008.2574462890625, 2066.9697265625, 8231.4677734375, 1518.6326904296875, 680.7531127929688, 695.8369140625, 548.7697143554688, 2336.508056640625, 888.8160400390625, 2586.981689453125, 1912.5400390625, 7965.82666015625, 1082.90380859375, 1885.8787841796875, 9271.5830078125, 4227.06884765625, 2898.600830078125, 2464.311767578125, 6692.31640625, 19228.3125, 11240.01953125, 3336.40185546875, 2789.242919921875, 5947.26611328125, 10486.255859375, 5086.71484375, 18020.458984375, 4517.38916015625, 13163.3369140625, 5067.29052734375, 4167.55517578125, 5648.7998046875, 5927.3984375, 7934.951171875, 9258.806640625, 10366.0439453125, 19637.466796875, 7569.4736328125, 9564.4814453125, 10363.025390625, 11004.294921875, 8047.08837890625, 10026.873046875, 7960.83837890625, 8554.4609375, 7506.880859375, 10775.8564453125, 8955.0146484375, 951.3818969726562, 548.2092895507812, 476.3279113769531, 443.04779052734375, 431.2192077636719, 343.8279113769531, 337.7254638671875, 331.58868408203125, 318.4520568847656, 300.3218688964844, 286.7809753417969, 278.3710021972656, 272.833740234375, 260.89892578125, 255.5897216796875, 249.0817413330078, 248.03541564941406, 238.67266845703125, 224.68426513671875, 222.46377563476562, 221.32147216796875, 219.9801788330078, 211.828857421875, 209.94493103027344, 198.39773559570312, 177.56976318359375, 174.9829559326172, 170.631591796875, 171.64173889160156, 169.4573974609375, 290.7265930175781, 943.0994873046875, 447.893798828125, 468.8899230957031, 472.13116455078125, 815.3246459960938, 434.5175476074219, 361.8060607910156, 4336.80029296875, 468.4400939941406, 391.5859680175781, 2568.279296875, 637.5048217773438, 2490.66015625, 940.910888671875, 1044.280517578125, 815.2942504882812, 1844.796875, 4464.85302734375, 2404.71533203125, 2115.84765625, 1912.30810546875, 3399.022216796875, 1073.8585205078125, 9113.84765625, 2221.85107421875, 1820.67138671875, 2792.797119140625, 3860.450439453125, 4533.2705078125, 2116.762451171875, 1118.4736328125, 6057.8330078125, 10363.025390625, 7458.029296875, 7960.83837890625, 2817.716796875, 8002.98583984375, 6268.04541015625, 10775.8564453125, 7165.162109375, 7385.43359375, 10385.69140625, 4482.30322265625, 4371.7919921875, 11004.294921875, 19637.466796875, 5004.1611328125, 10366.0439453125, 9758.361328125, 9186.65625, 6136.86962890625, 12856.623046875, 18020.458984375, 8047.08837890625, 19228.3125, 10486.255859375, 450.8558044433594, 374.6849365234375, 267.4896240234375, 265.6121826171875, 242.1934051513672, 231.95985412597656, 228.60562133789062, 218.47549438476562, 196.69322204589844, 188.1851806640625, 185.44717407226562, 183.01638793945312, 338.1600646972656, 181.20274353027344, 178.59671020507812, 177.9324493408203, 177.06158447265625, 176.0008087158203, 171.37059020996094, 168.37661743164062, 163.66070556640625, 162.97824096679688, 155.75582885742188, 150.3480224609375, 149.21495056152344, 143.22982788085938, 142.87777709960938, 142.32997131347656, 140.49679565429688, 136.2174530029297, 292.8081970214844, 419.74798583984375, 263.4375305175781, 431.53741455078125, 882.0621948242188, 964.5120239257812, 269.263427734375, 236.20407104492188, 421.4656982421875, 482.1135559082031, 924.3154907226562, 2894.517578125, 1653.4771728515625, 464.2264709472656, 335.01226806640625, 1963.3065185546875, 366.59857177734375, 1676.835693359375, 324.8094482421875, 1029.1939697265625, 5129.9580078125, 381.2889099121094, 7165.162109375, 6268.04541015625, 6057.8330078125, 10385.69140625, 4260.8115234375, 3699.242919921875, 1077.6904296875, 5578.91015625, 1564.183349609375, 2155.583740234375, 6240.08837890625, 9186.65625, 7417.1455078125, 6524.73779296875, 6908.759765625, 7458.029296875, 6379.78515625, 19637.466796875, 9758.361328125, 4976.81884765625, 8229.3583984375, 12856.623046875, 4023.443603515625, 2592.348876953125, 9113.84765625, 10775.8564453125, 13163.3369140625, 4371.7919921875, 6269.197265625, 8002.98583984375, 7960.83837890625, 6871.02490234375, 434.4629821777344, 425.9405212402344, 392.9797668457031, 304.74066162109375, 296.1203918457031, 286.8240661621094, 283.6235656738281, 258.41473388671875, 247.679931640625, 235.39659118652344, 235.04483032226562, 222.7299041748047, 220.11288452148438, 216.32708740234375, 207.8252716064453, 188.6233673095703, 186.90438842773438, 180.19898986816406, 160.7859344482422, 159.35528564453125, 154.64862060546875, 150.64926147460938, 144.66297912597656, 143.14903259277344, 142.9641876220703, 137.83206176757812, 129.79054260253906, 127.75476837158203, 125.46575927734375, 125.37641143798828, 258.3548889160156, 308.0693664550781, 385.8728942871094, 462.60382080078125, 1445.8804931640625, 379.1568603515625, 2577.0361328125, 898.6849975585938, 1541.98388671875, 1161.4150390625, 977.268310546875, 1812.7838134765625, 665.8489990234375, 526.689697265625, 4052.133544921875, 2691.640869140625, 655.390380859375, 3071.128662109375, 2005.5186767578125, 1781.3360595703125, 8229.3583984375, 658.30224609375, 8554.4609375, 579.177978515625, 5460.39306640625, 3021.008544921875, 754.4303588867188, 3272.668212890625, 1697.0859375, 1200.0260009765625, 5222.31201171875, 4866.8017578125, 6908.759765625, 1215.871337890625, 3292.775390625, 6269.197265625, 6524.73779296875, 1208.894287109375, 1890.81494140625, 3812.38525390625, 11004.294921875, 19228.3125, 12856.623046875, 18020.458984375, 13163.3369140625, 19637.466796875, 3440.34765625, 10026.873046875, 8000.9970703125, 4464.85302734375, 10366.0439453125, 7569.4736328125, 9258.806640625, 10486.255859375, 8955.0146484375, 11240.01953125, 902.9642333984375, 829.9832763671875, 462.0352783203125, 294.7127990722656, 291.55584716796875, 266.8127136230469, 269.0920715332031, 257.72308349609375, 243.3331298828125, 227.34918212890625, 225.3951416015625, 215.6688232421875, 214.43710327148438, 199.33595275878906, 185.2109832763672, 184.4381866455078, 181.8445281982422, 177.28219604492188, 175.36537170410156, 175.3463592529297, 165.46051025390625, 160.974853515625, 154.88461303710938, 150.20469665527344, 144.99525451660156, 144.1748809814453, 143.4541778564453, 133.48281860351562, 134.22515869140625, 133.09848022460938, 203.2018280029297, 997.3716430664062, 452.039306640625, 413.9801330566406, 1866.65087890625, 2475.11376953125, 423.9884948730469, 487.98065185546875, 515.8836669921875, 733.0550537109375, 373.2516174316406, 193.75991821289062, 911.6250610351562, 296.0041198730469, 275.1930847167969, 1769.6553955078125, 298.0245361328125, 656.9739379882812, 867.0380859375, 728.67431640625, 1148.642822265625, 1771.8316650390625, 719.349853515625, 612.330322265625, 581.9076538085938, 1373.9927978515625, 698.2509155273438, 1182.538818359375, 1838.7117919921875, 1818.179443359375, 1957.2918701171875, 1884.9791259765625, 3001.7353515625, 3545.344482421875, 2914.093017578125, 1954.528564453125, 3890.3515625, 4772.2734375, 4556.8857421875, 1444.4725341796875, 19637.466796875, 2672.110595703125, 4186.04638671875, 12856.623046875, 2894.517578125, 10026.873046875, 18020.458984375, 10775.8564453125, 7417.1455078125, 9113.84765625, 9186.65625, 4167.55517578125, 6269.197265625, 6871.02490234375, 6524.73779296875, 8000.9970703125, 6722.9013671875, 7385.43359375, 392.58709716796875, 362.28759765625, 239.8823699951172, 746.906982421875, 203.0840301513672, 188.52267456054688, 167.2816619873047, 164.56800842285156, 162.0616455078125, 158.20440673828125, 156.63046264648438, 150.10125732421875, 149.9337158203125, 144.41647338867188, 130.7370147705078, 129.62632751464844, 120.51890563964844, 119.33171081542969, 111.8219223022461, 110.99334716796875, 104.78367614746094, 103.26992797851562, 101.07386779785156, 96.6382064819336, 96.249267578125, 95.13908386230469, 91.38432312011719, 90.52603912353516, 89.67564392089844, 87.74325561523438, 345.6078796386719, 210.1938934326172, 235.47348022460938, 222.08680725097656, 1254.9267578125, 523.0478515625, 545.8379516601562, 1123.5694580078125, 850.9717407226562, 455.41131591796875, 244.28260803222656, 2464.9189453125, 298.58990478515625, 966.3126220703125, 862.915283203125, 914.6804809570312, 1414.3045654296875, 2338.5380859375, 1384.65673828125, 573.5787963867188, 682.0939331054688, 240.46067810058594, 381.26800537109375, 272.98175048828125, 833.0594482421875, 806.1448364257812, 789.09521484375, 554.760009765625, 741.31201171875, 833.73974609375, 1102.962158203125, 625.6338500976562, 6268.04541015625, 544.4569091796875, 895.3614501953125, 19637.466796875, 7417.1455078125, 12856.623046875, 4242.72705078125, 10385.69140625, 7458.029296875, 18020.458984375, 9258.806640625, 6379.78515625, 19228.3125, 10775.8564453125, 8955.0146484375], \"loglift\": [30.0, 29.0, 28.0, 27.0, 26.0, 25.0, 24.0, 23.0, 22.0, 21.0, 20.0, 19.0, 18.0, 17.0, 16.0, 15.0, 14.0, 13.0, 12.0, 11.0, 10.0, 9.0, 8.0, 7.0, 6.0, 5.0, 4.0, 3.0, 2.0, 1.0, 1.2390999794006348, 1.2388999462127686, 1.2380000352859497, 1.2375999689102173, 1.2375999689102173, 1.2373000383377075, 1.2367000579833984, 1.2367000579833984, 1.2365000247955322, 1.2359999418258667, 1.2359000444412231, 1.2353999614715576, 1.2353999614715576, 1.2344000339508057, 1.2344000339508057, 1.2340999841690063, 1.2340999841690063, 1.2339999675750732, 1.2338999509811401, 1.2336000204086304, 1.2336000204086304, 1.2336000204086304, 1.2333999872207642, 1.233299970626831, 1.2331000566482544, 1.2331000566482544, 1.2329000234603882, 1.232800006866455, 1.232699990272522, 1.2323999404907227, 1.2216999530792236, 1.2318999767303467, 1.225600004196167, 1.2178000211715698, 1.229099988937378, 1.2108999490737915, 1.2041000127792358, 1.2168999910354614, 1.1944999694824219, 1.1252000331878662, 1.192199945449829, 1.1806000471115112, 1.0551999807357788, 1.1028000116348267, 1.148800015449524, 1.1153000593185425, 1.1098999977111816, 1.016800045967102, 1.1176999807357788, 1.1641000509262085, 1.1617000102996826, 1.1766999959945679, 1.073799967765808, 1.1425000429153442, 1.0491000413894653, 1.0595999956130981, 0.9006999731063843, 1.1074999570846558, 1.0435999631881714, 0.8677999973297119, 0.9498999714851379, 0.9948999881744385, 1.0089000463485718, 0.8866999745368958, 0.7488999962806702, 0.781000018119812, 0.9326000213623047, 0.9452000260353088, 0.8044000267982483, 0.6689000129699707, 0.8080000281333923, 0.5205000042915344, 0.8167999982833862, 0.5436000227928162, 0.7677000164985657, 0.8176000118255615, 0.7078999876976013, 0.6729000210762024, 0.5702000260353088, 0.51419997215271, 0.4702000021934509, 0.188400000333786, 0.5356000065803528, 0.4242999851703644, 0.36230000853538513, 0.3203999996185303, 0.4514999985694885, 0.3303000032901764, 0.4307999908924103, 0.34119999408721924, 0.4293999969959259, 0.04500000178813934, 0.21899999678134918, 1.6123000383377075, 1.6116000413894653, 1.6114000082015991, 1.611199975013733, 1.611199975013733, 1.6105999946594238, 1.6105999946594238, 1.6105999946594238, 1.6103999614715576, 1.6102999448776245, 1.6101000308990479, 1.6100000143051147, 1.6100000143051147, 1.6097999811172485, 1.6096999645233154, 1.6095999479293823, 1.6095999479293823, 1.6095000505447388, 1.6093000173568726, 1.6092000007629395, 1.6092000007629395, 1.6092000007629395, 1.6089999675750732, 1.6089999675750732, 1.6087000370025635, 1.608199954032898, 1.6081000566482544, 1.6080000400543213, 1.6080000400543213, 1.6079000234603882, 1.598099946975708, 1.5729000568389893, 1.57669997215271, 1.5657000541687012, 1.5600999593734741, 1.5266000032424927, 1.5609999895095825, 1.5680999755859375, 1.3460999727249146, 1.5463000535964966, 1.5565999746322632, 1.3592000007629395, 1.4851000308990479, 1.281999945640564, 1.4223999977111816, 1.4063999652862549, 1.436400055885315, 1.2990000247955322, 1.132200002670288, 1.232300043106079, 1.204200029373169, 1.222499966621399, 1.0887999534606934, 1.341599941253662, 0.795799970626831, 1.1354999542236328, 1.1800999641418457, 1.05649995803833, 0.9659000039100647, 0.9182999730110168, 1.1055999994277954, 1.2936999797821045, 0.754800021648407, 0.5235000252723694, 0.6044999957084656, 0.541100025177002, 0.9277999997138977, 0.4986000061035156, 0.593999981880188, 0.3650999963283539, 0.5116000175476074, 0.4966000020503998, 0.3138999938964844, 0.694599986076355, 0.7067999839782715, 0.2249000072479248, -0.08389999717473984, 0.6340000033378601, 0.20509999990463257, 0.23330000042915344, 0.24330000579357147, 0.49309998750686646, -0.01640000008046627, -0.26089999079704285, 0.23739999532699585, -0.4778999984264374, -0.12460000067949295, 1.8006999492645264, 1.8003000020980835, 1.799299955368042, 1.799299955368042, 1.7989000082015991, 1.798799991607666, 1.798699975013733, 1.7984999418258667, 1.7980999946594238, 1.7977999448776245, 1.7977999448776245, 1.797700047492981, 1.7976000308990479, 1.7976000308990479, 1.7976000308990479, 1.7976000308990479, 1.7975000143051147, 1.7975000143051147, 1.7973999977111816, 1.7972999811172485, 1.7970999479293823, 1.7970999479293823, 1.7968000173568726, 1.7965999841690063, 1.7965999841690063, 1.7963000535964966, 1.7963000535964966, 1.7963000535964966, 1.7962000370025635, 1.7960000038146973, 1.795799970626831, 1.7619999647140503, 1.7725000381469727, 1.7026000022888184, 1.631100058555603, 1.5953999757766724, 1.733299970626831, 1.7451000213623047, 1.65910005569458, 1.618299961090088, 1.482800006866455, 1.2595000267028809, 1.3379000425338745, 1.5858999490737915, 1.6568000316619873, 1.2489999532699585, 1.6309000253677368, 1.249400019645691, 1.657099962234497, 1.3481999635696411, 0.8605999946594238, 1.6093000173568726, 0.7148000001907349, 0.7343000173568726, 0.7423999905586243, 0.567799985408783, 0.8044999837875366, 0.8334000110626221, 1.2508000135421753, 0.6488000154495239, 1.1095000505447388, 0.987500011920929, 0.5683000087738037, 0.4007999897003174, 0.478300005197525, 0.5077999830245972, 0.4803999960422516, 0.4413999915122986, 0.5049999952316284, -0.08219999819993973, 0.23649999499320984, 0.5393000245094299, 0.2678000032901764, -0.037300001829862595, 0.5954999923706055, 0.8241999745368958, 0.07959999889135361, -0.029100000858306885, -0.22130000591278076, 0.515500009059906, 0.20669999718666077, -0.013799999840557575, -0.03629999980330467, 0.07760000228881836, 1.9239000082015991, 1.9239000082015991, 1.923699975013733, 1.9230999946594238, 1.9229999780654907, 1.9228999614715576, 1.9227999448776245, 1.9225000143051147, 1.9223999977111816, 1.9221999645233154, 1.9221999645233154, 1.9220000505447388, 1.9219000339508057, 1.9219000339508057, 1.9217000007629395, 1.9212000370025635, 1.9212000370025635, 1.9210000038146973, 1.9204000234603882, 1.920300006866455, 1.920199990272522, 1.9200999736785889, 1.919800043106079, 1.919700026512146, 1.919700026512146, 1.9194999933242798, 1.919100046157837, 1.9190000295639038, 1.9189000129699707, 1.9187999963760376, 1.9158999919891357, 1.9071999788284302, 1.9011000394821167, 1.8952000141143799, 1.8705999851226807, 1.8875999450683594, 1.7883000373840332, 1.8220000267028809, 1.7752000093460083, 1.7826000452041626, 1.7944999933242798, 1.7146999835968018, 1.7929999828338623, 1.8145999908447266, 1.50409996509552, 1.5475000143051147, 1.7569999694824219, 1.524999976158142, 1.5845999717712402, 1.5592000484466553, 1.2681000232696533, 1.7365000247955322, 1.2091000080108643, 1.7529000043869019, 1.257200002670288, 1.3707000017166138, 1.6886999607086182, 1.3070000410079956, 1.4622999429702759, 1.5526000261306763, 1.1401000022888184, 1.111299991607666, 0.9902999997138977, 1.5236999988555908, 1.1591999530792236, 0.8833000063896179, 0.8410999774932861, 1.5089000463485718, 1.3157999515533447, 0.9983999729156494, 0.47690001130104065, 0.15760000050067902, 0.33320000767707825, 0.14219999313354492, 0.2922999858856201, -0.05700000002980232, 0.9710999727249146, 0.23240000009536743, 0.3747999966144562, 0.7878999710083008, 0.1339000016450882, 0.373199999332428, 0.1972000002861023, 0.06080000102519989, 0.2012999951839447, -0.08349999785423279, 1.968500018119812, 1.968400001525879, 1.9674999713897705, 1.9664000272750854, 1.9664000272750854, 1.9660999774932861, 1.9660999774932861, 1.965999960899353, 1.9658000469207764, 1.965499997138977, 1.965499997138977, 1.9652999639511108, 1.9652999639511108, 1.965000033378601, 1.9645999670028687, 1.9645999670028687, 1.9644999504089355, 1.964400053024292, 1.964400053024292, 1.9643000364303589, 1.9639999866485596, 1.9638999700546265, 1.9637000560760498, 1.9635000228881836, 1.9631999731063843, 1.9631999731063843, 1.9631999731063843, 1.9627000093460083, 1.9627000093460083, 1.9627000093460083, 1.9616999626159668, 1.944700002670288, 1.9510999917984009, 1.9428000450134277, 1.909999966621399, 1.8832999467849731, 1.934000015258789, 1.9290000200271606, 1.9112000465393066, 1.888800024986267, 1.902400016784668, 1.9555000066757202, 1.8055000305175781, 1.9158999919891357, 1.9222999811172485, 1.6957999467849731, 1.9093999862670898, 1.8040000200271606, 1.7630000114440918, 1.7734999656677246, 1.6969000101089478, 1.6155999898910522, 1.7651000022888184, 1.7699999809265137, 1.7670999765396118, 1.5745999813079834, 1.7259999513626099, 1.603700041770935, 1.473099946975708, 1.4393999576568604, 1.4176000356674194, 1.4230999946594238, 1.2482000589370728, 1.1546000242233276, 1.1410000324249268, 1.3040000200271606, 1.0184999704360962, 0.8934999704360962, 0.8773000240325928, 1.3704999685287476, -0.048900000751018524, 1.0013999938964844, 0.7092999815940857, 0.016599999740719795, 0.9178000092506409, 0.12929999828338623, -0.32820001244544983, -0.023800000548362732, 0.22030000388622284, 0.02710000053048134, 0.007600000128149986, 0.6065000295639038, 0.2556999921798706, 0.16050000488758087, 0.133200004696846, -0.06650000065565109, 0.10170000046491623, 0.0, 2.788599967956543, 2.7883999347686768, 2.787100076675415, 2.786799907684326, 2.786400079727173, 2.7860000133514404, 2.785399913787842, 2.785399913787842, 2.7853000164031982, 2.785099983215332, 2.785099983215332, 2.7848000526428223, 2.7848000526428223, 2.784600019454956, 2.783900022506714, 2.783799886703491, 2.7832999229431152, 2.7832999229431152, 2.7827999591827393, 2.7827000617980957, 2.7822000980377197, 2.7820000648498535, 2.781899929046631, 2.781399965286255, 2.781399965286255, 2.7811999320983887, 2.780900001525879, 2.7808001041412354, 2.7806999683380127, 2.7804999351501465, 2.774199962615967, 2.7751998901367188, 2.7737998962402344, 2.773400068283081, 2.711400032043457, 2.732599973678589, 2.720400094985962, 2.680500030517578, 2.6900999546051025, 2.7204999923706055, 2.7448999881744385, 2.6208999156951904, 2.7249999046325684, 2.6178998947143555, 2.6249001026153564, 2.5910000801086426, 2.505500078201294, 2.4163999557495117, 2.448499917984009, 2.577199935913086, 2.52620005607605, 2.705199956893921, 2.581399917602539, 2.65310001373291, 2.3399999141693115, 2.290800094604492, 2.2507998943328857, 2.378200054168701, 2.2318999767303467, 2.161099910736084, 2.003000020980835, 2.2713000774383545, 0.9830999970436096, 2.3232998847961426, 1.9733999967575073, -0.3061999976634979, 0.3702000081539154, -0.1412999927997589, 0.7398999929428101, -0.01209999993443489, 0.20020000636577606, -0.5824000239372253, -0.04989999905228615, 0.2883000075817108, -0.7700999975204468, -0.22769999504089355, -0.05299999937415123], \"logprob\": [30.0, 29.0, 28.0, 27.0, 26.0, 25.0, 24.0, 23.0, 22.0, 21.0, 20.0, 19.0, 18.0, 17.0, 16.0, 15.0, 14.0, 13.0, 12.0, 11.0, 10.0, 9.0, 8.0, 7.0, 6.0, 5.0, 4.0, 3.0, 2.0, 1.0, -7.530099868774414, -7.663400173187256, -8.142900466918945, -8.281800270080566, -8.301899909973145, -8.385600090026855, -8.567000389099121, -8.581000328063965, -8.63070011138916, -8.755599975585938, -8.790499687194824, -8.88949966430664, -8.90149974822998, -9.070099830627441, -9.07610034942627, -9.123100280761719, -9.139100074768066, -9.140299797058105, -9.168100357055664, -7.850500106811523, -9.212800025939941, -9.214200019836426, -9.230199813842773, -9.253899574279785, -9.2677001953125, -9.281000137329102, -9.297200202941895, -9.312800407409668, -9.34000015258789, -9.36769962310791, -7.220099925994873, -8.482999801635742, -8.276300430297852, -7.603000164031982, -8.72130012512207, -7.185999870300293, -7.322800159454346, -8.32759952545166, -7.898499965667725, -5.714600086212158, -7.914700031280518, -7.834499835968018, -5.0543999671936035, -6.172699928283691, -7.232500076293945, -6.596399784088135, -6.572999954223633, -5.284200191497803, -6.8734002113342285, -7.62939977645874, -7.609899997711182, -7.832300186157227, -6.486499786376953, -7.384300231933594, -6.40939998626709, -6.700900077819824, -5.43310022354126, -7.221799850463867, -6.730999946594238, -5.314199924468994, -6.017499923706055, -6.349800109863281, -6.4980998039245605, -5.621200084686279, -4.703700065612793, -5.208499908447266, -6.271399974822998, -6.437900066375732, -5.821599960327148, -5.389900207519531, -5.974299907684326, -4.9969000816345215, -6.084199905395508, -5.287899971008301, -6.018400192260742, -6.164000034332275, -5.969600200653076, -5.956399917602539, -5.767499923706055, -5.6691999435424805, -5.600200176239014, -5.243100166320801, -5.8491997718811035, -5.726600170135498, -5.708399772644043, -5.690299987792969, -5.872099876403809, -5.7733001708984375, -5.903600215911865, -5.921299934387207, -5.963699817657471, -5.986700057983398, -5.997700214385986, -6.846499919891357, -7.398399829864502, -7.5391998291015625, -7.611800193786621, -7.638899803161621, -7.865900039672852, -7.883900165557861, -7.902200222015381, -7.942800045013428, -8.00160026550293, -8.047900199890137, -8.077699661254883, -8.097900390625, -8.142800331115723, -8.163399696350098, -8.189299583435059, -8.193499565124512, -8.232099533081055, -8.292699813842773, -8.30270004272461, -8.307900428771973, -8.314000129699707, -8.351900100708008, -8.360899925231934, -8.417699813842773, -8.52910041809082, -8.543899536132812, -8.569199562072754, -8.563300132751465, -8.57610034942627, -8.046199798583984, -6.894599914550781, -7.635499954223633, -7.600599765777588, -7.599299907684326, -7.08650016784668, -7.68149995803833, -7.857500076293945, -5.595699787139893, -7.6209001541137695, -7.789899826049805, -6.106500148773193, -7.374000072479248, -6.214300155639648, -7.047399997711182, -6.959199905395508, -7.176700115203857, -6.497499942779541, -5.7804999351501465, -6.299200057983398, -6.4552001953125, -6.538099765777588, -6.09660005569458, -6.996099948883057, -5.403299808502197, -6.475100040435791, -6.6296000480651855, -6.325399875640869, -6.092199802398682, -5.9791998863220215, -6.553500175476074, -7.003300189971924, -5.852799892425537, -5.5472002029418945, -5.795100212097168, -5.793300151824951, -6.445199966430664, -5.83050012588501, -5.979400157928467, -5.666500091552734, -5.928100109100342, -5.912899971008301, -5.7546000480651855, -6.214200019836426, -6.2270002365112305, -5.785799980163574, -5.515399932861328, -6.164599895477295, -5.865300178527832, -5.897500038146973, -5.94789981842041, -6.101500034332275, -5.871500015258789, -5.77839994430542, -6.08620023727417, -5.9303998947143555, -6.183499813079834, -7.404900074005127, -7.5903000831604, -7.928299903869629, -7.935400009155273, -8.027999877929688, -8.071399688720703, -8.086000442504883, -8.131500244140625, -8.237000465393066, -8.281399726867676, -8.296199798583984, -8.309399604797363, -7.695499897003174, -8.319499969482422, -8.333999633789062, -8.337699890136719, -8.342700004577637, -8.348699569702148, -8.375499725341797, -8.393199920654297, -8.421799659729004, -8.425999641418457, -8.471599578857422, -8.507100105285645, -8.514699935913086, -8.555899620056152, -8.55840015411377, -8.562199592590332, -8.575300216674805, -8.606399536132812, -7.841400146484375, -7.515100002288818, -7.970300197601318, -7.5467000007629395, -6.903299808502197, -6.849599838256836, -7.98769998550415, -8.106900215148926, -7.613900184631348, -7.520199775695801, -7.004799842834473, -6.086599826812744, -6.56820011138916, -7.590400218963623, -7.845699787139893, -6.485300064086914, -7.781499862670898, -6.6427001953125, -7.876399993896484, -7.0320000648498535, -5.9131999015808105, -7.763899803161621, -5.724899768829346, -5.839200019836426, -5.865200042724609, -5.500699996948242, -6.15500020980835, -6.267399787902832, -7.0833001136779785, -6.041100025177002, -6.852099895477295, -6.653299808502197, -6.0096001625061035, -5.79040002822876, -5.926799774169922, -6.025599956512451, -5.995800018310547, -5.958199977874756, -6.05079984664917, -5.513700008392334, -5.8942999839782715, -6.264800071716309, -6.033400058746338, -5.892399787902832, -6.421299934387207, -6.632199764251709, -6.119500160217285, -6.060699939727783, -6.052800178527832, -6.418300151824951, -6.366600036621094, -6.3429999351501465, -6.370699882507324, -6.404099941253662, -7.318600177764893, -7.338500022888184, -7.4191999435424805, -7.674200057983398, -7.702899932861328, -7.735000133514404, -7.746200084686279, -7.839600086212158, -7.882199764251709, -7.933199882507324, -7.934700012207031, -7.988699913024902, -8.00059986114502, -8.017999649047852, -8.058300018310547, -8.155699729919434, -8.164899826049805, -8.201600074768066, -8.316200256347656, -8.325200080871582, -8.355400085449219, -8.381699562072754, -8.422499656677246, -8.433099746704102, -8.434399604797363, -8.471199989318848, -8.531700134277344, -8.547599792480469, -8.565799713134766, -8.566499710083008, -7.846399784088135, -7.679200172424316, -7.460100173950195, -7.284599781036377, -6.169600009918213, -7.491199970245361, -5.673999786376953, -6.693699836730957, -6.2006001472473145, -6.4766998291015625, -6.637400150299072, -6.099400043487549, -7.022600173950195, -7.235499858856201, -5.505499839782715, -5.871300220489502, -7.074399948120117, -5.7617998123168945, -6.128399848937988, -6.27239990234375, -5.033100128173828, -7.0904998779296875, -5.053400039672852, -7.202199935913086, -5.45419979095459, -5.932600021362305, -7.001999855041504, -5.916299819946289, -6.417699813842773, -6.673999786376953, -5.615900039672852, -5.715199947357178, -5.485899925231934, -6.689799785614014, -6.058000087738037, -5.690000057220459, -5.692200183868408, -6.710400104522705, -6.456200122833252, -6.072299957275391, -5.533699989318848, -5.295000076293945, -5.521900177001953, -5.375199794769287, -5.5391998291015625, -5.488500118255615, -6.202199935913086, -5.871200084686279, -5.954500198364258, -6.124800205230713, -5.936500072479248, -6.011600017547607, -5.986199855804443, -5.9980998039245605, -6.015399932861328, -6.072999954223633, -6.542500019073486, -6.6269001960754395, -7.213500022888184, -7.664299964904785, -7.675099849700928, -7.763999938964844, -7.755499839782715, -7.798799991607666, -7.856500148773193, -7.924699783325195, -7.9334001541137695, -7.97760009765625, -7.983399868011475, -8.056699752807617, -8.130599975585938, -8.13479995727539, -8.14900016784668, -8.174599647521973, -8.185500144958496, -8.185600280761719, -8.243900299072266, -8.271599769592285, -8.31029987335205, -8.34119987487793, -8.376700401306152, -8.382399559020996, -8.387499809265137, -8.460000038146973, -8.454400062561035, -8.462900161743164, -8.040800094604492, -6.466800212860107, -7.251800060272217, -7.348100185394287, -5.874800205230713, -5.61929988861084, -7.333000183105469, -7.197400093078613, -7.159599781036377, -6.830599784851074, -7.492000102996826, -8.094499588012695, -6.696000099182129, -7.7104997634887695, -7.776899814605713, -6.142300128936768, -7.710100173950195, -7.025000095367432, -6.788599967956543, -6.952000141143799, -6.573500156402588, -6.22130012512207, -6.973199844360352, -7.129499912261963, -7.183300018310547, -6.516600131988525, -7.042099952697754, -6.637499809265137, -6.326700210571289, -6.371699810028076, -6.319799900054932, -6.351900100708008, -6.061600208282471, -5.988699913024902, -6.198400020599365, -6.434800148010254, -6.031899929046631, -5.952600002288818, -6.014999866485596, -6.6707000732421875, -5.480400085449219, -6.424600124359131, -6.267899990081787, -5.838500022888184, -6.428299903869629, -5.974400043487549, -5.845600128173828, -6.0553998947143555, -6.184899806976318, -6.171999931335449, -6.183599948883057, -6.375100135803223, -6.317599773406982, -6.321100234985352, -6.400100231170654, -6.3958001136779785, -6.401700019836426, -6.40939998626709, -6.5553998947143555, -6.635900020599365, -7.0493998527526855, -5.914000034332275, -7.216700077056885, -7.291399955749512, -7.411600112915039, -7.427999973297119, -7.44350004196167, -7.467700004577637, -7.477700233459473, -7.520500183105469, -7.521699905395508, -7.5594000816345215, -7.659599781036377, -7.6682000160217285, -7.741499900817871, -7.751500129699707, -7.816999912261963, -7.82450008392334, -7.882599830627441, -7.897299766540527, -7.919000148773193, -7.964300155639648, -7.968400001525879, -7.980100154876709, -8.020700454711914, -8.03030014038086, -8.039799690246582, -8.061800003051758, -6.697199821472168, -7.19350004196167, -7.081299781799316, -7.140200138092041, -5.4704999923706055, -6.32450008392334, -6.293900012969971, -5.6118998527526855, -5.880199909210205, -6.474999904632568, -7.073400020599365, -4.885900020599365, -6.892600059509277, -5.825300216674805, -5.931399822235107, -5.907100200653076, -5.55679988861084, -5.14300012588501, -5.635000228881836, -6.387599945068359, -6.2652997970581055, -7.129000186920166, -6.791800022125244, -7.054200172424316, -6.251500129699707, -6.333600044250488, -6.394999980926514, -6.619999885559082, -6.47629976272583, -6.429699897766113, -6.3078999519348145, -6.606599807739258, -5.5903000831604, -6.693600177764893, -6.546000003814697, -5.73769998550415, -6.034900188446045, -5.996399879455566, -6.223800182342529, -6.080599784851074, -6.199399948120117, -6.099800109863281, -6.2332000732421875, -6.267499923706055, -6.222599983215332, -6.259300231933594, -6.269800186157227]}, \"token.table\": {\"Topic\": [1, 1, 4, 3, 3, 5, 3, 6, 1, 3, 1, 2, 3, 5, 5, 5, 1, 2, 3, 4, 5, 6, 1, 2, 3, 4, 5, 6, 6, 4, 5, 5, 3, 4, 5, 6, 1, 2, 3, 4, 5, 6, 1, 2, 3, 5, 6, 2, 5, 1, 2, 3, 4, 5, 6, 1, 2, 3, 4, 5, 6, 1, 2, 2, 1, 2, 3, 4, 5, 6, 6, 1, 2, 3, 4, 5, 6, 1, 2, 3, 4, 5, 6, 1, 2, 3, 4, 6, 1, 2, 3, 4, 5, 5, 6, 1, 2, 3, 4, 5, 6, 1, 2, 3, 4, 5, 6, 1, 2, 3, 4, 6, 1, 2, 4, 6, 6, 2, 6, 6, 6, 2, 1, 2, 3, 4, 5, 2, 1, 2, 3, 4, 5, 1, 3, 4, 5, 6, 2, 3, 4, 5, 6, 1, 1, 2, 3, 5, 4, 1, 2, 3, 4, 5, 6, 1, 2, 4, 5, 6, 1, 5, 4, 1, 2, 3, 4, 5, 6, 1, 2, 3, 4, 1, 2, 1, 5, 6, 4, 1, 2, 4, 5, 6, 1, 4, 3, 1, 2, 4, 4, 1, 6, 1, 2, 3, 4, 5, 6, 1, 2, 4, 6, 1, 2, 3, 4, 5, 6, 3, 1, 2, 3, 4, 5, 6, 1, 2, 3, 4, 1, 2, 3, 4, 1, 4, 1, 2, 3, 4, 5, 6, 1, 2, 3, 4, 5, 6, 1, 2, 4, 5, 2, 2, 4, 6, 1, 2, 3, 4, 5, 1, 2, 3, 4, 5, 6, 2, 4, 1, 2, 3, 4, 5, 1, 2, 3, 4, 5, 6, 1, 2, 3, 4, 5, 6, 1, 2, 3, 5, 6, 3, 1, 2, 4, 5, 2, 1, 1, 2, 1, 2, 4, 5, 1, 2, 4, 1, 3, 5, 6, 6, 3, 5, 6, 1, 4, 3, 4, 5, 6, 1, 2, 5, 6, 4, 5, 6, 1, 2, 3, 4, 5, 6, 5, 4, 6, 6, 1, 2, 5, 1, 2, 3, 4, 5, 6, 4, 1, 1, 2, 3, 4, 5, 6, 1, 6, 1, 2, 3, 4, 5, 6, 1, 2, 3, 4, 5, 6, 3, 4, 5, 6, 1, 2, 3, 4, 5, 6, 1, 2, 3, 4, 5, 6, 1, 2, 3, 4, 5, 6, 1, 2, 3, 4, 5, 6, 1, 6, 1, 2, 3, 4, 5, 6, 1, 2, 4, 5, 2, 4, 1, 2, 4, 1, 2, 3, 4, 6, 1, 2, 3, 4, 5, 6, 1, 2, 3, 4, 5, 6, 6, 1, 3, 4, 5, 6, 2, 3, 4, 5, 1, 2, 4, 1, 2, 3, 4, 5, 6, 6, 3, 4, 5, 3, 5, 1, 3, 5, 6, 1, 2, 3, 4, 5, 6, 1, 2, 3, 4, 5, 6, 1, 2, 3, 4, 5, 6, 5, 1, 2, 3, 4, 5, 6, 5, 6, 3, 4, 5, 1, 2, 1, 1, 2, 3, 4, 5, 6, 1, 3, 4, 5, 2, 4, 5, 1, 2, 4, 6, 6, 1, 2, 3, 4, 5, 6, 1, 1, 2, 3, 4, 5, 6, 6, 5, 4, 1, 3, 5, 6, 1, 2, 4, 1, 1, 2, 3, 4, 5, 6, 3, 5, 4, 1, 2, 3, 4, 6, 1, 2, 3, 4, 5, 6, 1, 2, 3, 4, 5, 6, 1, 5, 6, 1, 3, 1, 1, 3, 2, 1, 2, 3, 5, 6, 1, 4, 5, 6, 2, 3, 4, 5, 6, 1, 2, 4, 6, 3, 2, 4, 1, 2, 6, 2, 4, 6, 2, 1, 2, 4, 2, 2, 4, 1, 2, 4, 5, 1, 2, 3, 4, 5, 4, 2, 4, 5, 1, 2, 3, 4, 5, 6, 2, 3, 4, 5, 4, 6, 1, 2, 1, 2, 5, 2, 6, 4, 3, 3, 1, 3, 5, 1, 2, 4, 5, 3, 5, 1, 3, 4, 5, 6, 1, 3, 4, 5, 6, 1, 3, 4, 5, 6, 1, 3, 4, 5, 6, 2, 3, 5, 6, 1, 2, 3, 5, 3, 1, 3, 1, 2, 3, 4, 5, 6, 4, 6, 1, 2, 1, 2, 3, 4, 5, 6, 1, 2, 3, 4, 5, 6, 2, 3, 4, 4, 1, 2, 3, 4, 5, 6, 1, 2, 3, 4, 5, 6, 1, 1, 2, 4, 1, 4, 6, 2, 1, 2, 3, 4, 5, 6, 1, 3, 4, 5, 6, 1, 2, 3, 5, 6, 1, 2, 5, 6, 5, 1, 2, 3, 4, 5, 6, 4, 1, 2, 3, 4, 5, 6, 2, 2, 1, 1, 2, 4, 5, 4, 5, 1, 2, 3, 4, 5, 6, 6, 1, 2, 3, 4, 5, 6, 1, 2, 1, 3, 5, 6, 5, 2, 3, 4, 5, 6, 2, 1, 2, 4, 1, 2, 3, 4, 6, 2, 1, 2, 3, 4, 5, 6, 1, 2, 3, 4, 6, 1, 4, 5, 1, 1, 3, 5, 1, 6, 1, 2, 3, 4, 5, 6, 1, 2, 3, 4, 5, 6, 2, 4, 5, 2, 1, 2, 3, 4, 5, 6, 1, 5, 1, 2, 3, 3, 5, 6, 3, 1, 2, 3, 4, 5, 6, 2, 3, 3, 5, 6, 2, 1, 2, 3, 4, 5, 6, 2, 1, 2, 3, 4, 5, 6, 1, 2, 3, 4, 5, 3, 5, 6, 5, 5, 4, 5, 1, 2, 3, 4, 1, 2, 3, 5, 3, 2, 4, 6, 1, 2, 3, 4, 5, 6, 3, 5, 6, 1, 3, 5, 6, 1, 2, 3, 4, 5, 6, 3, 2, 2, 4, 2, 3, 5, 6, 2, 3, 3, 3, 3, 3, 4, 4, 1, 5, 6, 1, 2, 3, 4, 5, 6, 1, 2, 3, 4, 5, 6, 1, 2, 3, 4, 5, 6, 5, 4, 2, 3, 2, 3, 4, 2, 3, 6, 5, 1, 5, 5, 4, 5, 2, 4, 5, 6, 3, 1, 3, 6, 1, 6, 2, 1, 2, 3, 4, 5, 6, 2, 2, 3, 4, 1, 2, 3, 4, 5, 6, 1, 2, 4, 1, 3, 1, 2, 3, 4, 5, 1, 2, 3, 4, 5, 6, 1, 2, 3, 4, 5, 5, 1, 5, 1, 4, 5, 1, 3, 4, 1, 4, 1, 2, 3, 4, 5, 6, 1, 2, 3, 4, 5, 6, 6, 1, 2, 3, 4, 5, 1, 4, 1, 1, 3, 4, 5, 6, 1, 2, 3, 4, 5, 1, 2, 3, 4, 5, 1, 3, 4, 5, 1, 2, 3, 4, 5, 1, 2, 3, 4, 5, 6, 5, 2, 2, 3, 5, 1, 3, 6, 4, 4, 4, 1, 4, 5, 6, 3, 5, 6, 1, 2, 3, 4, 5, 6, 1, 2, 3, 4, 5, 6, 3, 4, 4, 1, 2, 5, 5, 1, 4, 5, 5, 1, 2, 4, 1, 5, 1, 2, 3, 4, 5, 6, 2, 5, 2, 3, 4, 5, 3, 5, 1, 3, 4, 5, 1, 2, 3, 4, 5, 6, 1, 2, 3, 4, 5, 6, 2, 3, 4, 5, 2, 5, 1, 2, 3, 4, 5, 6, 2, 3, 1, 2, 3, 4, 5, 6, 1, 4, 5, 1, 2, 3, 4, 6, 1, 2, 3, 4, 5, 6, 1, 2, 3, 4, 5, 6, 1, 2, 4, 5, 4, 5, 1, 2, 3, 4, 5, 6, 1, 4, 3, 1, 2, 3, 4, 5, 6, 3, 1, 5, 6, 1, 5, 6, 4, 5, 1, 2, 3, 4, 5, 6, 3, 3, 1, 3, 5, 6, 4, 2, 5, 1, 4, 1, 2, 3, 4, 3, 1, 2, 3, 4, 5, 6, 1, 2, 3, 4, 5, 6, 1, 2, 3, 4, 5, 6, 1, 2, 3, 4, 5, 6, 4, 1, 5, 6, 5, 1, 2, 3, 4, 5, 6, 1, 2, 3, 4, 5, 6, 1, 2, 3, 5, 6, 4, 5, 1, 2, 3, 4, 5, 6, 1, 2, 3, 4, 5, 6, 3, 1, 2, 3, 4, 5, 1, 2, 3, 4, 5, 6, 2, 2, 5, 5], \"Freq\": [0.9972949028015137, 0.9902649521827698, 0.00934212189167738, 0.9951473474502563, 0.033019762486219406, 0.9646488428115845, 0.9981695413589478, 0.9943625926971436, 0.1328696459531784, 0.8660253882408142, 0.8843481540679932, 0.05992232263088226, 0.03424132615327835, 0.02107158675789833, 0.9989321231842041, 0.9977592825889587, 0.20747484266757965, 0.25406414270401, 0.24611784517765045, 0.10939779877662659, 0.14063876867294312, 0.04223516955971718, 0.013119949959218502, 0.15743939578533173, 0.5748923420906067, 0.0828942283987999, 0.17115570604801178, 0.9956943988800049, 0.9924656748771667, 0.9744141101837158, 0.023323742672801018, 0.9959416389465332, 0.5750502943992615, 0.043294310569763184, 0.3473731577396393, 0.034126102924346924, 0.6489453315734863, 0.11933045834302902, 0.0522930845618248, 0.08610665798187256, 0.09082482755184174, 0.002359086414799094, 0.019679002463817596, 0.05247734114527702, 0.08308912068605423, 0.02514539286494255, 0.818865180015564, 0.0436057485640049, 0.9556926488876343, 0.6889869570732117, 0.1294277310371399, 0.0563010647892952, 0.08757943660020828, 0.008844228461384773, 0.028905527666211128, 0.15304933488368988, 0.01853063702583313, 0.2371235191822052, 0.13108709454536438, 0.4368426203727722, 0.023678036406636238, 0.9844478368759155, 0.011932700872421265, 0.9962984919548035, 0.4837556481361389, 0.1212899312376976, 0.09331656247377396, 0.1774526685476303, 0.06577521562576294, 0.058430857956409454, 0.9877028465270996, 0.4868355393409729, 0.15349221229553223, 0.05693528801202774, 0.16797573864459991, 0.10049688816070557, 0.034294355660676956, 0.015830762684345245, 0.7617390751838684, 0.09032846987247467, 0.03445519134402275, 0.05773572623729706, 0.04004251956939697, 0.05083223059773445, 0.10416440665721893, 0.15499664843082428, 0.6883184313774109, 0.000833315250929445, 0.03181132301688194, 0.012066364288330078, 0.07130124419927597, 0.03729603439569473, 0.8490332365036011, 0.002677709562703967, 0.9961079955101013, 0.001650002202950418, 0.009900012984871864, 0.2904003858566284, 0.030800040811300278, 0.5885007977485657, 0.07920010387897491, 0.17498545348644257, 0.40395334362983704, 0.276088148355484, 0.021730219945311546, 0.07113787531852722, 0.05215252563357353, 0.8465624451637268, 0.08730977773666382, 0.011127716861665249, 0.03338314965367317, 0.02139945514500141, 0.9124033451080322, 0.07878962904214859, 0.00583626888692379, 0.00194542296230793, 0.996445894241333, 0.12455044686794281, 0.8718531727790833, 0.9915292263031006, 0.9880271553993225, 0.99402916431427, 0.02977530099451542, 0.664509117603302, 0.0009452476515434682, 0.2949172556400299, 0.010397723875939846, 0.9956570863723755, 0.06175140291452408, 0.23914633691310883, 0.004491011146456003, 0.6927384734153748, 0.0011227527866140008, 0.6234101057052612, 0.05012540519237518, 0.16833452880382538, 0.12274804711341858, 0.035521943122148514, 0.11143586039543152, 0.0696474090218544, 0.04178844764828682, 0.7617685794830322, 0.014800075441598892, 0.9963977336883545, 0.011404730379581451, 0.0010367936920374632, 0.8128462433815002, 0.17418134212493896, 0.9951119422912598, 0.1892279088497162, 0.17327870428562164, 0.37926679849624634, 0.16084371507167816, 0.036223627626895905, 0.06109357997775078, 0.19566430151462555, 0.03121025674045086, 0.11523787677288055, 0.020406706258654594, 0.637409508228302, 0.024063246324658394, 0.9755641222000122, 0.9978014230728149, 0.007674484979361296, 0.004093058407306671, 0.3033979833126068, 0.1320011466741562, 0.5141904950141907, 0.038884058594703674, 0.40692219138145447, 0.09854507446289062, 0.006312496028840542, 0.4882832467556, 0.0640423372387886, 0.9350181818008423, 0.024920577183365822, 0.07921183854341507, 0.8953607678413391, 0.9949440360069275, 0.8754240274429321, 0.011081316508352757, 0.016621975228190422, 0.04617215320467949, 0.05078936740756035, 0.9958003163337708, 0.9955547451972961, 0.9937020540237427, 0.9964902400970459, 0.12844212353229523, 0.871543824672699, 0.9940920472145081, 0.9908736348152161, 0.9946621656417847, 0.018507324159145355, 0.21926039457321167, 0.21026377379894257, 0.11798419803380966, 0.3863404095172882, 0.047553543001413345, 0.9068242907524109, 0.092257559299469, 0.9989343285560608, 0.9937724471092224, 0.5872043967247009, 0.16021102666854858, 0.11648491770029068, 0.07824671268463135, 0.042309872806072235, 0.015578530728816986, 0.9940044283866882, 0.11597657203674316, 0.09605108201503754, 0.10729110240936279, 0.0929856225848198, 0.575795590877533, 0.011750929988920689, 0.10736577212810516, 0.047718122601509094, 0.055671144276857376, 0.788674533367157, 0.12456284463405609, 0.030381182208657265, 0.016709649935364723, 0.8278871774673462, 0.9908226728439331, 0.9962877631187439, 0.043585989624261856, 0.03661223128437996, 0.0540466271340847, 0.04881630837917328, 0.010460637509822845, 0.8072125315666199, 0.01651778072118759, 0.16129127144813538, 0.6344770789146423, 0.011659610085189342, 0.006801438983529806, 0.16809271275997162, 0.0022603271063417196, 0.0926734134554863, 0.14466093480587006, 0.7606000304222107, 0.9972121715545654, 0.7301616668701172, 0.26940634846687317, 0.9926632642745972, 0.19401441514492035, 0.7268834710121155, 0.021457815542817116, 0.036657098680734634, 0.022351890802383423, 0.2642689049243927, 0.18611477315425873, 0.36847439408302307, 0.06383760273456573, 0.034735165536403656, 0.08237867057323456, 0.812999963760376, 0.1857738345861435, 0.7352231740951538, 0.08092550188302994, 0.03806496039032936, 0.1177915632724762, 0.028174065053462982, 0.3637392520904541, 0.32800257205963135, 0.16256432235240936, 0.07809585332870483, 0.025990299880504608, 0.041609469801187515, 0.3335535526275635, 0.060033369809389114, 0.2732066810131073, 0.12743376195430756, 0.12382861971855164, 0.08182093501091003, 0.04397318512201309, 0.04989265277981758, 0.11754371225833893, 0.693423330783844, 0.09471147507429123, 0.9910339713096619, 0.050230301916599274, 0.013699173927307129, 0.08828356117010117, 0.8478266596794128, 0.9965544939041138, 0.9981623888015747, 0.952562153339386, 0.04622137174010277, 0.8912356495857239, 0.018532704561948776, 0.08162719011306763, 0.008537538349628448, 0.9424067735671997, 0.005500428378582001, 0.05133733153343201, 0.6553002595901489, 0.04079130291938782, 0.2557854652404785, 0.04798976704478264, 0.9985045194625854, 0.01097884215414524, 0.8220407962799072, 0.16742733120918274, 0.99212646484375, 0.9960290193557739, 0.033565957099199295, 0.3340612053871155, 0.03676271811127663, 0.5945969820022583, 0.03589316084980965, 0.002142875222489238, 0.9423294067382812, 0.01928587816655636, 0.04990420863032341, 0.03326947242021561, 0.9190691709518433, 0.03208071365952492, 0.04346419498324394, 0.04656878113746643, 0.02483668364584446, 0.011383479461073875, 0.8413426280021667, 0.99381023645401, 0.01274028792977333, 0.9810022115707397, 0.9941890835762024, 0.9817281365394592, 0.009300582110881805, 0.008267184719443321, 0.12749935686588287, 0.003730617929250002, 0.17577794194221497, 0.30656901001930237, 0.3355361819267273, 0.05091196298599243, 0.9933462738990784, 0.9909558296203613, 0.07389488816261292, 0.05499154329299927, 0.022340314462780952, 0.030932743102312088, 0.816280722618103, 0.9965484738349915, 0.0602833516895771, 0.9377410411834717, 0.21520796418190002, 0.3323023319244385, 0.3369079530239105, 0.05205744132399559, 0.009629928506910801, 0.053871773183345795, 0.2802894711494446, 0.2726828455924988, 0.2908809781074524, 0.06557098031044006, 0.029945045709609985, 0.060660380870103836, 0.08560499548912048, 0.8755738735198975, 0.03754604980349541, 0.9888402819633484, 0.05948333442211151, 0.14309445023536682, 0.2087889015674591, 0.24701112508773804, 0.283561110496521, 0.0580500029027462, 0.16656121611595154, 0.4237488806247711, 0.346328467130661, 0.014691722579300404, 0.048036977648735046, 0.0004952265881001949, 0.40251830220222473, 0.11967838555574417, 0.08916039764881134, 0.18390579521656036, 0.15877333283424377, 0.04597644880414009, 0.44215673208236694, 0.17209506034851074, 0.1127086728811264, 0.1428200751543045, 0.09022966772317886, 0.03993943706154823, 0.014272536151111126, 0.9848049879074097, 0.24345219135284424, 0.32740122079849243, 0.16031557321548462, 0.06688842177391052, 0.13959911465644836, 0.062284763902425766, 0.8344923257827759, 0.04758070409297943, 0.08522697538137436, 0.032417621463537216, 0.9481780529022217, 0.048329465091228485, 0.3449179232120514, 0.08109874278306961, 0.5739805102348328, 0.11251569539308548, 0.07897736132144928, 0.7259426116943359, 0.0064912899397313595, 0.07573171705007553, 0.19164051115512848, 0.3756873309612274, 0.2302084118127823, 0.12129905074834824, 0.039567071944475174, 0.0417652428150177, 0.19434092938899994, 0.4991981089115143, 0.1738259345293045, 0.050074223428964615, 0.05117718130350113, 0.03176514431834221, 0.9848516583442688, 0.01835978776216507, 0.07343915104866028, 0.08393046259880066, 0.013114134781062603, 0.8104535341262817, 0.07690475881099701, 0.1716425120830536, 0.6847124695777893, 0.06650218367576599, 0.0306446123868227, 0.9448755383491516, 0.022983459755778313, 0.10599599778652191, 0.717881977558136, 0.12928299605846405, 0.0160599984228611, 0.029309498146176338, 0.0008029999444261193, 0.9933959245681763, 0.8423442244529724, 0.014738189987838268, 0.14171336591243744, 0.9321726560592651, 0.06313519924879074, 0.021551096811890602, 0.8651226162910461, 0.10775548964738846, 0.0030787282157689333, 0.398571640253067, 0.24944806098937988, 0.06570161879062653, 0.23481740057468414, 0.04071137681603432, 0.010723086073994637, 0.494221955537796, 0.20543040335178375, 0.0710749551653862, 0.21163955330848694, 0.014664163812994957, 0.003038520459085703, 0.4629538655281067, 0.24454845488071442, 0.05556603893637657, 0.16660164296627045, 0.05180375650525093, 0.01852201297879219, 0.9922141432762146, 0.5647392272949219, 0.17584922909736633, 0.07571815699338913, 0.15486939251422882, 0.016497785225510597, 0.01230181660503149, 0.9969539642333984, 0.9959748387336731, 0.5762322545051575, 0.043611783534288406, 0.3804432153701782, 0.041458673775196075, 0.95631343126297, 0.9963235855102539, 0.20472422242164612, 0.14856651425361633, 0.16533000767230988, 0.13201254606246948, 0.3409276604652405, 0.008172205649316311, 0.2726958394050598, 0.03430291637778282, 0.6559507250785828, 0.03701753541827202, 0.08164200186729431, 0.8942646980285645, 0.022783813998103142, 0.012170786038041115, 0.07343040406703949, 0.0705905556678772, 0.8438411355018616, 0.9972275495529175, 0.8213677406311035, 0.033406175673007965, 0.012195905670523643, 0.1071118712425232, 0.0015907703200355172, 0.024391811341047287, 0.9932008385658264, 0.26691797375679016, 0.15368886291980743, 0.1781393587589264, 0.17435535788536072, 0.16387657821178436, 0.06316379457712173, 0.9923869967460632, 0.9980934858322144, 0.9890217781066895, 0.996579647064209, 0.9440988898277283, 0.0508035272359848, 0.9925209879875183, 0.9240670800209045, 0.058921851217746735, 0.01580830104649067, 0.9990575313568115, 0.41561222076416016, 0.33629176020622253, 0.09958481788635254, 0.07700453698635101, 0.028466589748859406, 0.042941126972436905, 0.8656399250030518, 0.13432343304157257, 0.9983152151107788, 0.6316714882850647, 0.15845167636871338, 0.058718759566545486, 0.13407449424266815, 0.017081821337342262, 0.12538516521453857, 0.212211012840271, 0.2660053074359894, 0.1336093544960022, 0.1739213615655899, 0.08884819597005844, 0.21645589172840118, 0.006526308134198189, 0.02719295211136341, 0.002175436122342944, 0.6085782647132874, 0.13814018666744232, 0.04501708224415779, 0.9221681356430054, 0.031375542283058167, 0.9910870790481567, 0.9918577075004578, 0.9921662211418152, 0.03811810910701752, 0.9600998759269714, 0.9969545602798462, 0.06603336334228516, 0.09933223575353622, 0.07054845988750458, 0.7020983099937439, 0.062082648277282715, 0.02195817232131958, 0.03293725848197937, 0.013174903579056263, 0.9310265183448792, 0.6181614398956299, 0.0002239715395262465, 0.32050326466560364, 0.0524093396961689, 0.008958861231803894, 0.025648638606071472, 0.014656364917755127, 0.025648638606071472, 0.9325112104415894, 0.9975886940956116, 0.13943077623844147, 0.8599311709403992, 0.10747331380844116, 0.1407051980495453, 0.7516061663627625, 0.13259686529636383, 0.8661847710609436, 0.9926497340202332, 0.9943825602531433, 0.8823570013046265, 0.11303331702947617, 0.003983553033322096, 0.9971726536750793, 0.15410663187503815, 0.8437719345092773, 0.0058924537152051926, 0.3229064643383026, 0.6287248134613037, 0.041836418211460114, 0.11386433988809586, 0.5729023218154907, 0.15038686990737915, 0.15432557463645935, 0.008235471323132515, 0.9966951608657837, 0.7756165862083435, 0.21337243914604187, 0.010512875393033028, 0.29335665702819824, 0.09593451768159866, 0.0980408638715744, 0.45573684573173523, 0.03408452123403549, 0.02297832816839218, 0.1577683985233307, 0.01048111729323864, 0.8098042011260986, 0.022065510973334312, 0.014467262662947178, 0.9837738871574402, 0.04478663206100464, 0.9533154368400574, 0.06500478088855743, 0.9174259901046753, 0.017171073704957962, 0.040936194360256195, 0.9538133144378662, 0.9914951920509338, 0.9939976930618286, 0.9981719851493835, 0.9895899295806885, 0.9938564300537109, 0.9939440488815308, 0.03507239744067192, 0.8257955312728882, 0.10096599161624908, 0.03719799593091011, 0.8317542672157288, 0.16593600809574127, 0.21964535117149353, 0.20273728668689728, 0.3525172173976898, 0.18024636805057526, 0.04498183727264404, 0.2078244388103485, 0.2738807499408722, 0.3379446268081665, 0.15939338505268097, 0.02099701203405857, 0.20375847816467285, 0.18748104572296143, 0.3848448395729065, 0.20201446115970612, 0.021509453654289246, 0.14662736654281616, 0.1983010470867157, 0.3955529034137726, 0.22689206898212433, 0.03252556920051575, 0.03934081643819809, 0.1530870944261551, 0.11973292380571365, 0.687609076499939, 0.02519948035478592, 0.02326105907559395, 0.005815264768898487, 0.9440112709999084, 0.9964640140533447, 0.9911588430404663, 0.9978235960006714, 0.22394241392612457, 0.08703834563493729, 0.20399612188339233, 0.00271994830109179, 0.027199482545256615, 0.4551379978656769, 0.996722936630249, 0.9910503625869751, 0.03923233970999718, 0.9606621861457825, 0.300767719745636, 0.2515791356563568, 0.2088465392589569, 0.11303127557039261, 0.08782212436199188, 0.03791620209813118, 0.0008224554476328194, 0.13077041506767273, 0.1513317972421646, 0.6686562895774841, 0.031253308057785034, 0.017271563410758972, 0.9929549098014832, 0.9717673659324646, 0.026571763679385185, 0.9932557344436646, 0.17779496312141418, 0.3647076189517975, 0.2563679814338684, 0.024403229355812073, 0.10190359503030777, 0.07495277374982834, 0.5670278668403625, 0.19688232243061066, 0.06242198869585991, 0.03070487082004547, 0.11978273838758469, 0.023113006725907326, 0.9926252365112305, 0.1189754530787468, 0.8377343416213989, 0.042929284274578094, 0.9964119791984558, 0.9962164163589478, 0.9963216781616211, 0.9955984950065613, 0.8714377284049988, 0.059233300387859344, 0.005472641903907061, 0.03766465187072754, 0.020924806594848633, 0.005150721408426762, 0.00446746964007616, 0.27809998393058777, 0.02568794973194599, 0.2501783072948456, 0.4411626160144806, 0.1285887360572815, 0.360878050327301, 0.34348824620246887, 0.0028717087116092443, 0.16400647163391113, 0.0719473659992218, 0.04217604547739029, 0.2778657078742981, 0.606590747833252, 0.9968339800834656, 0.2669113278388977, 0.3262249529361725, 0.11439056694507599, 0.121886245906353, 0.11862725764513016, 0.052143849432468414, 0.995417058467865, 0.4982019364833832, 0.06913140416145325, 0.1321093589067459, 0.19523924589157104, 0.07688020169734955, 0.028488216921687126, 0.9971816539764404, 0.9985474944114685, 0.9918304085731506, 0.06472148001194, 0.6018625497817993, 0.16015022993087769, 0.17337797582149506, 0.9939090609550476, 0.9963828921318054, 0.13982249796390533, 0.021132592111825943, 0.26647329330444336, 0.39225563406944275, 0.1422831416130066, 0.03792287036776543, 0.9951682090759277, 0.2869919538497925, 0.22139377892017365, 0.015792150050401688, 0.4643499255180359, 0.003036951646208763, 0.008503464981913567, 0.9979889988899231, 0.9973008036613464, 0.04523654282093048, 0.805641233921051, 0.08185660094022751, 0.0646236315369606, 0.9971943497657776, 0.013828311115503311, 0.2496374100446701, 0.05458543822169304, 0.6739482283592224, 0.008733670227229595, 0.9976350665092468, 0.023529233410954475, 0.8799933195114136, 0.09568554908037186, 0.023258399218320847, 0.2787345051765442, 0.16830290853977203, 0.5122342109680176, 0.017398014664649963, 0.9955442547798157, 0.4450536370277405, 0.3423006236553192, 0.15902847051620483, 0.0003768447204492986, 0.001632993808016181, 0.051753342151641846, 0.2680966258049011, 0.0015430022031068802, 0.3757210373878479, 0.3367602229118347, 0.017744524404406548, 0.9910433888435364, 0.995161235332489, 0.9968988299369812, 0.9905920624732971, 0.013638896867632866, 0.842883825302124, 0.14184452593326569, 0.9956439733505249, 0.9870204925537109, 0.1075286790728569, 0.441525936126709, 0.17851954698562622, 0.08240208029747009, 0.1434081494808197, 0.04674205929040909, 0.5116603374481201, 0.21852687001228333, 0.06288633495569229, 0.148079052567482, 0.032640401273965836, 0.02633916586637497, 0.6486617922782898, 0.31581756472587585, 0.03515186905860901, 0.9969441294670105, 0.4543258249759674, 0.25263795256614685, 0.09767507761716843, 0.1260083019733429, 0.01031428948044777, 0.05902756005525589, 0.9992501735687256, 0.9940655827522278, 0.9782391786575317, 0.01509628351777792, 0.006038513500243425, 0.03893597051501274, 0.9611036777496338, 0.9971161484718323, 0.9943135976791382, 0.3492303788661957, 0.18322119116783142, 0.1518525779247284, 0.13764505088329315, 0.1328582763671875, 0.04516875743865967, 0.9837421178817749, 0.01375863142311573, 0.28101396560668945, 0.09183463454246521, 0.6263121962547302, 0.9958255290985107, 0.20178993046283722, 0.5235140323638916, 0.13988004624843597, 0.04325919970870018, 0.039373643696308136, 0.052325498312711716, 0.997276782989502, 0.8260591626167297, 0.07576397061347961, 0.04252059385180473, 0.003865508595481515, 0.04599955305457115, 0.006184813566505909, 0.013901441358029842, 0.06394663453102112, 0.004170432686805725, 0.10287066549062729, 0.8146244883537292, 0.013421713374555111, 0.9428753852844238, 0.04026514291763306, 0.9988152980804443, 0.9908723831176758, 0.004921215586364269, 0.9940855503082275, 0.22905795276165009, 0.03742697462439537, 0.21544814109802246, 0.5179018378257751, 0.02085566520690918, 0.046345923095941544, 0.9037455320358276, 0.025490257889032364, 0.9906557202339172, 0.9978519082069397, 0.9975695610046387, 0.9934491515159607, 0.1384630650281906, 0.02652549184858799, 0.13474950194358826, 0.019628863781690598, 0.5793167352676392, 0.10079687088727951, 0.04223354160785675, 0.0334680899977684, 0.9235599040985107, 0.01026251632720232, 0.03958399221301079, 0.18325921893119812, 0.766756534576416, 0.006958671845495701, 0.04871070384979248, 0.4425715208053589, 0.41520076990127563, 0.06865889579057693, 0.018092546612024307, 0.9944464564323425, 0.9976927042007446, 0.9979152679443359, 0.9975067973136902, 0.06716465950012207, 0.0036110032815486193, 0.21810460090637207, 0.709923267364502, 0.9962611794471741, 0.9964756369590759, 0.9981018304824829, 0.9958620071411133, 0.9966589212417603, 0.02810180000960827, 0.9705929160118103, 0.9956902265548706, 0.9939799904823303, 0.005893161986023188, 0.9923382997512817, 0.04283251240849495, 0.6832409501075745, 0.23620259761810303, 0.011227940209209919, 0.013723038136959076, 0.012891339138150215, 0.054691243916749954, 0.02769176848232746, 0.14261260628700256, 0.1481509655714035, 0.5496816039085388, 0.07753695547580719, 0.1765373945236206, 0.16734519600868225, 0.230276420712471, 0.11478466540575027, 0.18266552686691284, 0.12869080901145935, 0.9934616088867188, 0.9972547888755798, 0.9645143747329712, 0.03349008038640022, 0.024172190576791763, 0.13467362523078918, 0.8408468961715698, 0.41413062810897827, 0.013489596545696259, 0.5719588994979858, 0.9918509721755981, 0.0241557490080595, 0.9734766483306885, 0.9953557848930359, 0.06162063032388687, 0.9350261092185974, 0.05118589848279953, 0.9013169407844543, 0.02336747571825981, 0.024480212479829788, 0.9918241500854492, 0.10753001272678375, 0.8235225081443787, 0.06556707620620728, 0.01350823137909174, 0.9815981388092041, 0.9977940917015076, 0.7997358441352844, 0.06681676208972931, 0.008382465690374374, 0.08880554884672165, 0.023203637450933456, 0.013120382092893124, 0.9960871338844299, 0.07674453407526016, 0.04604671895503998, 0.8769341707229614, 0.6548029780387878, 0.13791151344776154, 0.024128980934619904, 0.14897985756397247, 0.01660251058638096, 0.017266610637307167, 0.9973263740539551, 0.016230110079050064, 0.9802986979484558, 0.9963164925575256, 0.9910624027252197, 0.8776132464408875, 0.02370620146393776, 0.00677320035174489, 0.08853540569543839, 0.002902800217270851, 0.8310280442237854, 0.07905952632427216, 0.01163820456713438, 0.06902659684419632, 0.0014046109281480312, 0.007825689390301704, 0.1496495008468628, 0.7655413746833801, 0.06456372886896133, 0.0023058473598212004, 0.01775502599775791, 0.9975813627243042, 0.9930263757705688, 0.9972168207168579, 0.9774089455604553, 0.012451069429516792, 0.009338302537798882, 0.9384628534317017, 0.005466774106025696, 0.05466774106025696, 0.971181333065033, 0.02865133062005043, 0.7120416164398193, 0.11938497424125671, 0.04883360117673874, 0.06954707950353622, 0.023224206641316414, 0.027115829288959503, 0.7021484971046448, 0.10639066249132156, 0.055287282913923264, 0.09593091160058975, 0.020620662719011307, 0.019574686884880066, 0.9893754124641418, 0.28804811835289, 0.6202035546302795, 0.02970496192574501, 0.06211037188768387, 0.993135929107666, 0.05325474590063095, 0.9461362957954407, 0.9980034828186035, 0.002424130914732814, 0.044038381427526474, 0.006060327403247356, 0.9175335764884949, 0.029897615313529968, 0.2242419272661209, 0.026972496882081032, 0.09889915585517883, 0.5431520342826843, 0.106303371489048, 0.11828991025686264, 0.0686577782034874, 0.10009146481752396, 0.6592801213264465, 0.05459534376859665, 0.16931885480880737, 0.08954362571239471, 0.6697863340377808, 0.07163490355014801, 0.15858618915081024, 0.051028698682785034, 0.18425332009792328, 0.5383986234664917, 0.06752899289131165, 0.1915256679058075, 0.5919349193572998, 0.06443029642105103, 0.067960724234581, 0.059723056852817535, 0.0244187880307436, 0.9923217296600342, 0.9985804557800293, 0.9954991340637207, 0.9936122894287109, 0.002957179443910718, 0.013906347565352917, 0.13906347751617432, 0.8471283316612244, 0.9939632415771484, 0.9983950853347778, 0.9938653707504272, 0.381413996219635, 0.03478303551673889, 0.05037543177604675, 0.5325402617454529, 0.4999413788318634, 0.46541857719421387, 0.03388349711894989, 0.7442879676818848, 0.12333095818758011, 0.016491930931806564, 0.07098700106143951, 0.03656906262040138, 0.008245965465903282, 0.19006003439426422, 0.18323737382888794, 0.38986673951148987, 0.09941601753234863, 0.06881147623062134, 0.0684216096997261, 0.9938246607780457, 0.0034152050502598286, 0.9977918863296509, 0.1326354593038559, 0.05305418744683266, 0.8131130933761597, 0.9942885637283325, 0.1933402419090271, 0.021482249721884727, 0.7833859920501709, 0.9932979941368103, 0.9269145727157593, 0.005875845439732075, 0.0661032572388649, 0.9929463267326355, 0.007382500451058149, 0.3062053620815277, 0.24257826805114746, 0.2989976108074188, 0.018143661320209503, 0.06934358179569244, 0.06462126225233078, 0.9967913031578064, 0.9976242184638977, 0.9488888382911682, 0.012708333320915699, 0.03177083283662796, 0.0063541666604578495, 0.9914135932922363, 0.9945213794708252, 0.0342952162027359, 0.09961943328380585, 0.04409384727478027, 0.8198189735412598, 0.283964604139328, 0.18260224163532257, 0.1383577585220337, 0.21197357773780823, 0.1306087225675583, 0.05261844024062157, 0.36013340950012207, 0.171859011054039, 0.12183117866516113, 0.17822416126728058, 0.10965923219919205, 0.058179691433906555, 0.25152117013931274, 0.06862697005271912, 0.1932215690612793, 0.48605218529701233, 0.05067497119307518, 0.9493111371994019, 0.6117021441459656, 0.12356778234243393, 0.04878223314881325, 0.17058178782463074, 0.01690215989947319, 0.028395626693964005, 0.998224675655365, 0.9947595596313477, 0.30262094736099243, 0.28703054785728455, 0.16008009016513824, 0.06514563411474228, 0.13623046875, 0.0489056259393692, 0.9553066492080688, 0.013873748481273651, 0.029729461297392845, 0.7480360865592957, 0.001182852778583765, 0.00236570555716753, 0.2410653829574585, 0.007333687040954828, 0.2418425977230072, 0.13561266660690308, 0.13643456995487213, 0.44279593229293823, 0.03143748268485069, 0.0119174774736166, 0.44439229369163513, 0.1830320805311203, 0.09404704719781876, 0.1819663941860199, 0.0634084939956665, 0.033036358654499054, 0.2233836054801941, 0.023435333743691444, 0.7110379934310913, 0.04238305240869522, 0.01032205205410719, 0.985755980014801, 0.246721088886261, 0.19600792229175568, 0.15882864594459534, 0.20331932604312897, 0.14187240600585938, 0.05327993258833885, 0.964303731918335, 0.03488146513700485, 0.9933624267578125, 0.18150445818901062, 0.14408086240291595, 0.11676163226366043, 0.12200094014406204, 0.37984955310821533, 0.05576116591691971, 0.9920021891593933, 0.07873351871967316, 0.016451779752969742, 0.9036727547645569, 0.005735612940043211, 0.04970864579081535, 0.942552387714386, 0.9908850789070129, 0.007741289678961039, 0.025345483794808388, 0.1622110903263092, 0.0811055451631546, 0.05829461291432381, 0.089976467192173, 0.5829461216926575, 0.9976952075958252, 0.997350811958313, 0.09737055748701096, 0.6283727288246155, 0.1421247273683548, 0.13244815170764923, 0.9919731616973877, 0.01769757643342018, 0.9822154641151428, 0.036924030631780624, 0.9626622796058655, 0.7824465036392212, 0.09487336128950119, 0.006554886698722839, 0.11626298725605011, 0.9959629774093628, 0.02798393741250038, 0.0065641338005661964, 0.5807530879974365, 0.016583073884248734, 0.3492810130119324, 0.018655957654118538, 0.37245824933052063, 0.1478528380393982, 0.1114102303981781, 0.16480979323387146, 0.1543976217508316, 0.04908594861626625, 0.29871371388435364, 0.21586233377456665, 0.29102152585983276, 0.1533632129430771, 0.005929403007030487, 0.03509565815329552, 0.7933249473571777, 0.016231711953878403, 0.004869513679295778, 0.15704181790351868, 0.004869513679295778, 0.023941775783896446, 0.9958058595657349, 0.2505587935447693, 0.08652389794588089, 0.6615473031997681, 0.9917468428611755, 0.6466836929321289, 0.11097536236047745, 0.13720589876174927, 0.057169124484062195, 0.009752379730343819, 0.038336943835020065, 0.27218151092529297, 0.3991251587867737, 0.12605126202106476, 0.10619540512561798, 0.06916087120771408, 0.027218149974942207, 0.10802899301052094, 0.18954434990882874, 0.16980014741420746, 0.44255220890045166, 0.08997715264558792, 0.9971269369125366, 0.9979616403579712, 0.16218805313110352, 0.5039541125297546, 0.19980716705322266, 0.013486096635460854, 0.08694983273744583, 0.03407013788819313, 0.22303403913974762, 0.25638866424560547, 0.2827107012271881, 0.029938803985714912, 0.1366334706544876, 0.07112977653741837, 0.9950724840164185, 0.024054700508713722, 0.676669180393219, 0.16367655992507935, 0.07687045633792877, 0.058567967265844345, 0.3739081621170044, 0.15881237387657166, 0.3154737949371338, 0.04427387937903404, 0.03584929555654526, 0.07169859111309052, 0.9950749278068542, 0.9975920915603638, 0.9927675127983093, 0.9919796586036682], \"Term\": [\"abigail\", \"agnes\", \"agnes\", \"aiden\", \"aircraft\", \"aircraft\", \"ajay\", \"aladdin\", \"ali\", \"ali\", \"alice\", \"alice\", \"alice\", \"alice\", \"alien\", \"aliens\", \"also\", \"also\", \"also\", \"also\", \"also\", \"also\", \"american\", \"american\", \"american\", \"american\", \"american\", \"angier\", \"antoinette\", \"archer\", \"archer\", \"ariel\", \"army\", \"army\", \"army\", \"army\", \"around\", \"around\", \"around\", \"around\", \"around\", \"around\", \"arthur\", \"arthur\", \"arthur\", \"arthur\", \"arthur\", \"ash\", \"ash\", \"asks\", \"asks\", \"asks\", \"asks\", \"asks\", \"asks\", \"attack\", \"attack\", \"attack\", \"attack\", \"attack\", \"attack\", \"attic\", \"attic\", \"audrey\", \"away\", \"away\", \"away\", \"away\", \"away\", \"away\", \"babe\", \"back\", \"back\", \"back\", \"back\", \"back\", \"back\", \"band\", \"band\", \"band\", \"band\", \"band\", \"band\", \"bank\", \"bank\", \"bank\", \"bank\", \"bank\", \"base\", \"base\", \"base\", \"base\", \"base\", \"batman\", \"batman\", \"battle\", \"battle\", \"battle\", \"battle\", \"battle\", \"battle\", \"becomes\", \"becomes\", \"becomes\", \"becomes\", \"becomes\", \"becomes\", \"bed\", \"bed\", \"bed\", \"bed\", \"bed\", \"bedroom\", \"bedroom\", \"bedroom\", \"bedroom\", \"bella\", \"belle\", \"belle\", \"bertram\", \"bess\", \"biff\", \"bill\", \"bill\", \"bill\", \"bill\", \"bill\", \"billie\", \"billy\", \"billy\", \"billy\", \"billy\", \"billy\", \"body\", \"body\", \"body\", \"body\", \"body\", \"bond\", \"bond\", \"bond\", \"bond\", \"bond\", \"bridget\", \"british\", \"british\", \"british\", \"british\", \"brody\", \"brother\", \"brother\", \"brother\", \"brother\", \"brother\", \"brother\", \"bruce\", \"bruce\", \"bruce\", \"bruce\", \"bruce\", \"bugs\", \"bugs\", \"butch\", \"captain\", \"captain\", \"captain\", \"captain\", \"captain\", \"captain\", \"car\", \"car\", \"car\", \"car\", \"carrie\", \"carrie\", \"castle\", \"castle\", \"castle\", \"castor\", \"cat\", \"cat\", \"cat\", \"cat\", \"cat\", \"cathy\", \"chad\", \"chan\", \"charley\", \"charlie\", \"charlie\", \"chong\", \"chucky\", \"cinderella\", \"city\", \"city\", \"city\", \"city\", \"city\", \"city\", \"claire\", \"claire\", \"clayton\", \"clouseau\", \"comes\", \"comes\", \"comes\", \"comes\", \"comes\", \"comes\", \"communist\", \"control\", \"control\", \"control\", \"control\", \"control\", \"control\", \"cop\", \"cop\", \"cop\", \"cop\", \"cops\", \"cops\", \"cops\", \"cops\", \"coraline\", \"cordell\", \"count\", \"count\", \"count\", \"count\", \"count\", \"count\", \"court\", \"court\", \"court\", \"court\", \"court\", \"court\", \"crew\", \"crew\", \"crew\", \"crew\", \"daffy\", \"danny\", \"danny\", \"dant\", \"date\", \"date\", \"date\", \"date\", \"date\", \"daughter\", \"daughter\", \"daughter\", \"daughter\", \"daughter\", \"daughter\", \"dave\", \"dave\", \"david\", \"david\", \"david\", \"david\", \"david\", \"day\", \"day\", \"day\", \"day\", \"day\", \"day\", \"death\", \"death\", \"death\", \"death\", \"death\", \"death\", \"destroy\", \"destroy\", \"destroy\", \"destroy\", \"destroy\", \"dev\", \"device\", \"device\", \"device\", \"device\", \"dewey\", \"doesnt\", \"doll\", \"doll\", \"door\", \"door\", \"door\", \"door\", \"downstairs\", \"downstairs\", \"downstairs\", \"dr\", \"dr\", \"dr\", \"dr\", \"dracula\", \"dragon\", \"dragon\", \"dragon\", \"duane\", \"dude\", \"duke\", \"duke\", \"duke\", \"duke\", \"earth\", \"earth\", \"earth\", \"earth\", \"edmund\", \"edmund\", \"edmund\", \"edward\", \"edward\", \"edward\", \"edward\", \"edward\", \"edward\", \"elmer\", \"elsa\", \"elsa\", \"elvira\", \"emma\", \"emma\", \"emma\", \"escape\", \"escape\", \"escape\", \"escape\", \"escape\", \"escape\", \"esteban\", \"everly\", \"facility\", \"facility\", \"facility\", \"facility\", \"facility\", \"fairies\", \"fairy\", \"fairy\", \"family\", \"family\", \"family\", \"family\", \"family\", \"family\", \"father\", \"father\", \"father\", \"father\", \"father\", \"father\", \"fbi\", \"fbi\", \"fbi\", \"fernand\", \"fight\", \"fight\", \"fight\", \"fight\", \"fight\", \"fight\", \"film\", \"film\", \"film\", \"film\", \"film\", \"film\", \"find\", \"find\", \"find\", \"find\", \"find\", \"find\", \"finds\", \"finds\", \"finds\", \"finds\", \"finds\", \"finds\", \"fiona\", \"fiona\", \"first\", \"first\", \"first\", \"first\", \"first\", \"first\", \"floor\", \"floor\", \"floor\", \"floor\", \"football\", \"football\", \"frank\", \"frank\", \"frank\", \"french\", \"french\", \"french\", \"french\", \"french\", \"friend\", \"friend\", \"friend\", \"friend\", \"friend\", \"friend\", \"friends\", \"friends\", \"friends\", \"friends\", \"friends\", \"friends\", \"frollo\", \"gabriel\", \"gabriel\", \"gabriel\", \"gabriel\", \"gabriel\", \"gang\", \"gang\", \"gang\", \"gang\", \"gay\", \"gay\", \"gay\", \"george\", \"george\", \"george\", \"george\", \"george\", \"george\", \"gerda\", \"german\", \"german\", \"german\", \"germans\", \"germans\", \"germany\", \"germany\", \"germany\", \"germany\", \"get\", \"get\", \"get\", \"get\", \"get\", \"get\", \"gets\", \"gets\", \"gets\", \"gets\", \"gets\", \"gets\", \"go\", \"go\", \"go\", \"go\", \"go\", \"go\", \"godzilla\", \"goes\", \"goes\", \"goes\", \"goes\", \"goes\", \"goes\", \"goku\", \"gotham\", \"government\", \"government\", \"government\", \"greg\", \"greg\", \"greta\", \"group\", \"group\", \"group\", \"group\", \"group\", \"group\", \"gun\", \"gun\", \"gun\", \"gun\", \"hank\", \"hank\", \"hank\", \"harry\", \"harry\", \"harry\", \"harry\", \"hazel\", \"hears\", \"hears\", \"hears\", \"hears\", \"hears\", \"hears\", \"heathcliff\", \"help\", \"help\", \"help\", \"help\", \"help\", \"help\", \"helsing\", \"hercules\", \"herod\", \"hes\", \"hitler\", \"hitler\", \"holli\", \"holly\", \"holly\", \"holly\", \"holmes\", \"home\", \"home\", \"home\", \"home\", \"home\", \"home\", \"hong\", \"hong\", \"hornblower\", \"house\", \"house\", \"house\", \"house\", \"house\", \"however\", \"however\", \"however\", \"however\", \"however\", \"however\", \"human\", \"human\", \"human\", \"human\", \"human\", \"human\", \"humans\", \"humans\", \"humans\", \"hutch\", \"iago\", \"ig\", \"india\", \"india\", \"irving\", \"island\", \"island\", \"island\", \"island\", \"island\", \"ivan\", \"ivan\", \"ivan\", \"ivan\", \"jack\", \"jack\", \"jack\", \"jack\", \"jack\", \"jacob\", \"jacob\", \"jacob\", \"jacob\", \"jai\", \"jake\", \"jake\", \"jane\", \"jane\", \"jane\", \"jeff\", \"jeff\", \"jekyll\", \"jen\", \"jerry\", \"jerry\", \"jerry\", \"jess\", \"jesse\", \"jesse\", \"jim\", \"jim\", \"jim\", \"jim\", \"job\", \"job\", \"job\", \"job\", \"job\", \"jody\", \"joe\", \"joe\", \"joe\", \"john\", \"john\", \"john\", \"john\", \"john\", \"john\", \"johnny\", \"johnny\", \"johnny\", \"johnny\", \"joker\", \"joker\", \"judy\", \"judy\", \"julie\", \"julie\", \"julie\", \"juliet\", \"juliet\", \"kabir\", \"kapoor\", \"karan\", \"karin\", \"karthik\", \"katniss\", \"kevin\", \"kevin\", \"kevin\", \"kevin\", \"khan\", \"khan\", \"kill\", \"kill\", \"kill\", \"kill\", \"kill\", \"killed\", \"killed\", \"killed\", \"killed\", \"killed\", \"killing\", \"killing\", \"killing\", \"killing\", \"killing\", \"kills\", \"kills\", \"kills\", \"kills\", \"kills\", \"king\", \"king\", \"king\", \"king\", \"kirk\", \"kirk\", \"kirk\", \"kirk\", \"kishen\", \"kitten\", \"kumar\", \"lady\", \"lady\", \"lady\", \"lady\", \"lady\", \"lady\", \"lai\", \"lancelot\", \"larry\", \"larry\", \"later\", \"later\", \"later\", \"later\", \"later\", \"later\", \"lee\", \"lee\", \"lee\", \"lee\", \"lee\", \"lee\", \"lenny\", \"li\", \"li\", \"libby\", \"life\", \"life\", \"life\", \"life\", \"life\", \"life\", \"like\", \"like\", \"like\", \"like\", \"like\", \"like\", \"lina\", \"linda\", \"linda\", \"linda\", \"lindsey\", \"linus\", \"loki\", \"lola\", \"looks\", \"looks\", \"looks\", \"looks\", \"looks\", \"looks\", \"lord\", \"lord\", \"lord\", \"lord\", \"lord\", \"love\", \"love\", \"love\", \"love\", \"love\", \"magic\", \"magic\", \"magic\", \"magic\", \"magneto\", \"make\", \"make\", \"make\", \"make\", \"make\", \"make\", \"mallory\", \"man\", \"man\", \"man\", \"man\", \"man\", \"man\", \"manny\", \"marty\", \"mattie\", \"max\", \"max\", \"max\", \"max\", \"mcclane\", \"megatron\", \"men\", \"men\", \"men\", \"men\", \"men\", \"men\", \"merlin\", \"michael\", \"michael\", \"michael\", \"michael\", \"michael\", \"michael\", \"mikey\", \"mimi\", \"minister\", \"minister\", \"minister\", \"minister\", \"missile\", \"mission\", \"mission\", \"mission\", \"mission\", \"mission\", \"mitch\", \"molly\", \"molly\", \"molly\", \"money\", \"money\", \"money\", \"money\", \"money\", \"monty\", \"mother\", \"mother\", \"mother\", \"mother\", \"mother\", \"mother\", \"murder\", \"murder\", \"murder\", \"murder\", \"murder\", \"muriel\", \"murtaugh\", \"mutant\", \"nandini\", \"nazi\", \"nazi\", \"nazi\", \"nell\", \"ness\", \"new\", \"new\", \"new\", \"new\", \"new\", \"new\", \"next\", \"next\", \"next\", \"next\", \"next\", \"next\", \"nick\", \"nick\", \"nick\", \"nicky\", \"night\", \"night\", \"night\", \"night\", \"night\", \"night\", \"nina\", \"ninja\", \"norman\", \"norman\", \"norman\", \"nuclear\", \"nuclear\", \"odysseus\", \"omar\", \"one\", \"one\", \"one\", \"one\", \"one\", \"one\", \"oscar\", \"oscar\", \"palace\", \"palace\", \"palace\", \"pam\", \"party\", \"party\", \"party\", \"party\", \"party\", \"party\", \"peggy\", \"peter\", \"peter\", \"peter\", \"peter\", \"peter\", \"peter\", \"pilot\", \"pilot\", \"pilot\", \"pilot\", \"pilot\", \"pirates\", \"pirates\", \"pirates\", \"planet\", \"pluto\", \"pod\", \"pod\", \"police\", \"police\", \"police\", \"police\", \"political\", \"political\", \"political\", \"political\", \"pooja\", \"porky\", \"posse\", \"potion\", \"power\", \"power\", \"power\", \"power\", \"power\", \"power\", \"prince\", \"prince\", \"prince\", \"princess\", \"princess\", \"princess\", \"princess\", \"prison\", \"prison\", \"prison\", \"prison\", \"prison\", \"prison\", \"priya\", \"producer\", \"prom\", \"que\", \"queen\", \"queen\", \"queen\", \"queen\", \"quentin\", \"rahul\", \"raj\", \"raja\", \"rama\", \"ranch\", \"ranch\", \"reacher\", \"rebecca\", \"rebecca\", \"reece\", \"relationship\", \"relationship\", \"relationship\", \"relationship\", \"relationship\", \"relationship\", \"rescue\", \"rescue\", \"rescue\", \"rescue\", \"rescue\", \"rescue\", \"return\", \"return\", \"return\", \"return\", \"return\", \"return\", \"riddick\", \"riggs\", \"rita\", \"rita\", \"robbery\", \"robbery\", \"robbery\", \"robin\", \"robin\", \"robin\", \"robocop\", \"robot\", \"robot\", \"robots\", \"rocket\", \"rocket\", \"rocky\", \"rocky\", \"rocky\", \"rocky\", \"rohit\", \"rome\", \"rome\", \"rome\", \"romeo\", \"romeo\", \"ronnie\", \"room\", \"room\", \"room\", \"room\", \"room\", \"room\", \"rosie\", \"roy\", \"roy\", \"roy\", \"runs\", \"runs\", \"runs\", \"runs\", \"runs\", \"runs\", \"sadie\", \"saloon\", \"saloon\", \"samir\", \"sanjay\", \"sarah\", \"sarah\", \"sarah\", \"sarah\", \"sarah\", \"says\", \"says\", \"says\", \"says\", \"says\", \"says\", \"school\", \"school\", \"school\", \"school\", \"school\", \"scientists\", \"scissors\", \"scooby\", \"scream\", \"scream\", \"scream\", \"screaming\", \"screaming\", \"screaming\", \"screams\", \"screams\", \"see\", \"see\", \"see\", \"see\", \"see\", \"see\", \"sees\", \"sees\", \"sees\", \"sees\", \"sees\", \"sees\", \"selene\", \"sex\", \"sex\", \"sex\", \"sex\", \"shaggy\", \"sheriff\", \"sheriff\", \"shes\", \"ship\", \"ship\", \"ship\", \"ship\", \"ship\", \"shoot\", \"shoot\", \"shoot\", \"shoot\", \"shoot\", \"shooting\", \"shooting\", \"shooting\", \"shooting\", \"shooting\", \"shoots\", \"shoots\", \"shoots\", \"shoots\", \"shot\", \"shot\", \"shot\", \"shot\", \"shot\", \"show\", \"show\", \"show\", \"show\", \"show\", \"show\", \"shuttle\", \"sid\", \"sidney\", \"singh\", \"singh\", \"sir\", \"sir\", \"sir\", \"sissi\", \"skye\", \"snoopy\", \"snow\", \"snow\", \"snow\", \"snow\", \"soldiers\", \"soldiers\", \"soldiers\", \"something\", \"something\", \"something\", \"something\", \"something\", \"something\", \"son\", \"son\", \"son\", \"son\", \"son\", \"son\", \"sonia\", \"sonia\", \"sonny\", \"space\", \"space\", \"space\", \"spaceship\", \"spider\", \"spider\", \"spider\", \"spock\", \"stairs\", \"stairs\", \"stairs\", \"stares\", \"stares\", \"story\", \"story\", \"story\", \"story\", \"story\", \"story\", \"stu\", \"submarine\", \"sue\", \"sue\", \"sue\", \"sue\", \"sunita\", \"superman\", \"survivors\", \"survivors\", \"survivors\", \"survivors\", \"take\", \"take\", \"take\", \"take\", \"take\", \"take\", \"takes\", \"takes\", \"takes\", \"takes\", \"takes\", \"takes\", \"team\", \"team\", \"team\", \"team\", \"technology\", \"technology\", \"tells\", \"tells\", \"tells\", \"tells\", \"tells\", \"tells\", \"tess\", \"thakur\", \"time\", \"time\", \"time\", \"time\", \"time\", \"time\", \"todd\", \"todd\", \"todd\", \"tom\", \"tom\", \"tom\", \"tom\", \"tom\", \"town\", \"town\", \"town\", \"town\", \"town\", \"town\", \"tries\", \"tries\", \"tries\", \"tries\", \"tries\", \"tries\", \"truck\", \"truck\", \"truck\", \"truck\", \"turtles\", \"turtles\", \"two\", \"two\", \"two\", \"two\", \"two\", \"two\", \"upstairs\", \"upstairs\", \"ursula\", \"use\", \"use\", \"use\", \"use\", \"use\", \"use\", \"valjean\", \"vampire\", \"vampire\", \"vampire\", \"vampires\", \"vampires\", \"vampires\", \"vic\", \"vic\", \"victor\", \"victor\", \"victor\", \"victor\", \"victor\", \"victor\", \"vijay\", \"vikram\", \"village\", \"village\", \"village\", \"village\", \"vinny\", \"virus\", \"virus\", \"wade\", \"wade\", \"walks\", \"walks\", \"walks\", \"walks\", \"wang\", \"war\", \"war\", \"war\", \"war\", \"war\", \"war\", \"way\", \"way\", \"way\", \"way\", \"way\", \"way\", \"wife\", \"wife\", \"wife\", \"wife\", \"wife\", \"wife\", \"window\", \"window\", \"window\", \"window\", \"window\", \"window\", \"winnie\", \"witch\", \"witch\", \"witch\", \"wolverine\", \"woman\", \"woman\", \"woman\", \"woman\", \"woman\", \"woman\", \"work\", \"work\", \"work\", \"work\", \"work\", \"work\", \"world\", \"world\", \"world\", \"world\", \"world\", \"wyatt\", \"xavier\", \"year\", \"year\", \"year\", \"year\", \"year\", \"year\", \"years\", \"years\", \"years\", \"years\", \"years\", \"years\", \"yi\", \"york\", \"york\", \"york\", \"york\", \"york\", \"young\", \"young\", \"young\", \"young\", \"young\", \"young\", \"zach\", \"zack\", \"zed\", \"zeus\"]}, \"R\": 30, \"lambda.step\": 0.01, \"plot.opts\": {\"xlab\": \"PC1\", \"ylab\": \"PC2\"}, \"topic.order\": [3, 1, 4, 6, 2, 5]};\n",
       "\n",
       "function LDAvis_load_lib(url, callback){\n",
       "  var s = document.createElement('script');\n",
       "  s.src = url;\n",
       "  s.async = true;\n",
       "  s.onreadystatechange = s.onload = callback;\n",
       "  s.onerror = function(){console.warn(\"failed to load library \" + url);};\n",
       "  document.getElementsByTagName(\"head\")[0].appendChild(s);\n",
       "}\n",
       "\n",
       "if(typeof(LDAvis) !== \"undefined\"){\n",
       "   // already loaded: just create the visualization\n",
       "   !function(LDAvis){\n",
       "       new LDAvis(\"#\" + \"ldavis_el569772617447286263967014\", ldavis_el569772617447286263967014_data);\n",
       "   }(LDAvis);\n",
       "}else if(typeof define === \"function\" && define.amd){\n",
       "   // require.js is available: use it to load d3/LDAvis\n",
       "   require.config({paths: {d3: \"https://cdnjs.cloudflare.com/ajax/libs/d3/3.5.5/d3.min\"}});\n",
       "   require([\"d3\"], function(d3){\n",
       "      window.d3 = d3;\n",
       "      LDAvis_load_lib(\"https://cdn.rawgit.com/bmabey/pyLDAvis/files/ldavis.v1.0.0.js\", function(){\n",
       "        new LDAvis(\"#\" + \"ldavis_el569772617447286263967014\", ldavis_el569772617447286263967014_data);\n",
       "      });\n",
       "    });\n",
       "}else{\n",
       "    // require.js not available: dynamically load d3 & LDAvis\n",
       "    LDAvis_load_lib(\"https://cdnjs.cloudflare.com/ajax/libs/d3/3.5.5/d3.min.js\", function(){\n",
       "         LDAvis_load_lib(\"https://cdn.rawgit.com/bmabey/pyLDAvis/files/ldavis.v1.0.0.js\", function(){\n",
       "                 new LDAvis(\"#\" + \"ldavis_el569772617447286263967014\", ldavis_el569772617447286263967014_data);\n",
       "            })\n",
       "         });\n",
       "}\n",
       "</script>"
      ],
      "text/plain": [
       "PreparedData(topic_coordinates=              x         y  topics  cluster       Freq\n",
       "topic                                                \n",
       "2      0.080598  0.061620       1        1  28.928751\n",
       "0      0.069519  0.101954       2        1  19.923580\n",
       "3     -0.047831 -0.010453       3        1  16.485054\n",
       "5      0.148087 -0.063333       4        1  14.572993\n",
       "1     -0.071689 -0.179626       5        1  13.952930\n",
       "4     -0.178684  0.089838       6        1   6.136691, topic_info=      Category          Freq      Term         Total  loglift  logprob\n",
       "682    Default   8554.000000       car   8554.000000  30.0000  30.0000\n",
       "319    Default   8229.000000    police   8229.000000  29.0000  29.0000\n",
       "3881   Default   2464.000000     harry   2464.000000  28.0000  28.0000\n",
       "253    Default   6268.000000      love   6268.000000  27.0000  27.0000\n",
       "1037   Default   9967.000000      says   9967.000000  26.0000  26.0000\n",
       "4255   Default   2338.000000      king   2338.000000  25.0000  25.0000\n",
       "1210   Default   4052.000000       gun   4052.000000  24.0000  24.0000\n",
       "5610   Default   2577.000000   charlie   2577.000000  23.0000  23.0000\n",
       "926    Default   5460.000000     money   5460.000000  22.0000  22.0000\n",
       "3410   Default   2475.000000      ship   2475.000000  21.0000  21.0000\n",
       "430    Default  19228.000000     tells  19228.000000  20.0000  20.0000\n",
       "1038   Default   4336.000000    school   4336.000000  19.0000  19.0000\n",
       "7095   Default   4464.000000      jack   4464.000000  18.0000  18.0000\n",
       "123    Default   4802.000000      door   4802.000000  17.0000  17.0000\n",
       "4998   Default   1414.000000      jane   1414.000000  16.0000  16.0000\n",
       "358    Default   8231.000000      room   8231.000000  15.0000  15.0000\n",
       "8870   Default   1254.000000    prince   1254.000000  14.0000  14.0000\n",
       "2944   Default   1866.000000     earth   1866.000000  13.0000  13.0000\n",
       "2684   Default   4227.000000       tom   4227.000000  12.0000  12.0000\n",
       "1222   Default   6908.000000       men   6908.000000  11.0000  11.0000\n",
       "1270   Default   3071.000000    shoots   3071.000000  10.0000  10.0000\n",
       "6602   Default   1384.000000     queen   1384.000000   9.0000   9.0000\n",
       "175    Default   3021.000000     frank   3021.000000   8.0000   8.0000\n",
       "279    Default   7960.000000    mother   7960.000000   7.0000   7.0000\n",
       "11098  Default   1123.000000    castle   1123.000000   6.0000   6.0000\n",
       "232    Default   6524.000000    killed   6524.000000   5.0000   5.0000\n",
       "1207   Default   2691.000000      gang   2691.000000   4.0000   4.0000\n",
       "1655   Default   2568.000000       joe   2568.000000   3.0000   3.0000\n",
       "1204   Default   6057.000000      film   6057.000000   2.0000   2.0000\n",
       "231    Default   6269.000000      kill   6269.000000   1.0000   1.0000\n",
       "...        ...           ...       ...           ...      ...      ...\n",
       "4255    Topic6   1608.075439      king   2338.538086   2.4164  -5.1430\n",
       "6602    Topic6    983.203552     queen   1384.656738   2.4485  -5.6350\n",
       "97      Topic6    463.235901     count    573.578796   2.5772  -6.3876\n",
       "3285    Topic6    523.480225  princess    682.093933   2.5262  -6.2653\n",
       "8092    Topic6    220.709442    edmund    240.460678   2.7052  -7.1290\n",
       "3646    Topic6    309.209167   gabriel    381.268005   2.5814  -6.7918\n",
       "24874   Topic6    237.853622     belle    272.981750   2.6531  -7.0542\n",
       "7160    Topic6    530.732239     bruce    833.059448   2.3400  -6.2515\n",
       "4753    Topic6    488.907257     magic    806.144836   2.2908  -6.3336\n",
       "3557    Topic6    459.799194    victor    789.095215   2.2508  -6.3950\n",
       "4794    Topic6    367.177277     witch    554.760010   2.3782  -6.6200\n",
       "10666   Topic6    423.889557     robin    741.312012   2.2319  -6.4763\n",
       "8882    Topic6    444.136444      snow    833.739746   2.1611  -6.4297\n",
       "6274    Topic6    501.644043      lady   1102.962158   2.0030  -6.3079\n",
       "14570   Topic6    372.110657      duke    625.633850   2.2713  -6.6066\n",
       "253     Topic6   1028.092163      love   6268.045410   0.9831  -5.5903\n",
       "3236    Topic6    341.097504    palace    544.456909   2.3233  -6.6936\n",
       "3166    Topic6    395.350250      lord    895.361450   1.9734  -6.5460\n",
       "299     Topic6    887.268127       one  19637.466797  -0.3062  -5.7377\n",
       "210     Topic6    659.093323   however   7417.145508   0.3702  -6.0349\n",
       "448     Topic6    685.008240       two  12856.623047  -0.1413  -5.9964\n",
       "347     Topic6    545.674744    return   4242.727051   0.7399  -6.2238\n",
       "154     Topic6    629.672546    father  10385.691406  -0.0121  -6.0806\n",
       "245     Topic6    559.130249      life   7458.029297   0.2002  -6.1994\n",
       "33      Topic6    617.672974      back  18020.458984  -0.5824  -6.0998\n",
       "32      Topic6    540.534729      away   9258.806641  -0.0499  -6.2332\n",
       "109     Topic6    522.332153     death   6379.785156   0.2883  -6.2675\n",
       "430     Topic6    546.310425     tells  19228.312500  -0.7701  -6.2226\n",
       "440     Topic6    526.623657      time  10775.856445  -0.2277  -6.2593\n",
       "426     Topic6    521.149048     takes   8955.014648  -0.0530  -6.2698\n",
       "\n",
       "[545 rows x 6 columns], token_table=       Topic      Freq        Term\n",
       "term                              \n",
       "7051       1  0.997295     abigail\n",
       "35285      1  0.990265       agnes\n",
       "35285      4  0.009342       agnes\n",
       "31084      3  0.995147       aiden\n",
       "1297       3  0.033020    aircraft\n",
       "1297       5  0.964649    aircraft\n",
       "17205      3  0.998170        ajay\n",
       "30243      6  0.994363     aladdin\n",
       "9          1  0.132870         ali\n",
       "9          3  0.866025         ali\n",
       "8981       1  0.884348       alice\n",
       "8981       2  0.059922       alice\n",
       "8981       3  0.034241       alice\n",
       "8981       5  0.021072       alice\n",
       "2717       5  0.998932       alien\n",
       "14366      5  0.997759      aliens\n",
       "11         1  0.207475        also\n",
       "11         2  0.254064        also\n",
       "11         3  0.246118        also\n",
       "11         4  0.109398        also\n",
       "11         5  0.140639        also\n",
       "11         6  0.042235        also\n",
       "1591       1  0.013120    american\n",
       "1591       2  0.157439    american\n",
       "1591       3  0.574892    american\n",
       "1591       4  0.082894    american\n",
       "1591       5  0.171156    american\n",
       "21627      6  0.995694      angier\n",
       "37256      6  0.992466  antoinette\n",
       "16854      4  0.974414      archer\n",
       "...      ...       ...         ...\n",
       "16220      4  0.997127       wyatt\n",
       "15415      5  0.997962      xavier\n",
       "1158       1  0.162188        year\n",
       "1158       2  0.503954        year\n",
       "1158       3  0.199807        year\n",
       "1158       4  0.013486        year\n",
       "1158       5  0.086950        year\n",
       "1158       6  0.034070        year\n",
       "622        1  0.223034       years\n",
       "622        2  0.256389       years\n",
       "622        3  0.282711       years\n",
       "622        4  0.029939       years\n",
       "622        5  0.136633       years\n",
       "622        6  0.071130       years\n",
       "3603       3  0.995072          yi\n",
       "1159       1  0.024055        york\n",
       "1159       2  0.676669        york\n",
       "1159       3  0.163677        york\n",
       "1159       4  0.076870        york\n",
       "1159       5  0.058568        york\n",
       "482        1  0.373908       young\n",
       "482        2  0.158812       young\n",
       "482        3  0.315474       young\n",
       "482        4  0.044274       young\n",
       "482        5  0.035849       young\n",
       "482        6  0.071699       young\n",
       "13721      2  0.995075        zach\n",
       "23364      2  0.997592        zack\n",
       "14914      5  0.992768         zed\n",
       "13808      5  0.991980        zeus\n",
       "\n",
       "[1319 rows x 3 columns], R=30, lambda_step=0.01, plot_opts={'xlab': 'PC1', 'ylab': 'PC2'}, topic_order=[3, 1, 4, 6, 2, 5])"
      ]
     },
     "execution_count": 84,
     "metadata": {},
     "output_type": "execute_result"
    }
   ],
   "source": [
    "pyLDAvis.enable_notebook()\n",
    "vis = pyLDAvis.gensim.prepare(ldamodel, corpus, id2word)\n",
    "vis"
   ]
  },
  {
   "cell_type": "code",
   "execution_count": 68,
   "metadata": {},
   "outputs": [],
   "source": [
    "mallet_path = './mallet-2.0.8/bin/mallet'"
   ]
  },
  {
   "cell_type": "code",
   "execution_count": 69,
   "metadata": {},
   "outputs": [],
   "source": [
    "ldamallet = gensim.models.wrappers.LdaMallet(mallet_path, corpus=corpus, num_topics=20, id2word=id2word)"
   ]
  },
  {
   "cell_type": "code",
   "execution_count": 71,
   "metadata": {},
   "outputs": [
    {
     "name": "stdout",
     "output_type": "stream",
     "text": [
      "[(9, [('tom', 0.018233392228271975), ('king', 0.012211685236601402), ('queen', 0.007782545463286819), ('prince', 0.0074640320196156205), ('love', 0.007325809204437554), ('castle', 0.007271722015889614), ('sir', 0.004964001971177539), ('white', 0.004326975083835142), ('magic', 0.004284907270520079), ('lady', 0.004260868520054328)]), (4, [('jack', 0.03955846672058445), ('peter', 0.02268101709075073), ('billy', 0.015615418114596017), ('man', 0.010362878498360248), ('marty', 0.009660762373685754), ('edward', 0.009420798634872952), ('tommy', 0.009323035630171441), ('de', 0.008452056133739791), ('la', 0.0077499400090652966), ('jenny', 0.007598851729072051)]), (2, [('car', 0.030075671159809136), ('david', 0.013788699130825956), ('gun', 0.009466928007968767), ('back', 0.009418729817007535), ('police', 0.008832318493645871), ('truck', 0.008241890654370773), ('tells', 0.007872371190334656), ('phone', 0.006751763250485998), ('michael', 0.006410359397843934), ('house', 0.00622158314991244)]), (11, [('film', 0.01587598227797327), ('life', 0.009107152624573815), ('story', 0.008997757397852206), ('world', 0.007557386912684376), ('time', 0.0071927361569456855), ('people', 0.005820737688478859), ('series', 0.005661202982843182), ('alan', 0.004453297354458767), ('book', 0.004216274363228618), ('end', 0.004216274363228618)]), (0, [('police', 0.0220418953578963), ('money', 0.013275033483022138), ('joe', 0.012067018566664041), ('prison', 0.00843859695195077), ('murder', 0.008259145460752645), ('case', 0.007606992480544832), ('gang', 0.00701173875364374), ('drug', 0.005742447718339943), ('crime', 0.005611141749170584), ('killed', 0.005554242495863862)]), (17, [('war', 0.011148716841369016), ('men', 0.008228926578071531), ('army', 0.005802026954076675), ('general', 0.0055813997155316885), ('captain', 0.00545465640828244), ('plane', 0.005449962211717654), ('soldiers', 0.005407714442634571), ('american', 0.005027484520886827), ('attack', 0.004928906393026302), ('team', 0.004698890761351741)]), (13, [('george', 0.018520838707299998), ('jane', 0.011099237203817666), ('steve', 0.010200095810148505), ('rocky', 0.0064856100526955816), ('eric', 0.006205549618601909), ('luke', 0.006094999447249143), ('sean', 0.005615948704720492), ('smith', 0.005321148247779784), ('time', 0.005306408224932749), ('william', 0.00526955816781516)]), (15, [('ship', 0.010290874287378802), ('max', 0.009196454579501478), ('earth', 0.007452873371894636), ('crew', 0.005384711414423037), ('island', 0.004723066039698722), ('escape', 0.004219549748241854), ('control', 0.004169614248262661), ('human', 0.004157130373267862), ('dr', 0.004090549706628937), ('find', 0.004069743248304274)]), (5, [('john', 0.03781410795478841), ('mary', 0.01774540686155732), ('johnny', 0.013070311720520532), ('tells', 0.010682877464045953), ('lee', 0.008124403141435881), ('man', 0.007718182984364087), ('dan', 0.00671332259581807), ('walter', 0.006492395843726393), ('jay', 0.005872375603985233), ('men', 0.005473282116335751)]), (19, [('henry', 0.012961300458494982), ('love', 0.010989451409150662), ('father', 0.00880117990317099), ('family', 0.006035781846163712), ('tells', 0.004993747795697201), ('day', 0.00490557568373465), ('daughter', 0.004793356632145949), ('life', 0.004665106287473147), ('brother', 0.004560902882426497), ('ruth', 0.004496777710090096)])]\n"
     ]
    }
   ],
   "source": [
    "print(ldamallet.show_topics(formatted=False))"
   ]
  },
  {
   "cell_type": "code",
   "execution_count": 76,
   "metadata": {},
   "outputs": [],
   "source": [
    "def compute_coherence_values(dictionary, corpus, texts, limit, start=2, step=3):\n",
    "    coherence_values = []\n",
    "    model_list = []\n",
    "    for num_topics in range(start, limit, step):\n",
    "        model = gensim.models.wrappers.LdaMallet(mallet_path, corpus=corpus, num_topics=num_topics, id2word=id2word)\n",
    "        model_list.append(model)\n",
    "        coherencemodel = CoherenceModel(model=model, texts=texts, dictionary=dictionary, coherence='c_v')\n",
    "        coherence_values.append(coherencemodel.get_coherence())\n",
    "\n",
    "    return model_list, coherence_values"
   ]
  },
  {
   "cell_type": "code",
   "execution_count": 77,
   "metadata": {},
   "outputs": [],
   "source": [
    "model_list, coherence_values = compute_coherence_values(dictionary=id2word, corpus=corpus, texts=doc_clean, start=2, limit=40, step=6)"
   ]
  },
  {
   "cell_type": "code",
   "execution_count": 78,
   "metadata": {},
   "outputs": [
    {
     "data": {
      "image/png": "[encoded data removed]",
      "text/plain": [
       "<Figure size 432x288 with 1 Axes>"
      ]
     },
     "metadata": {
      "needs_background": "light"
     },
     "output_type": "display_data"
    }
   ],
   "source": [
    "limit=40; start=2; step=6;\n",
    "x = range(start, limit, step)\n",
    "plt.plot(x, coherence_values)\n",
    "plt.xlabel(\"Num Topics\")\n",
    "plt.ylabel(\"Coherence score\")\n",
    "plt.legend((\"coherence_values\"), loc='best')\n",
    "plt.show()"
   ]
  },
  {
   "cell_type": "code",
   "execution_count": 79,
   "metadata": {},
   "outputs": [
    {
     "name": "stdout",
     "output_type": "stream",
     "text": [
      "Num Topics = 2  has Coherence Value of 0.3149\n",
      "Num Topics = 8  has Coherence Value of 0.3917\n",
      "Num Topics = 14  has Coherence Value of 0.4042\n",
      "Num Topics = 20  has Coherence Value of 0.3935\n",
      "Num Topics = 26  has Coherence Value of 0.3899\n",
      "Num Topics = 32  has Coherence Value of 0.3797\n",
      "Num Topics = 38  has Coherence Value of 0.3547\n"
     ]
    }
   ],
   "source": [
    "for m, cv in zip(x, coherence_values):\n",
    "    print(\"Num Topics =\", m, \" has Coherence Value of\", round(cv, 4))"
   ]
  },
  {
   "cell_type": "code",
   "execution_count": 80,
   "metadata": {},
   "outputs": [],
   "source": [
    "Lda = gensim.models.ldamodel.LdaModel\n",
    "ldamodel = Lda(corpus, num_topics=14, id2word = id2word, passes=50)"
   ]
  },
  {
   "cell_type": "code",
   "execution_count": 150,
   "metadata": {},
   "outputs": [],
   "source": [
    "def format_topics_sentences(ldamodel=ldamodel, corpus=corpus, texts=doc_clean):\n",
    "    # Init output\n",
    "    sent_topics_df = pd.DataFrame()\n",
    "\n",
    "    # Get main topic in each document\n",
    "    for i, row in enumerate(ldamodel[corpus]):\n",
    "        row = sorted(row, key=lambda x: (x[1]), reverse=True)\n",
    "        # Get the Dominant topic, Perc Contribution and Keywords for each document\n",
    "        for j, (topic_num, prop_topic) in enumerate(row):\n",
    "            if j == 0:  # => dominant topic\n",
    "                wp = ldamodel.show_topic(topic_num)\n",
    "                topic_keywords = \", \".join([word for word, prop in wp])\n",
    "                sent_topics_df = sent_topics_df.append(pd.Series([int(topic_num), round(prop_topic,4), topic_keywords]), ignore_index=True)\n",
    "            else:\n",
    "                break\n",
    "    sent_topics_df.columns = ['Dominant_Topic', 'Perc_Contribution', 'Topic_Keywords']\n",
    "\n",
    "    # Add original text to the end of the output\n",
    "    contents = pd.Series(texts)\n",
    "    sent_topics_df = pd.concat([sent_topics_df, contents], axis=1)\n",
    "    return(sent_topics_df)"
   ]
  },
  {
   "cell_type": "code",
   "execution_count": 151,
   "metadata": {},
   "outputs": [],
   "source": [
    "doc_train = [doc.split() for doc in preprocessed_plot_train] \n",
    "doc_test = [doc.split() for doc in preprocessed_plot_test] \n",
    "doc_val = [doc.split() for doc in preprocessed_plot_val] \n",
    "corpus_train = [id2word.doc2bow(doc) for doc in doc_train]\n",
    "corpus_test = [id2word.doc2bow(doc) for doc in doc_test]\n",
    "corpus_val = [id2word.doc2bow(doc) for doc in doc_val]"
   ]
  },
  {
   "cell_type": "code",
   "execution_count": 152,
   "metadata": {},
   "outputs": [],
   "source": [
    "df_topic_sents_keywords_train = format_topics_sentences(ldamodel=ldamodel, corpus=corpus_train, texts=doc_train)\n",
    "df_topic_sents_keywords_test = format_topics_sentences(ldamodel=ldamodel, corpus=corpus_test, texts=doc_test)\n",
    "df_topic_sents_keywords_val = format_topics_sentences(ldamodel=ldamodel, corpus=corpus_val, texts=doc_val)"
   ]
  },
  {
   "cell_type": "code",
   "execution_count": 153,
   "metadata": {},
   "outputs": [],
   "source": [
    "df_dominant_train = df_topic_sents_keywords_train.reset_index()\n",
    "df_dominant_train.columns = ['Document_No', 'Dominant_Topic', 'Topic_Perc_Contrib', 'Keywords', 'Text']"
   ]
  },
  {
   "cell_type": "code",
   "execution_count": 154,
   "metadata": {},
   "outputs": [],
   "source": [
    "df_dominant_test = df_topic_sents_keywords_test.reset_index()\n",
    "df_dominant_test.columns = ['Document_No', 'Dominant_Topic', 'Topic_Perc_Contrib', 'Keywords', 'Text']"
   ]
  },
  {
   "cell_type": "code",
   "execution_count": 155,
   "metadata": {},
   "outputs": [],
   "source": [
    "df_dominant_val = df_topic_sents_keywords_val.reset_index()\n",
    "df_dominant_val.columns = ['Document_No', 'Dominant_Topic', 'Topic_Perc_Contrib', 'Keywords', 'Text']"
   ]
  },
  {
   "cell_type": "code",
   "execution_count": 156,
   "metadata": {},
   "outputs": [
    {
     "data": {
      "text/html": [
       "<div>\n",
       "<style scoped>\n",
       "    .dataframe tbody tr th:only-of-type {\n",
       "        vertical-align: middle;\n",
       "    }\n",
       "\n",
       "    .dataframe tbody tr th {\n",
       "        vertical-align: top;\n",
       "    }\n",
       "\n",
       "    .dataframe thead th {\n",
       "        text-align: right;\n",
       "    }\n",
       "</style>\n",
       "<table border=\"1\" class=\"dataframe\">\n",
       "  <thead>\n",
       "    <tr style=\"text-align: right;\">\n",
       "      <th></th>\n",
       "      <th>Document_No</th>\n",
       "      <th>Dominant_Topic</th>\n",
       "      <th>Topic_Perc_Contrib</th>\n",
       "      <th>Keywords</th>\n",
       "      <th>Text</th>\n",
       "    </tr>\n",
       "  </thead>\n",
       "  <tbody>\n",
       "    <tr>\n",
       "      <th>0</th>\n",
       "      <td>0</td>\n",
       "      <td>9.0</td>\n",
       "      <td>0.3599</td>\n",
       "      <td>house, dr, body, room, finds, death, dead, fin...</td>\n",
       "      <td>[note, synopsis, orginal, italian, release, se...</td>\n",
       "    </tr>\n",
       "    <tr>\n",
       "      <th>1</th>\n",
       "      <td>1</td>\n",
       "      <td>0.0</td>\n",
       "      <td>0.6108</td>\n",
       "      <td>one, ship, two, find, back, escape, earth, cit...</td>\n",
       "      <td>[two, thousand, years, ago, nhagruul, foul, so...</td>\n",
       "    </tr>\n",
       "    <tr>\n",
       "      <th>2</th>\n",
       "      <td>2</td>\n",
       "      <td>1.0</td>\n",
       "      <td>0.6169</td>\n",
       "      <td>father, one, love, life, new, family, mother, ...</td>\n",
       "      <td>[glenn, holland, morning, person, anyone, stan...</td>\n",
       "    </tr>\n",
       "    <tr>\n",
       "      <th>3</th>\n",
       "      <td>3</td>\n",
       "      <td>7.0</td>\n",
       "      <td>0.3619</td>\n",
       "      <td>police, money, john, man, men, killed, kill, c...</td>\n",
       "      <td>[baise, moi, tells, story, nadine, manu, go, v...</td>\n",
       "    </tr>\n",
       "    <tr>\n",
       "      <th>4</th>\n",
       "      <td>4</td>\n",
       "      <td>6.0</td>\n",
       "      <td>0.2462</td>\n",
       "      <td>tells, back, says, asks, get, go, one, goes, s...</td>\n",
       "      <td>[kyle, pratt, jodie, foster, propulsion, engin...</td>\n",
       "    </tr>\n",
       "    <tr>\n",
       "      <th>5</th>\n",
       "      <td>5</td>\n",
       "      <td>7.0</td>\n",
       "      <td>0.4542</td>\n",
       "      <td>police, money, john, man, men, killed, kill, c...</td>\n",
       "      <td>[small, time, italian, american, criminals, ca...</td>\n",
       "    </tr>\n",
       "    <tr>\n",
       "      <th>6</th>\n",
       "      <td>6</td>\n",
       "      <td>6.0</td>\n",
       "      <td>0.3554</td>\n",
       "      <td>tells, back, says, asks, get, go, one, goes, s...</td>\n",
       "      <td>[movie, begins, video, shot, men, hands, tied,...</td>\n",
       "    </tr>\n",
       "    <tr>\n",
       "      <th>7</th>\n",
       "      <td>7</td>\n",
       "      <td>1.0</td>\n",
       "      <td>0.5110</td>\n",
       "      <td>father, one, love, life, new, family, mother, ...</td>\n",
       "      <td>[action, takes, place, years, sweden, troubled...</td>\n",
       "    </tr>\n",
       "    <tr>\n",
       "      <th>8</th>\n",
       "      <td>8</td>\n",
       "      <td>9.0</td>\n",
       "      <td>0.5418</td>\n",
       "      <td>house, dr, body, room, finds, death, dead, fin...</td>\n",
       "      <td>[somafree, institute, dr, hal, raglan, humilia...</td>\n",
       "    </tr>\n",
       "    <tr>\n",
       "      <th>9</th>\n",
       "      <td>9</td>\n",
       "      <td>1.0</td>\n",
       "      <td>0.4668</td>\n",
       "      <td>father, one, love, life, new, family, mother, ...</td>\n",
       "      <td>[brothers, terry, colin, farrell, ian, ewan, m...</td>\n",
       "    </tr>\n",
       "  </tbody>\n",
       "</table>\n",
       "</div>"
      ],
      "text/plain": [
       "   Document_No  Dominant_Topic  Topic_Perc_Contrib  \\\n",
       "0            0             9.0              0.3599   \n",
       "1            1             0.0              0.6108   \n",
       "2            2             1.0              0.6169   \n",
       "3            3             7.0              0.3619   \n",
       "4            4             6.0              0.2462   \n",
       "5            5             7.0              0.4542   \n",
       "6            6             6.0              0.3554   \n",
       "7            7             1.0              0.5110   \n",
       "8            8             9.0              0.5418   \n",
       "9            9             1.0              0.4668   \n",
       "\n",
       "                                            Keywords  \\\n",
       "0  house, dr, body, room, finds, death, dead, fin...   \n",
       "1  one, ship, two, find, back, escape, earth, cit...   \n",
       "2  father, one, love, life, new, family, mother, ...   \n",
       "3  police, money, john, man, men, killed, kill, c...   \n",
       "4  tells, back, says, asks, get, go, one, goes, s...   \n",
       "5  police, money, john, man, men, killed, kill, c...   \n",
       "6  tells, back, says, asks, get, go, one, goes, s...   \n",
       "7  father, one, love, life, new, family, mother, ...   \n",
       "8  house, dr, body, room, finds, death, dead, fin...   \n",
       "9  father, one, love, life, new, family, mother, ...   \n",
       "\n",
       "                                                Text  \n",
       "0  [note, synopsis, orginal, italian, release, se...  \n",
       "1  [two, thousand, years, ago, nhagruul, foul, so...  \n",
       "2  [glenn, holland, morning, person, anyone, stan...  \n",
       "3  [baise, moi, tells, story, nadine, manu, go, v...  \n",
       "4  [kyle, pratt, jodie, foster, propulsion, engin...  \n",
       "5  [small, time, italian, american, criminals, ca...  \n",
       "6  [movie, begins, video, shot, men, hands, tied,...  \n",
       "7  [action, takes, place, years, sweden, troubled...  \n",
       "8  [somafree, institute, dr, hal, raglan, humilia...  \n",
       "9  [brothers, terry, colin, farrell, ian, ewan, m...  "
      ]
     },
     "execution_count": 156,
     "metadata": {},
     "output_type": "execute_result"
    }
   ],
   "source": [
    "df_dominant_train.head(10)"
   ]
  },
  {
   "cell_type": "code",
   "execution_count": 157,
   "metadata": {},
   "outputs": [],
   "source": [
    "df_dominant_train['Keywords'] = df_dominant_train['Keywords'].apply(lambda x : x.split(','))"
   ]
  },
  {
   "cell_type": "code",
   "execution_count": 158,
   "metadata": {},
   "outputs": [],
   "source": [
    "df_dominant_test['Keywords'] = df_dominant_test['Keywords'].apply(lambda x : x.split(','))\n",
    "df_dominant_val['Keywords'] = df_dominant_val['Keywords'].apply(lambda x : x.split(','))"
   ]
  },
  {
   "cell_type": "code",
   "execution_count": 159,
   "metadata": {},
   "outputs": [
    {
     "data": {
      "text/html": [
       "<div>\n",
       "<style scoped>\n",
       "    .dataframe tbody tr th:only-of-type {\n",
       "        vertical-align: middle;\n",
       "    }\n",
       "\n",
       "    .dataframe tbody tr th {\n",
       "        vertical-align: top;\n",
       "    }\n",
       "\n",
       "    .dataframe thead th {\n",
       "        text-align: right;\n",
       "    }\n",
       "</style>\n",
       "<table border=\"1\" class=\"dataframe\">\n",
       "  <thead>\n",
       "    <tr style=\"text-align: right;\">\n",
       "      <th></th>\n",
       "      <th>Document_No</th>\n",
       "      <th>Dominant_Topic</th>\n",
       "      <th>Topic_Perc_Contrib</th>\n",
       "      <th>Keywords</th>\n",
       "      <th>Text</th>\n",
       "    </tr>\n",
       "  </thead>\n",
       "  <tbody>\n",
       "    <tr>\n",
       "      <th>0</th>\n",
       "      <td>0</td>\n",
       "      <td>9.0</td>\n",
       "      <td>0.3599</td>\n",
       "      <td>[house,  dr,  body,  room,  finds,  death,  de...</td>\n",
       "      <td>[note, synopsis, orginal, italian, release, se...</td>\n",
       "    </tr>\n",
       "    <tr>\n",
       "      <th>1</th>\n",
       "      <td>1</td>\n",
       "      <td>0.0</td>\n",
       "      <td>0.6108</td>\n",
       "      <td>[one,  ship,  two,  find,  back,  escape,  ear...</td>\n",
       "      <td>[two, thousand, years, ago, nhagruul, foul, so...</td>\n",
       "    </tr>\n",
       "    <tr>\n",
       "      <th>2</th>\n",
       "      <td>2</td>\n",
       "      <td>1.0</td>\n",
       "      <td>0.6169</td>\n",
       "      <td>[father,  one,  love,  life,  new,  family,  m...</td>\n",
       "      <td>[glenn, holland, morning, person, anyone, stan...</td>\n",
       "    </tr>\n",
       "    <tr>\n",
       "      <th>3</th>\n",
       "      <td>3</td>\n",
       "      <td>7.0</td>\n",
       "      <td>0.3619</td>\n",
       "      <td>[police,  money,  john,  man,  men,  killed,  ...</td>\n",
       "      <td>[baise, moi, tells, story, nadine, manu, go, v...</td>\n",
       "    </tr>\n",
       "    <tr>\n",
       "      <th>4</th>\n",
       "      <td>4</td>\n",
       "      <td>6.0</td>\n",
       "      <td>0.2462</td>\n",
       "      <td>[tells,  back,  says,  asks,  get,  go,  one, ...</td>\n",
       "      <td>[kyle, pratt, jodie, foster, propulsion, engin...</td>\n",
       "    </tr>\n",
       "  </tbody>\n",
       "</table>\n",
       "</div>"
      ],
      "text/plain": [
       "   Document_No  Dominant_Topic  Topic_Perc_Contrib  \\\n",
       "0            0             9.0              0.3599   \n",
       "1            1             0.0              0.6108   \n",
       "2            2             1.0              0.6169   \n",
       "3            3             7.0              0.3619   \n",
       "4            4             6.0              0.2462   \n",
       "\n",
       "                                            Keywords  \\\n",
       "0  [house,  dr,  body,  room,  finds,  death,  de...   \n",
       "1  [one,  ship,  two,  find,  back,  escape,  ear...   \n",
       "2  [father,  one,  love,  life,  new,  family,  m...   \n",
       "3  [police,  money,  john,  man,  men,  killed,  ...   \n",
       "4  [tells,  back,  says,  asks,  get,  go,  one, ...   \n",
       "\n",
       "                                                Text  \n",
       "0  [note, synopsis, orginal, italian, release, se...  \n",
       "1  [two, thousand, years, ago, nhagruul, foul, so...  \n",
       "2  [glenn, holland, morning, person, anyone, stan...  \n",
       "3  [baise, moi, tells, story, nadine, manu, go, v...  \n",
       "4  [kyle, pratt, jodie, foster, propulsion, engin...  "
      ]
     },
     "execution_count": 159,
     "metadata": {},
     "output_type": "execute_result"
    }
   ],
   "source": [
    "df_dominant_train.head()"
   ]
  },
  {
   "cell_type": "code",
   "execution_count": 160,
   "metadata": {},
   "outputs": [
    {
     "data": {
      "text/plain": [
       "(2349, 5)"
      ]
     },
     "execution_count": 160,
     "metadata": {},
     "output_type": "execute_result"
    }
   ],
   "source": [
    "df_dominant_val.shape"
   ]
  },
  {
   "cell_type": "code",
   "execution_count": 161,
   "metadata": {},
   "outputs": [],
   "source": [
    "from sklearn.preprocessing import MultiLabelBinarizer\n",
    "\n",
    "multilabel_binarizer = MultiLabelBinarizer()\n",
    "multilabel_binarizer.fit(df_dominant_train['Keywords'])\n",
    "labels = multilabel_binarizer.classes_"
   ]
  },
  {
   "cell_type": "code",
   "execution_count": 162,
   "metadata": {},
   "outputs": [],
   "source": [
    "keywords_train = multilabel_binarizer.transform(df_dominant_train['Keywords'])\n",
    "keywords_test = multilabel_binarizer.transform(df_dominant_test['Keywords'])\n",
    "keywords_val = multilabel_binarizer.transform(df_dominant_val['Keywords'])"
   ]
  },
  {
   "cell_type": "code",
   "execution_count": 163,
   "metadata": {},
   "outputs": [],
   "source": [
    "top_train_final = df_dominant_train[['Dominant_Topic','Topic_Perc_Contrib']]\n",
    "top_test_final = df_dominant_test[['Dominant_Topic','Topic_Perc_Contrib']]\n",
    "top_val_final = df_dominant_val[['Dominant_Topic','Topic_Perc_Contrib']]"
   ]
  },
  {
   "cell_type": "code",
   "execution_count": 164,
   "metadata": {},
   "outputs": [],
   "source": [
    "temp_train = pd.DataFrame(keywords_train)\n",
    "temp_test = pd.DataFrame(keywords_test)\n",
    "temp_val = pd.DataFrame(keywords_val)"
   ]
  },
  {
   "cell_type": "code",
   "execution_count": 165,
   "metadata": {},
   "outputs": [],
   "source": [
    "train_topic = pd.concat([top_train_final,temp_train], axis=1)\n",
    "test_topic = pd.concat([top_test_final,temp_test], axis=1)\n",
    "val_topic = pd.concat([top_val_final,temp_val], axis=1)"
   ]
  },
  {
   "cell_type": "code",
   "execution_count": 166,
   "metadata": {},
   "outputs": [
    {
     "data": {
      "text/html": [
       "<div>\n",
       "<style scoped>\n",
       "    .dataframe tbody tr th:only-of-type {\n",
       "        vertical-align: middle;\n",
       "    }\n",
       "\n",
       "    .dataframe tbody tr th {\n",
       "        vertical-align: top;\n",
       "    }\n",
       "\n",
       "    .dataframe thead th {\n",
       "        text-align: right;\n",
       "    }\n",
       "</style>\n",
       "<table border=\"1\" class=\"dataframe\">\n",
       "  <thead>\n",
       "    <tr style=\"text-align: right;\">\n",
       "      <th></th>\n",
       "      <th>Dominant_Topic</th>\n",
       "      <th>Topic_Perc_Contrib</th>\n",
       "      <th>0</th>\n",
       "      <th>1</th>\n",
       "      <th>2</th>\n",
       "      <th>3</th>\n",
       "      <th>4</th>\n",
       "      <th>5</th>\n",
       "      <th>6</th>\n",
       "      <th>7</th>\n",
       "      <th>...</th>\n",
       "      <th>123</th>\n",
       "      <th>124</th>\n",
       "      <th>125</th>\n",
       "      <th>126</th>\n",
       "      <th>127</th>\n",
       "      <th>128</th>\n",
       "      <th>129</th>\n",
       "      <th>130</th>\n",
       "      <th>131</th>\n",
       "      <th>132</th>\n",
       "    </tr>\n",
       "  </thead>\n",
       "  <tbody>\n",
       "    <tr>\n",
       "      <th>0</th>\n",
       "      <td>9.0</td>\n",
       "      <td>0.3599</td>\n",
       "      <td>0</td>\n",
       "      <td>0</td>\n",
       "      <td>0</td>\n",
       "      <td>0</td>\n",
       "      <td>0</td>\n",
       "      <td>0</td>\n",
       "      <td>0</td>\n",
       "      <td>0</td>\n",
       "      <td>...</td>\n",
       "      <td>0</td>\n",
       "      <td>0</td>\n",
       "      <td>0</td>\n",
       "      <td>1</td>\n",
       "      <td>0</td>\n",
       "      <td>0</td>\n",
       "      <td>0</td>\n",
       "      <td>0</td>\n",
       "      <td>0</td>\n",
       "      <td>0</td>\n",
       "    </tr>\n",
       "    <tr>\n",
       "      <th>1</th>\n",
       "      <td>0.0</td>\n",
       "      <td>0.6108</td>\n",
       "      <td>0</td>\n",
       "      <td>0</td>\n",
       "      <td>0</td>\n",
       "      <td>0</td>\n",
       "      <td>0</td>\n",
       "      <td>0</td>\n",
       "      <td>0</td>\n",
       "      <td>0</td>\n",
       "      <td>...</td>\n",
       "      <td>0</td>\n",
       "      <td>0</td>\n",
       "      <td>0</td>\n",
       "      <td>0</td>\n",
       "      <td>0</td>\n",
       "      <td>0</td>\n",
       "      <td>0</td>\n",
       "      <td>1</td>\n",
       "      <td>0</td>\n",
       "      <td>0</td>\n",
       "    </tr>\n",
       "    <tr>\n",
       "      <th>2</th>\n",
       "      <td>1.0</td>\n",
       "      <td>0.6169</td>\n",
       "      <td>0</td>\n",
       "      <td>0</td>\n",
       "      <td>0</td>\n",
       "      <td>0</td>\n",
       "      <td>0</td>\n",
       "      <td>0</td>\n",
       "      <td>0</td>\n",
       "      <td>0</td>\n",
       "      <td>...</td>\n",
       "      <td>1</td>\n",
       "      <td>0</td>\n",
       "      <td>0</td>\n",
       "      <td>0</td>\n",
       "      <td>0</td>\n",
       "      <td>0</td>\n",
       "      <td>0</td>\n",
       "      <td>0</td>\n",
       "      <td>0</td>\n",
       "      <td>0</td>\n",
       "    </tr>\n",
       "    <tr>\n",
       "      <th>3</th>\n",
       "      <td>7.0</td>\n",
       "      <td>0.3619</td>\n",
       "      <td>0</td>\n",
       "      <td>0</td>\n",
       "      <td>0</td>\n",
       "      <td>0</td>\n",
       "      <td>0</td>\n",
       "      <td>0</td>\n",
       "      <td>0</td>\n",
       "      <td>0</td>\n",
       "      <td>...</td>\n",
       "      <td>0</td>\n",
       "      <td>0</td>\n",
       "      <td>0</td>\n",
       "      <td>0</td>\n",
       "      <td>0</td>\n",
       "      <td>0</td>\n",
       "      <td>0</td>\n",
       "      <td>0</td>\n",
       "      <td>1</td>\n",
       "      <td>0</td>\n",
       "    </tr>\n",
       "    <tr>\n",
       "      <th>4</th>\n",
       "      <td>6.0</td>\n",
       "      <td>0.2462</td>\n",
       "      <td>0</td>\n",
       "      <td>0</td>\n",
       "      <td>0</td>\n",
       "      <td>0</td>\n",
       "      <td>0</td>\n",
       "      <td>0</td>\n",
       "      <td>0</td>\n",
       "      <td>1</td>\n",
       "      <td>...</td>\n",
       "      <td>0</td>\n",
       "      <td>0</td>\n",
       "      <td>0</td>\n",
       "      <td>0</td>\n",
       "      <td>0</td>\n",
       "      <td>0</td>\n",
       "      <td>0</td>\n",
       "      <td>0</td>\n",
       "      <td>0</td>\n",
       "      <td>1</td>\n",
       "    </tr>\n",
       "  </tbody>\n",
       "</table>\n",
       "<p>5 rows × 135 columns</p>\n",
       "</div>"
      ],
      "text/plain": [
       "   Dominant_Topic  Topic_Perc_Contrib  0  1  2  3  4  5  6  7  ...  123  124  \\\n",
       "0             9.0              0.3599  0  0  0  0  0  0  0  0  ...    0    0   \n",
       "1             0.0              0.6108  0  0  0  0  0  0  0  0  ...    0    0   \n",
       "2             1.0              0.6169  0  0  0  0  0  0  0  0  ...    1    0   \n",
       "3             7.0              0.3619  0  0  0  0  0  0  0  0  ...    0    0   \n",
       "4             6.0              0.2462  0  0  0  0  0  0  0  1  ...    0    0   \n",
       "\n",
       "   125  126  127  128  129  130  131  132  \n",
       "0    0    1    0    0    0    0    0    0  \n",
       "1    0    0    0    0    0    1    0    0  \n",
       "2    0    0    0    0    0    0    0    0  \n",
       "3    0    0    0    0    0    0    1    0  \n",
       "4    0    0    0    0    0    0    0    1  \n",
       "\n",
       "[5 rows x 135 columns]"
      ]
     },
     "execution_count": 166,
     "metadata": {},
     "output_type": "execute_result"
    }
   ],
   "source": [
    "train_topic.head()"
   ]
  },
  {
   "cell_type": "markdown",
   "metadata": {},
   "source": [
    "## 3.5 Applying Logistic Regression with OneVsRest Classifier"
   ]
  },
  {
   "cell_type": "code",
   "execution_count": 56,
   "metadata": {},
   "outputs": [],
   "source": [
    "alpha = [10**i for i in range(-8,-2)]"
   ]
  },
  {
   "cell_type": "markdown",
   "metadata": {},
   "source": [
    "### Hyper parameter tuning using validation set"
   ]
  },
  {
   "cell_type": "markdown",
   "metadata": {},
   "source": [
    "#### BOW"
   ]
  },
  {
   "cell_type": "code",
   "execution_count": 52,
   "metadata": {},
   "outputs": [
    {
     "name": "stdout",
     "output_type": "stream",
     "text": [
      "Alpha :  1e-08\n",
      "Accuracy : 0.021285653469561516\n",
      "Hamming loss  0.05673975740351003\n",
      "Micro-average quality numbers\n",
      "Precision: 0.2368, Recall: 0.1495, F1-measure: 0.1833\n",
      "Time taken to run this iteration : 0:00:11.397687\n",
      "Alpha :  1e-07\n",
      "Accuracy : 0.019582801191996593\n",
      "Hamming loss  0.06188428998854772\n",
      "Micro-average quality numbers\n",
      "Precision: 0.2772, Recall: 0.2819, F1-measure: 0.2795\n",
      "Time taken to run this iteration : 0:00:10.523084\n",
      "Alpha :  1e-06\n",
      "Accuracy : 0.022137079608343976\n",
      "Hamming loss  0.05660185035286217\n",
      "Micro-average quality numbers\n",
      "Precision: 0.2753, Recall: 0.2016, F1-measure: 0.2328\n",
      "Time taken to run this iteration : 0:00:10.544615\n",
      "Alpha :  1e-05\n",
      "Accuracy : 0.031502767134951044\n",
      "Hamming loss  0.06481031784577194\n",
      "Micro-average quality numbers\n",
      "Precision: 0.2737, Recall: 0.3155, F1-measure: 0.2931\n",
      "Time taken to run this iteration : 0:00:10.764515\n",
      "Alpha :  0.0001\n",
      "Accuracy : 0.02554278416347382\n",
      "Hamming loss  0.06285563530180659\n",
      "Micro-average quality numbers\n",
      "Precision: 0.2866, Recall: 0.3196, F1-measure: 0.3022\n",
      "Time taken to run this iteration : 0:00:11.142903\n",
      "Alpha :  0.001\n",
      "Accuracy : 0.019157088122605363\n",
      "Hamming loss  0.06789823658853933\n",
      "Micro-average quality numbers\n",
      "Precision: 0.2475, Recall: 0.2913, F1-measure: 0.2676\n",
      "Time taken to run this iteration : 0:00:11.724173\n"
     ]
    }
   ],
   "source": [
    "for i in alpha:\n",
    "    start = datetime.now()\n",
    "    classifier = OneVsRestClassifier(SGDClassifier(loss='log', alpha=i, penalty='l1'))\n",
    "    classifier.fit(final_counts_train, multilabel_train)\n",
    "    predictions = classifier.predict(final_counts_cv)\n",
    "\n",
    "    print(\"Alpha : \",i)\n",
    "    print(\"Accuracy :\",metrics.accuracy_score(multilable_val, predictions))\n",
    "    print(\"Hamming loss \",metrics.hamming_loss(multilable_val,predictions))\n",
    "\n",
    "\n",
    "    precision = precision_score(multilable_val, predictions, average='micro')\n",
    "    recall = recall_score(multilable_val, predictions, average='micro')\n",
    "    f1 = f1_score(multilable_val, predictions, average='micro')\n",
    "\n",
    "    print(\"Micro-average quality numbers\")\n",
    "    print(\"Precision: {:.4f}, Recall: {:.4f}, F1-measure: {:.4f}\".format(precision, recall, f1))\n",
    "    print(\"Time taken to run this iteration :\", datetime.now() - start)"
   ]
  },
  {
   "cell_type": "code",
   "execution_count": 57,
   "metadata": {},
   "outputs": [
    {
     "name": "stdout",
     "output_type": "stream",
     "text": [
      "Alpha :  1e-08\n",
      "Accuracy : 0.03065134099616858\n",
      "Hamming loss  0.05483903848805905\n",
      "Micro-average quality numbers\n",
      "Precision: 0.3332, Recall: 0.2873, F1-measure: 0.3086\n",
      "Time taken to run this iteration : 0:00:13.757347\n",
      "Alpha :  1e-07\n",
      "Accuracy : 0.016177096636866752\n",
      "Hamming loss  0.06433064114786634\n",
      "Micro-average quality numbers\n",
      "Precision: 0.2324, Recall: 0.2216, F1-measure: 0.2269\n",
      "Time taken to run this iteration : 0:00:12.004802\n",
      "Alpha :  1e-06\n",
      "Accuracy : 0.01319710515112814\n",
      "Hamming loss  0.06434263306531397\n",
      "Micro-average quality numbers\n",
      "Precision: 0.2870, Recall: 0.3441, F1-measure: 0.3130\n",
      "Time taken to run this iteration : 0:00:10.559572\n",
      "Alpha :  1e-05\n",
      "Accuracy : 0.025117071094082587\n",
      "Hamming loss  0.058802367204504165\n",
      "Micro-average quality numbers\n",
      "Precision: 0.3125, Recall: 0.3173, F1-measure: 0.3149\n",
      "Time taken to run this iteration : 0:00:10.691849\n",
      "Alpha :  0.0001\n",
      "Accuracy : 0.021285653469561516\n",
      "Hamming loss  0.06419273409721847\n",
      "Micro-average quality numbers\n",
      "Precision: 0.2771, Recall: 0.3152, F1-measure: 0.2949\n",
      "Time taken to run this iteration : 0:00:11.147788\n",
      "Alpha :  0.001\n",
      "Accuracy : 0.024265644955300127\n",
      "Hamming loss  0.06464243100150499\n",
      "Micro-average quality numbers\n",
      "Precision: 0.2435, Recall: 0.2458, F1-measure: 0.2447\n",
      "Time taken to run this iteration : 0:00:10.101822\n"
     ]
    }
   ],
   "source": [
    "for i in alpha:\n",
    "    start = datetime.now()\n",
    "    classifier = OneVsRestClassifier(SGDClassifier(loss='hinge', alpha=i, penalty='l1'))\n",
    "    classifier.fit(final_counts_train, multilabel_train)\n",
    "    predictions = classifier.predict(final_counts_cv)\n",
    "\n",
    "    print(\"Alpha : \",i)\n",
    "    print(\"Accuracy :\",metrics.accuracy_score(multilable_val, predictions))\n",
    "    print(\"Hamming loss \",metrics.hamming_loss(multilable_val,predictions))\n",
    "\n",
    "\n",
    "    precision = precision_score(multilable_val, predictions, average='micro')\n",
    "    recall = recall_score(multilable_val, predictions, average='micro')\n",
    "    f1 = f1_score(multilable_val, predictions, average='micro')\n",
    "\n",
    "    print(\"Micro-average quality numbers\")\n",
    "    print(\"Precision: {:.4f}, Recall: {:.4f}, F1-measure: {:.4f}\".format(precision, recall, f1))\n",
    "    print(\"Time taken to run this iteration :\", datetime.now() - start)"
   ]
  },
  {
   "cell_type": "markdown",
   "metadata": {},
   "source": [
    "### TFIDF"
   ]
  },
  {
   "cell_type": "code",
   "execution_count": 53,
   "metadata": {},
   "outputs": [
    {
     "name": "stdout",
     "output_type": "stream",
     "text": [
      "Alpha :  1e-08\n",
      "Accuracy : 0.05491698595146871\n",
      "Hamming loss  0.04926279687490631\n",
      "Micro-average quality numbers\n",
      "Precision: 0.3919, Recall: 0.2841, F1-measure: 0.3294\n",
      "Time taken to run this iteration : 0:02:36.328119\n",
      "Alpha :  1e-07\n",
      "Accuracy : 0.06130268199233716\n",
      "Hamming loss  0.04733209816583623\n",
      "Micro-average quality numbers\n",
      "Precision: 0.4132, Recall: 0.2651, F1-measure: 0.3230\n",
      "Time taken to run this iteration : 0:02:38.020736\n",
      "Alpha :  1e-06\n",
      "Accuracy : 0.05236270753512133\n",
      "Hamming loss  0.053891677009695466\n",
      "Micro-average quality numbers\n",
      "Precision: 0.3617, Recall: 0.3469, F1-measure: 0.3541\n",
      "Time taken to run this iteration : 0:02:35.538647\n",
      "Alpha :  1e-05\n",
      "Accuracy : 0.05959982971477224\n",
      "Hamming loss  0.04807559704758992\n",
      "Micro-average quality numbers\n",
      "Precision: 0.4170, Recall: 0.3237, F1-measure: 0.3645\n",
      "Time taken to run this iteration : 0:02:38.583520\n",
      "Alpha :  0.0001\n",
      "Accuracy : 0.04469987228607918\n",
      "Hamming loss  0.040364794128757216\n",
      "Micro-average quality numbers\n",
      "Precision: 0.6357, Recall: 0.1223, F1-measure: 0.2052\n",
      "Time taken to run this iteration : 0:02:38.578659\n",
      "Alpha :  0.001\n",
      "Accuracy : 0.0\n",
      "Hamming loss  0.04258929481529449\n",
      "Micro-average quality numbers\n",
      "Precision: 0.0000, Recall: 0.0000, F1-measure: 0.0000\n",
      "Time taken to run this iteration : 0:02:43.940022\n"
     ]
    }
   ],
   "source": [
    "for i in alpha:\n",
    "    start = datetime.now()\n",
    "    classifier = OneVsRestClassifier(SGDClassifier(loss='log', alpha=i, penalty='l1'))\n",
    "    classifier.fit(final_tf_idf_train, multilabel_train)\n",
    "    predictions = classifier.predict(final_tf_idf_cv)\n",
    "\n",
    "    print(\"Alpha : \",i)\n",
    "    print(\"Accuracy :\",metrics.accuracy_score(multilable_val, predictions))\n",
    "    print(\"Hamming loss \",metrics.hamming_loss(multilable_val,predictions))\n",
    "\n",
    "\n",
    "    precision = precision_score(multilable_val, predictions, average='micro')\n",
    "    recall = recall_score(multilable_val, predictions, average='micro')\n",
    "    f1 = f1_score(multilable_val, predictions, average='micro')\n",
    "\n",
    "    print(\"Micro-average quality numbers\")\n",
    "    print(\"Precision: {:.4f}, Recall: {:.4f}, F1-measure: {:.4f}\".format(precision, recall, f1))\n",
    "    print(\"Time taken to run this iteration :\", datetime.now() - start)"
   ]
  },
  {
   "cell_type": "code",
   "execution_count": 58,
   "metadata": {},
   "outputs": [
    {
     "name": "stdout",
     "output_type": "stream",
     "text": [
      "Alpha :  1e-08\n",
      "Accuracy : 0.05874840357598978\n",
      "Hamming loss  0.04718219919774072\n",
      "Micro-average quality numbers\n",
      "Precision: 0.4132, Recall: 0.2568, F1-measure: 0.3167\n",
      "Time taken to run this iteration : 0:02:15.478095\n",
      "Alpha :  1e-07\n",
      "Accuracy : 0.05959982971477224\n",
      "Hamming loss  0.04780577890501802\n",
      "Micro-average quality numbers\n",
      "Precision: 0.4064, Recall: 0.2658, F1-measure: 0.3214\n",
      "Time taken to run this iteration : 0:02:10.630974\n",
      "Alpha :  1e-06\n",
      "Accuracy : 0.037888463175819495\n",
      "Hamming loss  0.06079902145953627\n",
      "Micro-average quality numbers\n",
      "Precision: 0.3124, Recall: 0.3560, F1-measure: 0.3328\n",
      "Time taken to run this iteration : 0:02:22.322338\n",
      "Alpha :  1e-05\n",
      "Accuracy : 0.04810557684120902\n",
      "Hamming loss  0.05282439635685548\n",
      "Micro-average quality numbers\n",
      "Precision: 0.3656, Recall: 0.3269, F1-measure: 0.3452\n",
      "Time taken to run this iteration : 0:02:17.246363\n",
      "Alpha :  0.0001\n",
      "Accuracy : 0.05321413367390379\n",
      "Hamming loss  0.04008298406873767\n",
      "Micro-average quality numbers\n",
      "Precision: 0.6526, Recall: 0.1259, F1-measure: 0.2110\n",
      "Time taken to run this iteration : 0:02:19.691058\n",
      "Alpha :  0.001\n",
      "Accuracy : 0.0004257130693912303\n",
      "Hamming loss  0.04257730289784685\n",
      "Micro-average quality numbers\n",
      "Precision: 1.0000, Recall: 0.0003, F1-measure: 0.0006\n",
      "Time taken to run this iteration : 0:02:22.593944\n"
     ]
    }
   ],
   "source": [
    "for i in alpha:\n",
    "    start = datetime.now()\n",
    "    classifier = OneVsRestClassifier(SGDClassifier(loss='hinge', alpha=i, penalty='l1'))\n",
    "    classifier.fit(final_tf_idf_train, multilabel_train)\n",
    "    predictions = classifier.predict(final_tf_idf_cv)\n",
    "\n",
    "    print(\"Alpha : \",i)\n",
    "    print(\"Accuracy :\",metrics.accuracy_score(multilable_val, predictions))\n",
    "    print(\"Hamming loss \",metrics.hamming_loss(multilable_val,predictions))\n",
    "\n",
    "\n",
    "    precision = precision_score(multilable_val, predictions, average='micro')\n",
    "    recall = recall_score(multilable_val, predictions, average='micro')\n",
    "    f1 = f1_score(multilable_val, predictions, average='micro')\n",
    "\n",
    "    print(\"Micro-average quality numbers\")\n",
    "    print(\"Precision: {:.4f}, Recall: {:.4f}, F1-measure: {:.4f}\".format(precision, recall, f1))\n",
    "    print(\"Time taken to run this iteration :\", datetime.now() - start)"
   ]
  },
  {
   "cell_type": "code",
   "execution_count": 56,
   "metadata": {},
   "outputs": [
    {
     "name": "stdout",
     "output_type": "stream",
     "text": [
      "Alpha :  0.001\n",
      "Accuracy : 0.0736196319018405\n",
      "Hamming loss  0.04832128421517517\n",
      "Micro-average quality numbers\n",
      "Precision: 0.4164, Recall: 0.3138, F1-measure: 0.3579\n",
      "Time taken to run this iteration : 0:02:30.344636\n"
     ]
    }
   ],
   "source": [
    "start = datetime.now()\n",
    "classifier = OneVsRestClassifier(SGDClassifier(loss='log', alpha=10**-5, penalty='l1'))\n",
    "classifier.fit(final_tf_idf_train, multilabel_train)\n",
    "predictions = classifier.predict(final_tf_idf_test)\n",
    "\n",
    "print(\"Alpha : \",i)\n",
    "print(\"Accuracy :\",metrics.accuracy_score(multilabel_test, predictions))\n",
    "print(\"Hamming loss \",metrics.hamming_loss(multilabel_test,predictions))\n",
    "\n",
    "\n",
    "precision = precision_score(multilabel_test, predictions, average='micro')\n",
    "recall = recall_score(multilabel_test, predictions, average='micro')\n",
    "f1 = f1_score(multilabel_test, predictions, average='micro')\n",
    "\n",
    "print(\"Micro-average quality numbers\")\n",
    "print(\"Precision: {:.4f}, Recall: {:.4f}, F1-measure: {:.4f}\".format(precision, recall, f1))\n",
    "print(\"Time taken to run this iteration :\", datetime.now() - start)"
   ]
  },
  {
   "cell_type": "markdown",
   "metadata": {},
   "source": [
    "### AvgW2V"
   ]
  },
  {
   "cell_type": "code",
   "execution_count": 59,
   "metadata": {},
   "outputs": [
    {
     "name": "stdout",
     "output_type": "stream",
     "text": [
      "Alpha :  1e-08\n",
      "Accuracy : 0.008514261387824606\n",
      "Hamming loss  0.06316742515544523\n",
      "Micro-average quality numbers\n",
      "Precision: 0.1823, Recall: 0.1387, F1-measure: 0.1575\n",
      "Time taken to run this iteration : 0:00:02.211247\n",
      "Alpha :  1e-07\n",
      "Accuracy : 0.001277139208173691\n",
      "Hamming loss  0.06624335198076496\n",
      "Micro-average quality numbers\n",
      "Precision: 0.1775, Recall: 0.1529, F1-measure: 0.1643\n",
      "Time taken to run this iteration : 0:00:01.576534\n",
      "Alpha :  1e-06\n",
      "Accuracy : 0.01532567049808429\n",
      "Hamming loss  0.056685793774995656\n",
      "Micro-average quality numbers\n",
      "Precision: 0.2537, Recall: 0.1705, F1-measure: 0.2039\n",
      "Time taken to run this iteration : 0:00:01.629967\n",
      "Alpha :  1e-05\n",
      "Accuracy : 0.021711366538952746\n",
      "Hamming loss  0.05650591501328105\n",
      "Micro-average quality numbers\n",
      "Precision: 0.3063, Recall: 0.2583, F1-measure: 0.2803\n",
      "Time taken to run this iteration : 0:00:01.404570\n",
      "Alpha :  0.0001\n",
      "Accuracy : 0.05917411664538101\n",
      "Hamming loss  0.046444696274710845\n",
      "Micro-average quality numbers\n",
      "Precision: 0.3989, Recall: 0.1787, F1-measure: 0.2468\n",
      "Time taken to run this iteration : 0:00:01.445370\n",
      "Alpha :  0.001\n",
      "Accuracy : 0.04725415070242656\n",
      "Hamming loss  0.0406885758998435\n",
      "Micro-average quality numbers\n",
      "Precision: 0.6042, Recall: 0.1294, F1-measure: 0.2131\n",
      "Time taken to run this iteration : 0:00:01.576338\n"
     ]
    }
   ],
   "source": [
    "for i in alpha:\n",
    "    start = datetime.now()\n",
    "    classifier = OneVsRestClassifier(SGDClassifier(loss='log', alpha=i, penalty='l1'))\n",
    "    classifier.fit(sent_vectors_train, multilabel_train)\n",
    "    predictions = classifier.predict(sent_vectors_cv)\n",
    "\n",
    "    print(\"Alpha : \",i)\n",
    "    print(\"Accuracy :\",metrics.accuracy_score(multilable_val, predictions))\n",
    "    print(\"Hamming loss \",metrics.hamming_loss(multilable_val,predictions))\n",
    "\n",
    "\n",
    "    precision = precision_score(multilable_val, predictions, average='micro')\n",
    "    recall = recall_score(multilable_val, predictions, average='micro')\n",
    "    f1 = f1_score(multilable_val, predictions, average='micro')\n",
    "\n",
    "    print(\"Micro-average quality numbers\")\n",
    "    print(\"Precision: {:.4f}, Recall: {:.4f}, F1-measure: {:.4f}\".format(precision, recall, f1))\n",
    "    print(\"Time taken to run this iteration :\", datetime.now() - start)"
   ]
  },
  {
   "cell_type": "code",
   "execution_count": 60,
   "metadata": {},
   "outputs": [
    {
     "name": "stdout",
     "output_type": "stream",
     "text": [
      "Alpha :  1e-08\n",
      "Accuracy : 0.0004257130693912303\n",
      "Hamming loss  0.07325262772891071\n",
      "Micro-average quality numbers\n",
      "Precision: 0.1672, Recall: 0.1809, F1-measure: 0.1738\n",
      "Time taken to run this iteration : 0:00:01.100667\n",
      "Alpha :  1e-07\n",
      "Accuracy : 0.020008514261387826\n",
      "Hamming loss  0.05259055396662649\n",
      "Micro-average quality numbers\n",
      "Precision: 0.3110, Recall: 0.1932, F1-measure: 0.2383\n",
      "Time taken to run this iteration : 0:00:01.107124\n",
      "Alpha :  1e-06\n",
      "Accuracy : 0.011494252873563218\n",
      "Hamming loss  0.06214211621367199\n",
      "Micro-average quality numbers\n",
      "Precision: 0.2319, Recall: 0.1985, F1-measure: 0.2139\n",
      "Time taken to run this iteration : 0:00:01.092320\n",
      "Alpha :  1e-05\n",
      "Accuracy : 0.005534269902085994\n",
      "Hamming loss  0.062052176832814686\n",
      "Micro-average quality numbers\n",
      "Precision: 0.2537, Recall: 0.2354, F1-measure: 0.2442\n",
      "Time taken to run this iteration : 0:00:01.073533\n",
      "Alpha :  0.0001\n",
      "Accuracy : 0.06555981268624947\n",
      "Hamming loss  0.044268163257964135\n",
      "Micro-average quality numbers\n",
      "Precision: 0.4423, Recall: 0.1512, F1-measure: 0.2254\n",
      "Time taken to run this iteration : 0:00:01.030959\n",
      "Alpha :  0.001\n",
      "Accuracy : 0.02979991485738612\n",
      "Hamming loss  0.040940406166243955\n",
      "Micro-average quality numbers\n",
      "Precision: 0.6416, Recall: 0.0877, F1-measure: 0.1543\n",
      "Time taken to run this iteration : 0:00:00.979644\n"
     ]
    }
   ],
   "source": [
    "for i in alpha:\n",
    "    start = datetime.now()\n",
    "    classifier = OneVsRestClassifier(SGDClassifier(loss='hinge', alpha=i, penalty='l1'))\n",
    "    classifier.fit(sent_vectors_train, multilabel_train)\n",
    "    predictions = classifier.predict(sent_vectors_cv)\n",
    "\n",
    "    print(\"Alpha : \",i)\n",
    "    print(\"Accuracy :\",metrics.accuracy_score(multilable_val, predictions))\n",
    "    print(\"Hamming loss \",metrics.hamming_loss(multilable_val,predictions))\n",
    "\n",
    "\n",
    "    precision = precision_score(multilable_val, predictions, average='micro')\n",
    "    recall = recall_score(multilable_val, predictions, average='micro')\n",
    "    f1 = f1_score(multilable_val, predictions, average='micro')\n",
    "\n",
    "    print(\"Micro-average quality numbers\")\n",
    "    print(\"Precision: {:.4f}, Recall: {:.4f}, F1-measure: {:.4f}\".format(precision, recall, f1))\n",
    "    print(\"Time taken to run this iteration :\", datetime.now() - start)"
   ]
  },
  {
   "cell_type": "markdown",
   "metadata": {},
   "source": [
    "### TFIDF W2V"
   ]
  },
  {
   "cell_type": "code",
   "execution_count": 138,
   "metadata": {},
   "outputs": [],
   "source": [
    "alpha = [10**i for i in range(-10,0)]"
   ]
  },
  {
   "cell_type": "code",
   "execution_count": 61,
   "metadata": {},
   "outputs": [
    {
     "name": "stdout",
     "output_type": "stream",
     "text": [
      "Alpha :  1e-10\n",
      "Accuracy : 0.01489995742869306\n",
      "Hamming loss  0.055474610112783984\n",
      "Micro-average quality numbers\n",
      "Precision: 0.2078, Recall: 0.1076, F1-measure: 0.1417\n",
      "Time taken to run this iteration : 0:00:01.238662\n",
      "Alpha :  1e-09\n",
      "Accuracy : 0.011919965942954448\n",
      "Hamming loss  0.0613146739097848\n",
      "Micro-average quality numbers\n",
      "Precision: 0.2232, Recall: 0.1772, F1-measure: 0.1976\n",
      "Time taken to run this iteration : 0:00:01.207359\n",
      "Alpha :  1e-08\n",
      "Accuracy : 0.005108556832694764\n",
      "Hamming loss  0.06379700082144635\n",
      "Micro-average quality numbers\n",
      "Precision: 0.2593, Recall: 0.2682, F1-measure: 0.2637\n",
      "Time taken to run this iteration : 0:00:01.346162\n",
      "Alpha :  1e-07\n",
      "Accuracy : 0.01277139208173691\n",
      "Hamming loss  0.0626517727051967\n",
      "Micro-average quality numbers\n",
      "Precision: 0.2553, Recall: 0.2458, F1-measure: 0.2505\n",
      "Time taken to run this iteration : 0:00:01.640881\n",
      "Alpha :  1e-06\n",
      "Accuracy : 0.008088548318433376\n",
      "Hamming loss  0.06607546513649801\n",
      "Micro-average quality numbers\n",
      "Precision: 0.1906, Recall: 0.1698, F1-measure: 0.1796\n",
      "Time taken to run this iteration : 0:00:01.504276\n",
      "Alpha :  1e-05\n",
      "Accuracy : 0.0008514261387824606\n",
      "Hamming loss  0.08436913520287326\n",
      "Micro-average quality numbers\n",
      "Precision: 0.1887, Recall: 0.2973, F1-measure: 0.2309\n",
      "Time taken to run this iteration : 0:00:01.666826\n",
      "Alpha :  0.0001\n",
      "Accuracy : 0.035334184759472115\n",
      "Hamming loss  0.04405230874390661\n",
      "Micro-average quality numbers\n",
      "Precision: 0.4394, Recall: 0.1246, F1-measure: 0.1941\n",
      "Time taken to run this iteration : 0:00:01.922559\n",
      "Alpha :  0.001\n",
      "Accuracy : 0.0519369944657301\n",
      "Hamming loss  0.04094640212496777\n",
      "Micro-average quality numbers\n",
      "Precision: 0.5858, Recall: 0.1316, F1-measure: 0.2150\n",
      "Time taken to run this iteration : 0:00:02.162906\n",
      "Alpha :  0.01\n",
      "Accuracy : 0.018731375053214133\n",
      "Hamming loss  0.04125819197860642\n",
      "Micro-average quality numbers\n",
      "Precision: 0.6546, Recall: 0.0662, F1-measure: 0.1202\n",
      "Time taken to run this iteration : 0:00:02.196417\n",
      "Alpha :  0.1\n",
      "Accuracy : 0.0\n",
      "Hamming loss  0.04258929481529449\n",
      "Micro-average quality numbers\n",
      "Precision: 0.0000, Recall: 0.0000, F1-measure: 0.0000\n",
      "Time taken to run this iteration : 0:00:02.120576\n"
     ]
    }
   ],
   "source": [
    "for i in alpha:\n",
    "    start = datetime.now()\n",
    "    classifier = OneVsRestClassifier(SGDClassifier(loss='log', alpha=i, penalty='l1'))\n",
    "    classifier.fit(tfidf_sent_vectors_train, multilabel_train)\n",
    "    predictions = classifier.predict(tfidf_sent_vectors_cv)\n",
    "\n",
    "    print(\"Alpha : \",i)\n",
    "    print(\"Accuracy :\",metrics.accuracy_score(multilable_val, predictions))\n",
    "    print(\"Hamming loss \",metrics.hamming_loss(multilable_val,predictions))\n",
    "\n",
    "\n",
    "    precision = precision_score(multilable_val, predictions, average='micro')\n",
    "    recall = recall_score(multilable_val, predictions, average='micro')\n",
    "    f1 = f1_score(multilable_val, predictions, average='micro')\n",
    "\n",
    "    print(\"Micro-average quality numbers\")\n",
    "    print(\"Precision: {:.4f}, Recall: {:.4f}, F1-measure: {:.4f}\".format(precision, recall, f1))\n",
    "    print(\"Time taken to run this iteration :\", datetime.now() - start)"
   ]
  },
  {
   "cell_type": "code",
   "execution_count": 62,
   "metadata": {},
   "outputs": [
    {
     "name": "stdout",
     "output_type": "stream",
     "text": [
      "Alpha :  1e-10\n",
      "Accuracy : 0.0034057045551298426\n",
      "Hamming loss  0.06374903315165578\n",
      "Micro-average quality numbers\n",
      "Precision: 0.1564, Recall: 0.1131, F1-measure: 0.1312\n",
      "Time taken to run this iteration : 0:00:01.317739\n",
      "Alpha :  1e-09\n",
      "Accuracy : 0.011068539804171988\n",
      "Hamming loss  0.06026538113311628\n",
      "Micro-average quality numbers\n",
      "Precision: 0.2868, Recall: 0.2792, F1-measure: 0.2829\n",
      "Time taken to run this iteration : 0:00:01.160039\n",
      "Alpha :  1e-08\n",
      "Accuracy : 0.0034057045551298426\n",
      "Hamming loss  0.07689217467426954\n",
      "Micro-average quality numbers\n",
      "Precision: 0.1973, Recall: 0.2626, F1-measure: 0.2253\n",
      "Time taken to run this iteration : 0:00:01.176802\n",
      "Alpha :  1e-07\n",
      "Accuracy : 0.011494252873563218\n",
      "Hamming loss  0.06365309781207466\n",
      "Micro-average quality numbers\n",
      "Precision: 0.2281, Recall: 0.2075, F1-measure: 0.2173\n",
      "Time taken to run this iteration : 0:00:01.128806\n",
      "Alpha :  1e-06\n",
      "Accuracy : 0.005534269902085994\n",
      "Hamming loss  0.06141060924936593\n",
      "Micro-average quality numbers\n",
      "Precision: 0.1601, Recall: 0.1040, F1-measure: 0.1261\n",
      "Time taken to run this iteration : 0:00:01.169660\n",
      "Alpha :  1e-05\n",
      "Accuracy : 0.020434227330779056\n",
      "Hamming loss  0.0645285077857524\n",
      "Micro-average quality numbers\n",
      "Precision: 0.2485, Recall: 0.2545, F1-measure: 0.2515\n",
      "Time taken to run this iteration : 0:00:01.424607\n",
      "Alpha :  0.0001\n",
      "Accuracy : 0.021285653469561516\n",
      "Hamming loss  0.04682843763303533\n",
      "Micro-average quality numbers\n",
      "Precision: 0.3697, Recall: 0.1412, F1-measure: 0.2044\n",
      "Time taken to run this iteration : 0:00:01.141342\n",
      "Alpha :  0.001\n",
      "Accuracy : 0.04086845466155811\n",
      "Hamming loss  0.040940406166243955\n",
      "Micro-average quality numbers\n",
      "Precision: 0.6352, Recall: 0.0909, F1-measure: 0.1591\n",
      "Time taken to run this iteration : 0:00:01.067490\n",
      "Alpha :  0.01\n",
      "Accuracy : 0.022562792677735206\n",
      "Hamming loss  0.04145006265776866\n",
      "Micro-average quality numbers\n",
      "Precision: 0.6806, Recall: 0.0504, F1-measure: 0.0939\n",
      "Time taken to run this iteration : 0:00:01.211182\n",
      "Alpha :  0.1\n",
      "Accuracy : 0.0\n",
      "Hamming loss  0.04258929481529449\n",
      "Micro-average quality numbers\n",
      "Precision: 0.0000, Recall: 0.0000, F1-measure: 0.0000\n",
      "Time taken to run this iteration : 0:00:01.215238\n"
     ]
    }
   ],
   "source": [
    "for i in alpha:\n",
    "    start = datetime.now()\n",
    "    classifier = OneVsRestClassifier(SGDClassifier(loss='hinge', alpha=i, penalty='l1'))\n",
    "    classifier.fit(tfidf_sent_vectors_train, multilabel_train)\n",
    "    predictions = classifier.predict(tfidf_sent_vectors_cv)\n",
    "\n",
    "    print(\"Alpha : \",i)\n",
    "    print(\"Accuracy :\",metrics.accuracy_score(multilable_val, predictions))\n",
    "    print(\"Hamming loss \",metrics.hamming_loss(multilable_val,predictions))\n",
    "\n",
    "\n",
    "    precision = precision_score(multilable_val, predictions, average='micro')\n",
    "    recall = recall_score(multilable_val, predictions, average='micro')\n",
    "    f1 = f1_score(multilable_val, predictions, average='micro')\n",
    "\n",
    "    print(\"Micro-average quality numbers\")\n",
    "    print(\"Precision: {:.4f}, Recall: {:.4f}, F1-measure: {:.4f}\".format(precision, recall, f1))\n",
    "    print(\"Time taken to run this iteration :\", datetime.now() - start)"
   ]
  },
  {
   "cell_type": "markdown",
   "metadata": {},
   "source": [
    "### Topic Modelling"
   ]
  },
  {
   "cell_type": "code",
   "execution_count": 168,
   "metadata": {},
   "outputs": [],
   "source": [
    "alpha = [10**i for i in range(-8,-2)]"
   ]
  },
  {
   "cell_type": "code",
   "execution_count": 169,
   "metadata": {},
   "outputs": [
    {
     "name": "stdout",
     "output_type": "stream",
     "text": [
      "Alpha :  1e-08\n",
      "Accuracy : 0.0021285653469561515\n",
      "Hamming loss  0.06602749746670744\n",
      "Micro-average quality numbers\n",
      "Precision: 0.1923, Recall: 0.1719, F1-measure: 0.1815\n",
      "Time taken to run this iteration : 0:00:03.184392\n",
      "Alpha :  1e-07\n",
      "Accuracy : 0.001277139208173691\n",
      "Hamming loss  0.06066711036761223\n",
      "Micro-average quality numbers\n",
      "Precision: 0.1887, Recall: 0.1287, F1-measure: 0.1530\n",
      "Time taken to run this iteration : 0:00:03.169143\n",
      "Alpha :  1e-06\n",
      "Accuracy : 0.010642826734780758\n",
      "Hamming loss  0.08868022952529994\n",
      "Micro-average quality numbers\n",
      "Precision: 0.1549, Recall: 0.2429, F1-measure: 0.1891\n",
      "Time taken to run this iteration : 0:00:03.281320\n",
      "Alpha :  1e-05\n",
      "Accuracy : 0.0\n",
      "Hamming loss  0.07839116435522459\n",
      "Micro-average quality numbers\n",
      "Precision: 0.2009, Recall: 0.2823, F1-measure: 0.2347\n",
      "Time taken to run this iteration : 0:00:03.353129\n",
      "Alpha :  0.0001\n",
      "Accuracy : 0.020008514261387826\n",
      "Hamming loss  0.04338675732556257\n",
      "Micro-average quality numbers\n",
      "Precision: 0.4395, Recall: 0.0680, F1-measure: 0.1178\n",
      "Time taken to run this iteration : 0:00:03.354303\n",
      "Alpha :  0.001\n",
      "Accuracy : 0.018731375053214133\n",
      "Hamming loss  0.04285311699914258\n",
      "Micro-average quality numbers\n",
      "Precision: 0.4814, Recall: 0.0801, F1-measure: 0.1374\n",
      "Time taken to run this iteration : 0:00:03.275349\n"
     ]
    }
   ],
   "source": [
    "for i in alpha:\n",
    "    start = datetime.now()\n",
    "    classifier = OneVsRestClassifier(SGDClassifier(loss='log', alpha=i, penalty='l1'))\n",
    "    classifier.fit(train_topic, multilabel_train)\n",
    "    predictions = classifier.predict(val_topic)\n",
    "\n",
    "    print(\"Alpha : \",i)\n",
    "    print(\"Accuracy :\",metrics.accuracy_score(multilable_val, predictions))\n",
    "    print(\"Hamming loss \",metrics.hamming_loss(multilable_val,predictions))\n",
    "\n",
    "\n",
    "    precision = precision_score(multilable_val, predictions, average='micro')\n",
    "    recall = recall_score(multilable_val, predictions, average='micro')\n",
    "    f1 = f1_score(multilable_val, predictions, average='micro')\n",
    "\n",
    "    print(\"Micro-average quality numbers\")\n",
    "    print(\"Precision: {:.4f}, Recall: {:.4f}, F1-measure: {:.4f}\".format(precision, recall, f1))\n",
    "    print(\"Time taken to run this iteration :\", datetime.now() - start)"
   ]
  },
  {
   "cell_type": "code",
   "execution_count": 170,
   "metadata": {},
   "outputs": [
    {
     "name": "stdout",
     "output_type": "stream",
     "text": [
      "Alpha :  1e-08\n",
      "Accuracy : 0.0004257130693912303\n",
      "Hamming loss  0.06835392945154965\n",
      "Micro-average quality numbers\n",
      "Precision: 0.2125, Recall: 0.2236, F1-measure: 0.2179\n",
      "Time taken to run this iteration : 0:00:02.793741\n",
      "Alpha :  1e-07\n",
      "Accuracy : 0.0008514261387824606\n",
      "Hamming loss  0.06379700082144635\n",
      "Micro-average quality numbers\n",
      "Precision: 0.1799, Recall: 0.1399, F1-measure: 0.1574\n",
      "Time taken to run this iteration : 0:00:02.711463\n",
      "Alpha :  1e-06\n",
      "Accuracy : 0.01362281822051937\n",
      "Hamming loss  0.055030909167221295\n",
      "Micro-average quality numbers\n",
      "Precision: 0.2864, Recall: 0.1958, F1-measure: 0.2326\n",
      "Time taken to run this iteration : 0:00:02.698790\n",
      "Alpha :  1e-05\n",
      "Accuracy : 0.005534269902085994\n",
      "Hamming loss  0.0672386811289191\n",
      "Micro-average quality numbers\n",
      "Precision: 0.1571, Recall: 0.1326, F1-measure: 0.1438\n",
      "Time taken to run this iteration : 0:00:02.756970\n",
      "Alpha :  0.0001\n",
      "Accuracy : 0.03065134099616858\n",
      "Hamming loss  0.05235071561767369\n",
      "Micro-average quality numbers\n",
      "Precision: 0.2431, Recall: 0.1084, F1-measure: 0.1499\n",
      "Time taken to run this iteration : 0:00:02.544459\n",
      "Alpha :  0.001\n",
      "Accuracy : 0.02554278416347382\n",
      "Hamming loss  0.04207364236504596\n",
      "Micro-average quality numbers\n",
      "Precision: 0.5573, Recall: 0.0588, F1-measure: 0.1065\n",
      "Time taken to run this iteration : 0:00:02.535309\n"
     ]
    }
   ],
   "source": [
    "for i in alpha:\n",
    "    start = datetime.now()\n",
    "    classifier = OneVsRestClassifier(SGDClassifier(loss='hinge', alpha=i, penalty='l1'))\n",
    "    classifier.fit(train_topic, multilabel_train)\n",
    "    predictions = classifier.predict(val_topic)\n",
    "\n",
    "    print(\"Alpha : \",i)\n",
    "    print(\"Accuracy :\",metrics.accuracy_score(multilable_val, predictions))\n",
    "    print(\"Hamming loss \",metrics.hamming_loss(multilable_val,predictions))\n",
    "\n",
    "\n",
    "    precision = precision_score(multilable_val, predictions, average='micro')\n",
    "    recall = recall_score(multilable_val, predictions, average='micro')\n",
    "    f1 = f1_score(multilable_val, predictions, average='micro')\n",
    "\n",
    "    print(\"Micro-average quality numbers\")\n",
    "    print(\"Precision: {:.4f}, Recall: {:.4f}, F1-measure: {:.4f}\".format(precision, recall, f1))\n",
    "    print(\"Time taken to run this iteration :\", datetime.now() - start)"
   ]
  },
  {
   "cell_type": "markdown",
   "metadata": {},
   "source": [
    "### Deep learning for feature extraction"
   ]
  },
  {
   "cell_type": "code",
   "execution_count": 31,
   "metadata": {},
   "outputs": [
    {
     "name": "stderr",
     "output_type": "stream",
     "text": [
      "Using TensorFlow backend.\n"
     ]
    }
   ],
   "source": [
    "from keras.preprocessing.text import Tokenizer\n",
    "from keras.preprocessing.sequence import pad_sequences\n",
    "\n",
    "tokenizer = Tokenizer(num_words=5000, lower=True)\n",
    "tokenizer.fit_on_texts(train_set['plot_synopsis'])\n",
    "sequences = tokenizer.texts_to_sequences(train_set['plot_synopsis'])\n",
    "x_train = pad_sequences(sequences, maxlen=7000)"
   ]
  },
  {
   "cell_type": "code",
   "execution_count": 32,
   "metadata": {},
   "outputs": [],
   "source": [
    "sequences = tokenizer.texts_to_sequences(test_set['plot_synopsis'])\n",
    "x_test = pad_sequences(sequences, maxlen=7000)"
   ]
  },
  {
   "cell_type": "code",
   "execution_count": 33,
   "metadata": {},
   "outputs": [],
   "source": [
    "sequences = tokenizer.texts_to_sequences(val_set['plot_synopsis'])\n",
    "x_val = pad_sequences(sequences, maxlen=7000)"
   ]
  },
  {
   "cell_type": "code",
   "execution_count": 38,
   "metadata": {},
   "outputs": [
    {
     "name": "stdout",
     "output_type": "stream",
     "text": [
      "Train on 9203 samples, validate on 2349 samples\n",
      "Epoch 1/30\n",
      "9203/9203 [==============================] - 202s 22ms/step - loss: 0.1904 - categorical_accuracy: 0.1334 - val_loss: 0.1429 - val_categorical_accuracy: 0.1528\n",
      "Epoch 2/30\n",
      "9203/9203 [==============================] - 200s 22ms/step - loss: 0.1398 - categorical_accuracy: 0.1426 - val_loss: 0.1419 - val_categorical_accuracy: 0.1626\n",
      "Epoch 3/30\n",
      "9203/9203 [==============================] - 202s 22ms/step - loss: 0.1367 - categorical_accuracy: 0.1523 - val_loss: 0.1408 - val_categorical_accuracy: 0.1716\n",
      "Epoch 4/30\n",
      "9203/9203 [==============================] - 202s 22ms/step - loss: 0.1333 - categorical_accuracy: 0.1576 - val_loss: 0.1393 - val_categorical_accuracy: 0.1626\n",
      "Epoch 5/30\n",
      "9203/9203 [==============================] - 202s 22ms/step - loss: 0.1319 - categorical_accuracy: 0.1664 - val_loss: 0.1355 - val_categorical_accuracy: 0.1733\n",
      "Epoch 6/30\n",
      "9203/9203 [==============================] - 202s 22ms/step - loss: 0.1305 - categorical_accuracy: 0.1756 - val_loss: 0.1359 - val_categorical_accuracy: 0.1741\n",
      "Epoch 7/30\n",
      "9203/9203 [==============================] - 201s 22ms/step - loss: 0.1289 - categorical_accuracy: 0.1799 - val_loss: 0.1371 - val_categorical_accuracy: 0.1797\n",
      "Epoch 8/30\n",
      "9203/9203 [==============================] - 197s 21ms/step - loss: 0.1271 - categorical_accuracy: 0.1867 - val_loss: 0.1346 - val_categorical_accuracy: 0.1877\n",
      "Epoch 9/30\n",
      "9203/9203 [==============================] - 196s 21ms/step - loss: 0.1251 - categorical_accuracy: 0.1919 - val_loss: 0.1341 - val_categorical_accuracy: 0.1856\n",
      "Epoch 10/30\n",
      "9203/9203 [==============================] - 199s 22ms/step - loss: 0.1230 - categorical_accuracy: 0.1933 - val_loss: 0.1332 - val_categorical_accuracy: 0.1865\n",
      "Epoch 11/30\n",
      "9203/9203 [==============================] - 196s 21ms/step - loss: 0.1208 - categorical_accuracy: 0.2012 - val_loss: 0.1350 - val_categorical_accuracy: 0.1954\n",
      "Epoch 12/30\n",
      "9203/9203 [==============================] - 195s 21ms/step - loss: 0.1187 - categorical_accuracy: 0.2048 - val_loss: 0.1315 - val_categorical_accuracy: 0.1980\n",
      "Epoch 13/30\n",
      "9203/9203 [==============================] - 198s 21ms/step - loss: 0.1167 - categorical_accuracy: 0.2129 - val_loss: 0.1376 - val_categorical_accuracy: 0.1954\n",
      "Epoch 14/30\n",
      "9203/9203 [==============================] - 196s 21ms/step - loss: 0.1144 - categorical_accuracy: 0.2187 - val_loss: 0.1361 - val_categorical_accuracy: 0.1971\n",
      "Epoch 15/30\n",
      "9203/9203 [==============================] - 193s 21ms/step - loss: 0.1126 - categorical_accuracy: 0.2200 - val_loss: 0.1331 - val_categorical_accuracy: 0.1946\n",
      "Epoch 16/30\n",
      "9203/9203 [==============================] - 203s 22ms/step - loss: 0.1108 - categorical_accuracy: 0.2243 - val_loss: 0.1351 - val_categorical_accuracy: 0.2031\n",
      "Epoch 17/30\n",
      "9203/9203 [==============================] - 201s 22ms/step - loss: 0.1090 - categorical_accuracy: 0.2312 - val_loss: 0.1345 - val_categorical_accuracy: 0.2056\n",
      "Epoch 18/30\n",
      "9203/9203 [==============================] - 198s 22ms/step - loss: 0.1073 - categorical_accuracy: 0.2373 - val_loss: 0.1344 - val_categorical_accuracy: 0.1950\n",
      "Epoch 19/30\n",
      "9203/9203 [==============================] - 203s 22ms/step - loss: 0.1057 - categorical_accuracy: 0.2414 - val_loss: 0.1352 - val_categorical_accuracy: 0.2005\n",
      "Epoch 20/30\n",
      "9203/9203 [==============================] - 202s 22ms/step - loss: 0.1043 - categorical_accuracy: 0.2445 - val_loss: 0.1365 - val_categorical_accuracy: 0.1997\n",
      "Epoch 21/30\n",
      "9203/9203 [==============================] - 203s 22ms/step - loss: 0.1028 - categorical_accuracy: 0.2515 - val_loss: 0.1351 - val_categorical_accuracy: 0.1971\n",
      "Epoch 22/30\n",
      "9203/9203 [==============================] - 204s 22ms/step - loss: 0.1016 - categorical_accuracy: 0.2502 - val_loss: 0.1371 - val_categorical_accuracy: 0.1941\n",
      "Epoch 23/30\n",
      "9203/9203 [==============================] - 194s 21ms/step - loss: 0.0981 - categorical_accuracy: 0.2632 - val_loss: 0.1355 - val_categorical_accuracy: 0.2014\n",
      "Epoch 24/30\n",
      "9203/9203 [==============================] - 204s 22ms/step - loss: 0.0976 - categorical_accuracy: 0.2625 - val_loss: 0.1353 - val_categorical_accuracy: 0.2009\n",
      "Epoch 25/30\n",
      "9203/9203 [==============================] - 202s 22ms/step - loss: 0.0974 - categorical_accuracy: 0.2645 - val_loss: 0.1348 - val_categorical_accuracy: 0.1988\n",
      "Epoch 26/30\n",
      "9203/9203 [==============================] - 204s 22ms/step - loss: 0.0972 - categorical_accuracy: 0.2630 - val_loss: 0.1358 - val_categorical_accuracy: 0.2022\n",
      "Epoch 27/30\n",
      "9203/9203 [==============================] - 204s 22ms/step - loss: 0.0970 - categorical_accuracy: 0.2630 - val_loss: 0.1359 - val_categorical_accuracy: 0.2001\n",
      "Epoch 28/30\n",
      "9203/9203 [==============================] - 194s 21ms/step - loss: 0.0968 - categorical_accuracy: 0.2668 - val_loss: 0.1356 - val_categorical_accuracy: 0.2026\n",
      "Epoch 29/30\n",
      "9203/9203 [==============================] - 203s 22ms/step - loss: 0.0967 - categorical_accuracy: 0.2619 - val_loss: 0.1359 - val_categorical_accuracy: 0.2018\n",
      "Epoch 30/30\n",
      "9203/9203 [==============================] - 201s 22ms/step - loss: 0.0965 - categorical_accuracy: 0.2658 - val_loss: 0.1365 - val_categorical_accuracy: 0.2031\n"
     ]
    }
   ],
   "source": [
    "from keras.models import Sequential\n",
    "from keras.layers import Dense, Activation, Embedding, Flatten, GlobalMaxPool1D, Dropout, Conv1D\n",
    "from keras.callbacks import ReduceLROnPlateau, EarlyStopping, ModelCheckpoint\n",
    "from keras.optimizers import Adam\n",
    "\n",
    "model = Sequential()\n",
    "model.add(Embedding(5000, 20, input_length=7000))\n",
    "model.add(Dropout(0.15))\n",
    "model.add(Conv1D(300, 3, padding='valid', activation='relu', strides=1))\n",
    "model.add(GlobalMaxPool1D())\n",
    "model.add(Dense(71, activation='sigmoid'))\n",
    "\n",
    "model.compile(optimizer='adam', loss='binary_crossentropy', metrics=['categorical_accuracy'])\n",
    "callbacks = [\n",
    "    ReduceLROnPlateau(),\n",
    "    ModelCheckpoint(filepath='model-simple.h5', save_best_only=True)\n",
    "]\n",
    "\n",
    "history = model.fit(x_train, multilabel_train,\n",
    "                    epochs=30,\n",
    "                    batch_size=32,\n",
    "                    validation_data=(x_val, multilable_val),\n",
    "                    callbacks=callbacks)"
   ]
  },
  {
   "cell_type": "code",
   "execution_count": 41,
   "metadata": {},
   "outputs": [
    {
     "name": "stdout",
     "output_type": "stream",
     "text": [
      "2934/2934 [==============================] - 15s 5ms/step\n"
     ]
    }
   ],
   "source": [
    "import keras\n",
    "cnn_model = keras.models.load_model('model-simple.h5')\n",
    "metrics = cnn_model.evaluate(x_test, multilabel_test)"
   ]
  },
  {
   "cell_type": "code",
   "execution_count": 42,
   "metadata": {},
   "outputs": [
    {
     "name": "stdout",
     "output_type": "stream",
     "text": [
      "loss: 0.1323340391840509\n",
      "categorical_accuracy: 0.20177232452249885\n"
     ]
    }
   ],
   "source": [
    "print(\"{}: {}\".format(model.metrics_names[0], metrics[0]))\n",
    "print(\"{}: {}\".format(model.metrics_names[1], metrics[1]))"
   ]
  },
  {
   "cell_type": "markdown",
   "metadata": {},
   "source": [
    "# Conclusion"
   ]
  },
  {
   "cell_type": "code",
   "execution_count": 70,
   "metadata": {},
   "outputs": [
    {
     "name": "stdout",
     "output_type": "stream",
     "text": [
      "+------------------+--------------------+-------------------------+-----------+--------+----------+\n",
      "|    Vectorizer    |       Model        | Hyper parameter (Alpha) | Precision | Recall | F1 Score |\n",
      "+------------------+--------------------+-------------------------+-----------+--------+----------+\n",
      "|       BOW        | LogisticRegression |          0.0001         |   0.2868  | 0.3196 |  0.3022  |\n",
      "|       BOW        |     LinearSVM      |          1e-05          |   0.3125  | 0.3173 |  0.3149  |\n",
      "|      AvgW2V      | LogisticRegression |          1e-05          |   0.3063  | 0.2583 |  0.2803  |\n",
      "|      AvgW2V      |     LinearSVM      |          1e-05          |   0.2537  | 0.2354 |  0.2442  |\n",
      "|    TFIDF W2V     | LogisticRegression |          1e-08          |   0.2593  | 0.2682 |  0.2637  |\n",
      "|    TFIDF W2V     |     LinearSVM      |          1e-09          |   0.2868  | 0.2792 |  0.2829  |\n",
      "| TFIDF ngram(1,4) | LogisticRegression |          1e-05          |   0.417   | 0.3237 |  0.3645  |\n",
      "| TFIDF ngram(1,4) |     LinearSVM      |          1e-05          |   0.3656  | 0.3269 |  0.3452  |\n",
      "+------------------+--------------------+-------------------------+-----------+--------+----------+\n"
     ]
    }
   ],
   "source": [
    "from prettytable import PrettyTable \n",
    "x = PrettyTable()\n",
    "x.field_names = [\"Vectorizer\", \"Model\", \"Hyper parameter (Alpha)\", \"Precision\", \"Recall\", \"F1 Score\"]\n",
    "x.add_row([\"BOW\", \"LogisticRegression\", 10**-4, 0.2868, 0.3196, 0.3022])\n",
    "x.add_row([\"BOW\", \"LinearSVM\", 10**-5, 0.3125, 0.3173, 0.3149])\n",
    "x.add_row([\"AvgW2V\", \"LogisticRegression\", 10**-5, 0.3063, 0.2583, 0.2803])\n",
    "x.add_row([\"AvgW2V\", \"LinearSVM\", 10**-5, 0.2537, 0.2354, 0.2442])\n",
    "x.add_row([\"TFIDF W2V\", \"LogisticRegression\", 10**-8, 0.2593, 0.2682, 0.2637])\n",
    "x.add_row([\"TFIDF W2V\", \"LinearSVM\", 10**-9, 0.2868, 0.2792, 0.2829])\n",
    "x.add_row([\"TFIDF ngram(1,4)\", \"LogisticRegression\", 10**-5, 0.4170, 0.3237, 0.3645])\n",
    "x.add_row([\"TFIDF ngram(1,4)\", \"LinearSVM\", 10**-5, 0.3656, 0.3269, 0.3452])\n",
    "\n",
    "print(x)"
   ]
  },
  {
   "cell_type": "code",
   "execution_count": 173,
   "metadata": {},
   "outputs": [
    {
     "name": "stdout",
     "output_type": "stream",
     "text": [
      "+-----------------+--------------------+-------------------------+-----------+--------+----------+\n",
      "|    Vectorizer   |       Model        | Hyper parameter (Alpha) | Precision | Recall | F1 Score |\n",
      "+-----------------+--------------------+-------------------------+-----------+--------+----------+\n",
      "| Topic Modelling | LogisticRegression |          1e-05          |   0.2009  | 0.2823 |  0.2347  |\n",
      "| Topic Modelling |     LinearSVM      |          1e-06          |   0.2864  | 0.1958 |  0.2326  |\n",
      "+-----------------+--------------------+-------------------------+-----------+--------+----------+\n"
     ]
    }
   ],
   "source": [
    "from prettytable import PrettyTable \n",
    "x = PrettyTable()\n",
    "x.field_names = [\"Vectorizer\", \"Model\", \"Hyper parameter (Alpha)\", \"Precision\", \"Recall\", \"F1 Score\"]\n",
    "x.add_row([\"Topic Modelling\", \"LogisticRegression\", 10**-5, 0.2009, 0.2823, 0.2347])\n",
    "x.add_row([\"Topic Modelling\", \"LinearSVM\", 10**-6, 0.2864, 0.1958, 0.2326])\n",
    "print(x)"
   ]
  },
  {
   "cell_type": "code",
   "execution_count": 174,
   "metadata": {},
   "outputs": [
    {
     "name": "stdout",
     "output_type": "stream",
     "text": [
      "+---------+--------+----------+\n",
      "|  Model  | Epochs | F1 Score |\n",
      "+---------+--------+----------+\n",
      "| Convo1D |   30   |  0.2017  |\n",
      "+---------+--------+----------+\n"
     ]
    }
   ],
   "source": [
    "from prettytable import PrettyTable \n",
    "x = PrettyTable()\n",
    "x.field_names = [\"Model\", \"Epochs\", \"F1 Score\"]\n",
    "x.add_row([\"Convo1D\", 30, 0.2017])\n",
    "print(x)"
   ]
  },
  {
   "cell_type": "code",
   "execution_count": 175,
   "metadata": {},
   "outputs": [
    {
     "name": "stdout",
     "output_type": "stream",
     "text": [
      "BEST MODEL\n",
      "+------------------+--------------------+-------------------------+-----------+--------+----------+\n",
      "|    Vectorizer    |       Model        | Hyper parameter (Alpha) | Precision | Recall | F1 Score |\n",
      "+------------------+--------------------+-------------------------+-----------+--------+----------+\n",
      "| TFIDF ngram(1,4) | LogisticRegression |          1e-05          |   0.4164  | 0.313  |  0.3579  |\n",
      "+------------------+--------------------+-------------------------+-----------+--------+----------+\n"
     ]
    }
   ],
   "source": [
    "print('BEST MODEL')\n",
    "x = PrettyTable()\n",
    "x.field_names = [\"Vectorizer\", \"Model\", \"Hyper parameter (Alpha)\", \"Precision\", \"Recall\", \"F1 Score\"]\n",
    "x.add_row([\"TFIDF ngram(1,4)\", \"LogisticRegression\", 10**-5, 0.4164, 0.313, 0.3579])\n",
    "print(x)"
   ]
  },
  {
   "cell_type": "markdown",
   "metadata": {},
   "source": [
    "#### Steps followed in Case Study"
   ]
  },
  {
   "cell_type": "markdown",
   "metadata": {},
   "source": [
    "- ____Step 1____ : Analyze data and determine features that can be built using the dataset.\n",
    "- ____Step 2____ : In this case study BOW, TFIDF, AvgW2V, TFIDF-W2V, LDA(Topic Modelling) is used for feature extraction.\n",
    "- ____Step 3____ : Split data into Test,val and Train data. \n",
    "- ____Step 4____ : Fit train data on each feature and extract corresponding values on test and val data.\n",
    "- ____Step 5____ : Apply Logistic Regression.\n",
    "- ____Step 6____ : Find the corresponding Micro F1 score in each case.\n",
    "- ____Step 7____ : The best model is determined with one having the most F1 score.\n",
    "\n",
    "- ____Observations____ : In the following case study, Logistic Regression shows better scores with precision of 0.42, recall of 0.33 and F1 score of 0.36."
   ]
  },
  {
   "cell_type": "code",
   "execution_count": null,
   "metadata": {},
   "outputs": [],
   "source": []
  }
 ],
 "metadata": {
  "kernelspec": {
   "display_name": "Python 3",
   "language": "python",
   "name": "python3"
  },
  "language_info": {
   "codemirror_mode": {
    "name": "ipython",
    "version": 3
   },
   "file_extension": ".py",
   "mimetype": "text/x-python",
   "name": "python",
   "nbconvert_exporter": "python",
   "pygments_lexer": "ipython3",
   "version": "3.7.3"
  }
 },
 "nbformat": 4,
 "nbformat_minor": 2
}
