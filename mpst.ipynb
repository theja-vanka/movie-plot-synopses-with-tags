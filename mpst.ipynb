{
 "cells": [
  {
   "cell_type": "markdown",
   "metadata": {},
   "source": [
    "<h1>MPST: Movie Plot Synopses with Tags</h1>"
   ]
  },
  {
   "cell_type": "markdown",
   "metadata": {},
   "source": [
    "# 1. Business Problem"
   ]
  },
  {
   "cell_type": "markdown",
   "metadata": {},
   "source": [
    "## 1.1 Description"
   ]
  },
  {
   "cell_type": "markdown",
   "metadata": {},
   "source": [
    "Abstract Social tagging of movies reveals a wide range of heterogeneous information about movies, like the genre, plot structure, soundtracks, metadata, visual and emotional experiences. Such information can be valuable in building automatic systems to create tags for movies. Automatic tagging systems can help recommendation engines to improve the retrieval of similar movies as well as help viewers to know what to expect from a movie in advance. In this paper, we set out to the task of collecting a corpus of movie plot synopses and tags. We describe a methodology that enabled us to build a fine-grained set of around 70 tags exposing heterogeneous characteristics of movie plots and the multi-label associations of these tags with some 14K movie plot synopses. We investigate how these tags correlate with movies and the flow of emotions throughout different types of movies. Finally, we use this corpus to explore the feasibility of inferring tags from plot synopses. We expect the corpus will be useful in other tasks where analysis of narratives is relevant."
   ]
  },
  {
   "cell_type": "markdown",
   "metadata": {},
   "source": [
    "#### Problem Statement\n",
    "- Identify which tag should be assigned to which movie.  \n",
    "- we present the MPST corpus that contains plot synopses of 14,828 movies and their associations with a set of fine-grained tags, where each movie is tagged with one or more tags."
   ]
  },
  {
   "cell_type": "markdown",
   "metadata": {},
   "source": [
    "## 1.2 Sources"
   ]
  },
  {
   "cell_type": "markdown",
   "metadata": {},
   "source": [
    "Dataset : https://www.kaggle.com/cryptexcode/mpst-movie-plot-synopses-with-tags\n",
    "\n",
    "Please find the paper here: https://www.aclweb.org/anthology/L18-1274\n",
    "\n",
    "This dataset was published in LREC 2018@Miyazaki, Japan.\n",
    "\n",
    "Keywords Tag generation for movies, Movie plot analysis, Multi-label dataset, Narrative texts\n",
    "\n",
    "More information is available here http://ritual.uh.edu/mpst-2018/"
   ]
  },
  {
   "cell_type": "markdown",
   "metadata": {},
   "source": [
    "## 1.3 Real world/Business Objectives and Constraints"
   ]
  },
  {
   "cell_type": "markdown",
   "metadata": {},
   "source": [
    "1. Predict as many tags as possible with high precision and recall.\n",
    "2. No strict latency concerns."
   ]
  },
  {
   "cell_type": "markdown",
   "metadata": {},
   "source": [
    "# 2. Machine Learning Probelm"
   ]
  },
  {
   "cell_type": "markdown",
   "metadata": {},
   "source": [
    "## 2.1 Data"
   ]
  },
  {
   "cell_type": "markdown",
   "metadata": {},
   "source": [
    "<p> \n",
    "- Data will be in a csv file<br>\n",
    "- Train.csv contains 6 columns : imdb_id, title, plot_synopsis, tags, split, synopsis_source <br>\n",
    "- Size of Train.csv - 28MB <br>\n",
    "- Number of rows in Train.csv = 14,828\n",
    "</p>"
   ]
  },
  {
   "cell_type": "markdown",
   "metadata": {},
   "source": [
    "## 2.2 Mapping the real-world problem to a Machine Learning Problem"
   ]
  },
  {
   "cell_type": "markdown",
   "metadata": {},
   "source": [
    "### 2.2.1 Type of Machine Learning Problem"
   ]
  },
  {
   "cell_type": "markdown",
   "metadata": {},
   "source": [
    "It is a multi-label classification problem \n",
    "Multi-label Classification: Multilabel classification assigns to each sample a set of target labels. This can be thought as predicting properties of a data-point that are not mutually exclusive, such as topics that are relevant for a document."
   ]
  },
  {
   "cell_type": "markdown",
   "metadata": {},
   "source": [
    "### 2.2.2 Performance metric"
   ]
  },
  {
   "cell_type": "markdown",
   "metadata": {},
   "source": [
    "'Micro f1 score': \n",
    "Calculate metrics globally by counting the total true positives, false negatives and false positives. This is a better metric when we have class imbalance."
   ]
  },
  {
   "cell_type": "markdown",
   "metadata": {},
   "source": [
    "# 3. Exploratory Data Analysis"
   ]
  },
  {
   "cell_type": "markdown",
   "metadata": {},
   "source": [
    "## 3.1 Data Loading and Cleaning"
   ]
  },
  {
   "cell_type": "code",
   "execution_count": 1,
   "metadata": {},
   "outputs": [],
   "source": [
    "import warnings\n",
    "warnings.filterwarnings(\"ignore\")\n",
    "import pandas as pd\n",
    "import matplotlib.pyplot as plt\n",
    "import seaborn as sns\n",
    "import numpy as np\n",
    "from wordcloud import WordCloud\n",
    "import pickle\n",
    "import re\n",
    "import os\n",
    "import string\n",
    "from datetime import datetime\n",
    "from nltk.corpus import stopwords\n",
    "from nltk.tokenize import word_tokenize\n",
    "from nltk.stem import PorterStemmer\n",
    "from sklearn.feature_extraction.text import CountVectorizer\n",
    "from sklearn.feature_extraction.text import TfidfVectorizer\n",
    "from sklearn.multiclass import OneVsRestClassifier\n",
    "from sklearn.linear_model import SGDClassifier\n",
    "from nltk.stem.snowball import SnowballStemmer\n",
    "from sklearn import metrics\n",
    "from sklearn.metrics import f1_score,precision_score,recall_score"
   ]
  },
  {
   "cell_type": "code",
   "execution_count": 2,
   "metadata": {},
   "outputs": [],
   "source": [
    "raw_data = pd.read_csv('mpst_full_data.csv', delimiter=',')"
   ]
  },
  {
   "cell_type": "code",
   "execution_count": 3,
   "metadata": {},
   "outputs": [
    {
     "data": {
      "text/html": [
       "<div>\n",
       "<style scoped>\n",
       "    .dataframe tbody tr th:only-of-type {\n",
       "        vertical-align: middle;\n",
       "    }\n",
       "\n",
       "    .dataframe tbody tr th {\n",
       "        vertical-align: top;\n",
       "    }\n",
       "\n",
       "    .dataframe thead th {\n",
       "        text-align: right;\n",
       "    }\n",
       "</style>\n",
       "<table border=\"1\" class=\"dataframe\">\n",
       "  <thead>\n",
       "    <tr style=\"text-align: right;\">\n",
       "      <th></th>\n",
       "      <th>imdb_id</th>\n",
       "      <th>title</th>\n",
       "      <th>plot_synopsis</th>\n",
       "      <th>tags</th>\n",
       "      <th>split</th>\n",
       "      <th>synopsis_source</th>\n",
       "    </tr>\n",
       "  </thead>\n",
       "  <tbody>\n",
       "    <tr>\n",
       "      <th>0</th>\n",
       "      <td>tt0057603</td>\n",
       "      <td>I tre volti della paura</td>\n",
       "      <td>Note: this synopsis is for the orginal Italian...</td>\n",
       "      <td>cult, horror, gothic, murder, atmospheric</td>\n",
       "      <td>train</td>\n",
       "      <td>imdb</td>\n",
       "    </tr>\n",
       "    <tr>\n",
       "      <th>1</th>\n",
       "      <td>tt1733125</td>\n",
       "      <td>Dungeons &amp; Dragons: The Book of Vile Darkness</td>\n",
       "      <td>Two thousand years ago, Nhagruul the Foul, a s...</td>\n",
       "      <td>violence</td>\n",
       "      <td>train</td>\n",
       "      <td>imdb</td>\n",
       "    </tr>\n",
       "    <tr>\n",
       "      <th>2</th>\n",
       "      <td>tt0033045</td>\n",
       "      <td>The Shop Around the Corner</td>\n",
       "      <td>Matuschek's, a gift store in Budapest, is the ...</td>\n",
       "      <td>romantic</td>\n",
       "      <td>test</td>\n",
       "      <td>imdb</td>\n",
       "    </tr>\n",
       "    <tr>\n",
       "      <th>3</th>\n",
       "      <td>tt0113862</td>\n",
       "      <td>Mr. Holland's Opus</td>\n",
       "      <td>Glenn Holland, not a morning person by anyone'...</td>\n",
       "      <td>inspiring, romantic, stupid, feel-good</td>\n",
       "      <td>train</td>\n",
       "      <td>imdb</td>\n",
       "    </tr>\n",
       "    <tr>\n",
       "      <th>4</th>\n",
       "      <td>tt0086250</td>\n",
       "      <td>Scarface</td>\n",
       "      <td>In May 1980, a Cuban man named Tony Montana (A...</td>\n",
       "      <td>cruelty, murder, dramatic, cult, violence, atm...</td>\n",
       "      <td>val</td>\n",
       "      <td>imdb</td>\n",
       "    </tr>\n",
       "  </tbody>\n",
       "</table>\n",
       "</div>"
      ],
      "text/plain": [
       "     imdb_id                                          title  \\\n",
       "0  tt0057603                        I tre volti della paura   \n",
       "1  tt1733125  Dungeons & Dragons: The Book of Vile Darkness   \n",
       "2  tt0033045                     The Shop Around the Corner   \n",
       "3  tt0113862                             Mr. Holland's Opus   \n",
       "4  tt0086250                                       Scarface   \n",
       "\n",
       "                                       plot_synopsis  \\\n",
       "0  Note: this synopsis is for the orginal Italian...   \n",
       "1  Two thousand years ago, Nhagruul the Foul, a s...   \n",
       "2  Matuschek's, a gift store in Budapest, is the ...   \n",
       "3  Glenn Holland, not a morning person by anyone'...   \n",
       "4  In May 1980, a Cuban man named Tony Montana (A...   \n",
       "\n",
       "                                                tags  split synopsis_source  \n",
       "0          cult, horror, gothic, murder, atmospheric  train            imdb  \n",
       "1                                           violence  train            imdb  \n",
       "2                                           romantic   test            imdb  \n",
       "3             inspiring, romantic, stupid, feel-good  train            imdb  \n",
       "4  cruelty, murder, dramatic, cult, violence, atm...    val            imdb  "
      ]
     },
     "execution_count": 3,
     "metadata": {},
     "output_type": "execute_result"
    }
   ],
   "source": [
    "raw_data.head()"
   ]
  },
  {
   "cell_type": "markdown",
   "metadata": {},
   "source": [
    "#### Finding and removing duplicate entries"
   ]
  },
  {
   "cell_type": "code",
   "execution_count": 4,
   "metadata": {},
   "outputs": [],
   "source": [
    "dup_removed = raw_data.drop_duplicates(['title','plot_synopsis','split'])"
   ]
  },
  {
   "cell_type": "code",
   "execution_count": 5,
   "metadata": {},
   "outputs": [
    {
     "data": {
      "text/plain": [
       "14486"
      ]
     },
     "execution_count": 5,
     "metadata": {},
     "output_type": "execute_result"
    }
   ],
   "source": [
    "dup_removed.count()[0]"
   ]
  },
  {
   "cell_type": "code",
   "execution_count": 6,
   "metadata": {},
   "outputs": [
    {
     "name": "stdout",
     "output_type": "stream",
     "text": [
      "Empty DataFrame\n",
      "Columns: []\n",
      "Index: []\n"
     ]
    }
   ],
   "source": [
    "null_columns=dup_removed.columns[dup_removed.isnull().any()]\n",
    "print(dup_removed[dup_removed.isnull().any(axis=1)][null_columns].head())"
   ]
  },
  {
   "cell_type": "code",
   "execution_count": 7,
   "metadata": {},
   "outputs": [
    {
     "data": {
      "text/plain": [
       "('train', 'test', 'val')"
      ]
     },
     "execution_count": 7,
     "metadata": {},
     "output_type": "execute_result"
    }
   ],
   "source": [
    "tuple(dup_removed['split'].unique())"
   ]
  },
  {
   "cell_type": "code",
   "execution_count": 8,
   "metadata": {},
   "outputs": [],
   "source": [
    "objects = tuple(dup_removed['split'].unique())\n",
    "y_pos = np.arange(len(objects))\n",
    "performance = [dup_removed[dup_removed['split'] == 'train'].count()[0],dup_removed[dup_removed['split'] == 'test'].count()[0],dup_removed[dup_removed['split'] == 'val'].count()[0]]"
   ]
  },
  {
   "cell_type": "code",
   "execution_count": 9,
   "metadata": {},
   "outputs": [
    {
     "data": {
      "image/png": "[encoded data removed]",
      "text/plain": [
       "<Figure size 432x288 with 1 Axes>"
      ]
     },
     "metadata": {
      "needs_background": "light"
     },
     "output_type": "display_data"
    }
   ],
   "source": [
    "plt.bar(y_pos, performance, align='center', alpha=0.5)\n",
    "plt.xticks(y_pos, objects)\n",
    "plt.ylabel('Count')\n",
    "plt.title('Split')\n",
    "\n",
    "plt.show()"
   ]
  },
  {
   "cell_type": "markdown",
   "metadata": {},
   "source": [
    "## 3.2 Split into train, val and test"
   ]
  },
  {
   "cell_type": "code",
   "execution_count": 10,
   "metadata": {},
   "outputs": [
    {
     "data": {
      "text/plain": [
       "9203"
      ]
     },
     "execution_count": 10,
     "metadata": {},
     "output_type": "execute_result"
    }
   ],
   "source": [
    "train = dup_removed[dup_removed['split'] == 'train']\n",
    "train.count()[0]"
   ]
  },
  {
   "cell_type": "code",
   "execution_count": 11,
   "metadata": {},
   "outputs": [
    {
     "data": {
      "text/plain": [
       "2934"
      ]
     },
     "execution_count": 11,
     "metadata": {},
     "output_type": "execute_result"
    }
   ],
   "source": [
    "test = dup_removed[dup_removed['split'] == 'test']\n",
    "test.count()[0]"
   ]
  },
  {
   "cell_type": "code",
   "execution_count": 12,
   "metadata": {},
   "outputs": [
    {
     "data": {
      "text/plain": [
       "2349"
      ]
     },
     "execution_count": 12,
     "metadata": {},
     "output_type": "execute_result"
    }
   ],
   "source": [
    "val = dup_removed[dup_removed['split'] == 'val']\n",
    "val.count()[0]"
   ]
  },
  {
   "cell_type": "markdown",
   "metadata": {},
   "source": [
    "## 3.3 Analysis of Tags"
   ]
  },
  {
   "cell_type": "code",
   "execution_count": 13,
   "metadata": {},
   "outputs": [],
   "source": [
    "vectorizer = CountVectorizer(tokenizer = lambda x: x.replace(' ', '').split(','))\n",
    "tag_vector = vectorizer.fit_transform(train['tags'])"
   ]
  },
  {
   "cell_type": "code",
   "execution_count": 14,
   "metadata": {},
   "outputs": [
    {
     "name": "stdout",
     "output_type": "stream",
     "text": [
      "Number of data points : 9203\n",
      "Number of unique tags : 71\n"
     ]
    }
   ],
   "source": [
    "print(\"Number of data points :\", tag_vector.shape[0])\n",
    "print(\"Number of unique tags :\", tag_vector.shape[1])"
   ]
  },
  {
   "cell_type": "code",
   "execution_count": 15,
   "metadata": {},
   "outputs": [
    {
     "name": "stdout",
     "output_type": "stream",
     "text": [
      "Tags we have : ['absurd', 'action', 'adultcomedy', 'allegory', 'alternatehistory', 'alternatereality', 'antiwar', 'atmospheric', 'autobiographical', 'avantgarde', 'blaxploitation', 'bleak', 'boring', 'brainwashing', 'christianfilm', 'claustrophobic', 'clever', 'comedy', 'comic', 'cruelty', 'cult', 'cute', 'dark', 'depressing', 'dramatic', 'entertaining', 'fantasy', 'feel-good', 'flashback', 'goodversusevil', 'gothic', 'grindhousefilm', 'haunting', 'historical', 'historicalfiction', 'homemovie', 'horror', 'humor', 'insanity', 'inspiring', 'intrigue', 'magicalrealism', 'melodrama', 'murder', 'mystery', 'neonoir', 'nonfiction', 'paranormal', 'philosophical', 'plottwist', 'pornographic', 'prank', 'psychedelic', 'psychological', 'queer', 'realism', 'revenge', 'romantic', 'sadist', 'satire', 'sci-fi', 'sentimental', 'storytelling', 'stupid', 'suicidal', 'suspenseful', 'thought-provoking', 'tragedy', 'violence', 'western', 'whimsical']\n"
     ]
    }
   ],
   "source": [
    "tags = vectorizer.get_feature_names()\n",
    "print(\"Tags we have :\", tags)"
   ]
  },
  {
   "cell_type": "code",
   "execution_count": 16,
   "metadata": {},
   "outputs": [],
   "source": [
    "freqs = tag_vector.sum(axis=0).A1\n",
    "result = dict(zip(tags, freqs))"
   ]
  },
  {
   "cell_type": "code",
   "execution_count": 17,
   "metadata": {},
   "outputs": [
    {
     "data": {
      "text/plain": [
       "{'absurd': 166,\n",
       " 'action': 397,\n",
       " 'adultcomedy': 82,\n",
       " 'allegory': 87,\n",
       " 'alternatehistory': 63,\n",
       " 'alternatereality': 126,\n",
       " 'antiwar': 71,\n",
       " 'atmospheric': 262,\n",
       " 'autobiographical': 28,\n",
       " 'avantgarde': 155,\n",
       " 'blaxploitation': 56,\n",
       " 'bleak': 139,\n",
       " 'boring': 329,\n",
       " 'brainwashing': 77,\n",
       " 'christianfilm': 27,\n",
       " 'claustrophobic': 52,\n",
       " 'clever': 58,\n",
       " 'comedy': 1178,\n",
       " 'comic': 63,\n",
       " 'cruelty': 276,\n",
       " 'cult': 1650,\n",
       " 'cute': 116,\n",
       " 'dark': 252,\n",
       " 'depressing': 124,\n",
       " 'dramatic': 252,\n",
       " 'entertaining': 445,\n",
       " 'fantasy': 319,\n",
       " 'feel-good': 48,\n",
       " 'flashback': 1814,\n",
       " 'goodversusevil': 535,\n",
       " 'gothic': 279,\n",
       " 'grindhousefilm': 44,\n",
       " 'haunting': 94,\n",
       " 'historical': 169,\n",
       " 'historicalfiction': 93,\n",
       " 'homemovie': 96,\n",
       " 'horror': 301,\n",
       " 'humor': 523,\n",
       " 'insanity': 403,\n",
       " 'inspiring': 67,\n",
       " 'intrigue': 99,\n",
       " 'magicalrealism': 34,\n",
       " 'melodrama': 289,\n",
       " 'murder': 3588,\n",
       " 'mystery': 320,\n",
       " 'neonoir': 451,\n",
       " 'nonfiction': 22,\n",
       " 'paranormal': 325,\n",
       " 'philosophical': 152,\n",
       " 'plottwist': 121,\n",
       " 'pornographic': 101,\n",
       " 'prank': 166,\n",
       " 'psychedelic': 1167,\n",
       " 'psychological': 173,\n",
       " 'queer': 62,\n",
       " 'realism': 140,\n",
       " 'revenge': 1518,\n",
       " 'romantic': 1797,\n",
       " 'sadist': 385,\n",
       " 'satire': 521,\n",
       " 'sci-fi': 194,\n",
       " 'sentimental': 154,\n",
       " 'storytelling': 226,\n",
       " 'stupid': 111,\n",
       " 'suicidal': 28,\n",
       " 'suspenseful': 654,\n",
       " 'thought-provoking': 78,\n",
       " 'tragedy': 344,\n",
       " 'violence': 2760,\n",
       " 'western': 48,\n",
       " 'whimsical': 55}"
      ]
     },
     "execution_count": 17,
     "metadata": {},
     "output_type": "execute_result"
    }
   ],
   "source": [
    "result"
   ]
  },
  {
   "cell_type": "code",
   "execution_count": 18,
   "metadata": {},
   "outputs": [],
   "source": [
    "tag_quest_count = tag_vector.sum(axis=1).tolist()\n",
    "tag_quest_count=[int(j) for i in tag_quest_count for j in i]"
   ]
  },
  {
   "cell_type": "code",
   "execution_count": 19,
   "metadata": {},
   "outputs": [
    {
     "name": "stdout",
     "output_type": "stream",
     "text": [
      "Maximum number of tags per movie: 25\n",
      "Minimum number of tags per movie: 1\n",
      "Avg. number of tags per movie: 2.977181\n"
     ]
    }
   ],
   "source": [
    "print( \"Maximum number of tags per movie: %d\"%max(tag_quest_count))\n",
    "print( \"Minimum number of tags per movie: %d\"%min(tag_quest_count))\n",
    "print( \"Avg. number of tags per movie: %f\"% ((sum(tag_quest_count)*1.0)/len(tag_quest_count)))"
   ]
  },
  {
   "cell_type": "code",
   "execution_count": 20,
   "metadata": {},
   "outputs": [
    {
     "data": {
      "image/png": "[encoded data removed]",
      "text/plain": [
       "<Figure size 432x288 with 1 Axes>"
      ]
     },
     "metadata": {
      "needs_background": "light"
     },
     "output_type": "display_data"
    }
   ],
   "source": [
    "sns.countplot(tag_quest_count, palette='gist_rainbow')\n",
    "plt.title(\"Number of tags in a movie (train)\")\n",
    "plt.xlabel(\"Number of Tags\")\n",
    "plt.ylabel(\"Number of Movies\")\n",
    "plt.show()"
   ]
  },
  {
   "cell_type": "markdown",
   "metadata": {},
   "source": [
    "### Most Frequent Tags"
   ]
  },
  {
   "cell_type": "code",
   "execution_count": 21,
   "metadata": {},
   "outputs": [
    {
     "data": {
      "image/png": "[encoded data removed]",
      "text/plain": [
       "<Figure size 432x288 with 1 Axes>"
      ]
     },
     "metadata": {
      "needs_background": "light"
     },
     "output_type": "display_data"
    }
   ],
   "source": [
    "tup = dict(result.items())\n",
    "\n",
    "wordcloud = WordCloud(background_color='white').generate_from_frequencies(tup)\n",
    "\n",
    "fig = plt.figure()\n",
    "plt.imshow(wordcloud)\n",
    "plt.axis('off')\n",
    "plt.tight_layout(pad=0)\n",
    "fig.savefig(\"tag_wordcloud.png\")\n",
    "plt.show()"
   ]
  },
  {
   "cell_type": "markdown",
   "metadata": {},
   "source": [
    "## 3.4 Cleaning and preprocessing of Plot, Title and tags"
   ]
  },
  {
   "cell_type": "code",
   "execution_count": 22,
   "metadata": {},
   "outputs": [],
   "source": [
    "train_set = train.drop(['split','synopsis_source','imdb_id'], axis=1)\n",
    "test_set = test.drop(['split','synopsis_source','imdb_id'],axis=1)\n",
    "val_set = val.drop(['split','synopsis_source','imdb_id'],axis=1)"
   ]
  },
  {
   "cell_type": "code",
   "execution_count": 23,
   "metadata": {},
   "outputs": [],
   "source": [
    "train_set['tags'] = train_set['tags'].apply(lambda x : x.replace(' ', '').replace(',',' '))\n",
    "test_set['tags'] = test_set['tags'].apply(lambda x : x.replace(' ', '').replace(',',' '))\n",
    "val_set['tags'] = val_set['tags'].apply(lambda x : x.replace(' ', '').replace(',',' '))"
   ]
  },
  {
   "cell_type": "code",
   "execution_count": 24,
   "metadata": {},
   "outputs": [
    {
     "data": {
      "text/html": [
       "<div>\n",
       "<style scoped>\n",
       "    .dataframe tbody tr th:only-of-type {\n",
       "        vertical-align: middle;\n",
       "    }\n",
       "\n",
       "    .dataframe tbody tr th {\n",
       "        vertical-align: top;\n",
       "    }\n",
       "\n",
       "    .dataframe thead th {\n",
       "        text-align: right;\n",
       "    }\n",
       "</style>\n",
       "<table border=\"1\" class=\"dataframe\">\n",
       "  <thead>\n",
       "    <tr style=\"text-align: right;\">\n",
       "      <th></th>\n",
       "      <th>title</th>\n",
       "      <th>plot_synopsis</th>\n",
       "      <th>tags</th>\n",
       "    </tr>\n",
       "  </thead>\n",
       "  <tbody>\n",
       "    <tr>\n",
       "      <th>0</th>\n",
       "      <td>I tre volti della paura</td>\n",
       "      <td>Note: this synopsis is for the orginal Italian...</td>\n",
       "      <td>cult horror gothic murder atmospheric</td>\n",
       "    </tr>\n",
       "    <tr>\n",
       "      <th>1</th>\n",
       "      <td>Dungeons &amp; Dragons: The Book of Vile Darkness</td>\n",
       "      <td>Two thousand years ago, Nhagruul the Foul, a s...</td>\n",
       "      <td>violence</td>\n",
       "    </tr>\n",
       "    <tr>\n",
       "      <th>3</th>\n",
       "      <td>Mr. Holland's Opus</td>\n",
       "      <td>Glenn Holland, not a morning person by anyone'...</td>\n",
       "      <td>inspiring romantic stupid feel-good</td>\n",
       "    </tr>\n",
       "    <tr>\n",
       "      <th>6</th>\n",
       "      <td>Baise-moi</td>\n",
       "      <td>Baise-moi tells the story of Nadine and Manu w...</td>\n",
       "      <td>gothic cruelty violence cult revenge sadist</td>\n",
       "    </tr>\n",
       "    <tr>\n",
       "      <th>7</th>\n",
       "      <td>Flightplan</td>\n",
       "      <td>Kyle Pratt (Jodie Foster) is a propulsion engi...</td>\n",
       "      <td>mystery suspenseful action murder flashback</td>\n",
       "    </tr>\n",
       "  </tbody>\n",
       "</table>\n",
       "</div>"
      ],
      "text/plain": [
       "                                           title  \\\n",
       "0                        I tre volti della paura   \n",
       "1  Dungeons & Dragons: The Book of Vile Darkness   \n",
       "3                             Mr. Holland's Opus   \n",
       "6                                      Baise-moi   \n",
       "7                                     Flightplan   \n",
       "\n",
       "                                       plot_synopsis  \\\n",
       "0  Note: this synopsis is for the orginal Italian...   \n",
       "1  Two thousand years ago, Nhagruul the Foul, a s...   \n",
       "3  Glenn Holland, not a morning person by anyone'...   \n",
       "6  Baise-moi tells the story of Nadine and Manu w...   \n",
       "7  Kyle Pratt (Jodie Foster) is a propulsion engi...   \n",
       "\n",
       "                                          tags  \n",
       "0        cult horror gothic murder atmospheric  \n",
       "1                                     violence  \n",
       "3          inspiring romantic stupid feel-good  \n",
       "6  gothic cruelty violence cult revenge sadist  \n",
       "7  mystery suspenseful action murder flashback  "
      ]
     },
     "execution_count": 24,
     "metadata": {},
     "output_type": "execute_result"
    }
   ],
   "source": [
    "train_set.head()"
   ]
  },
  {
   "cell_type": "code",
   "execution_count": 25,
   "metadata": {},
   "outputs": [
    {
     "name": "stderr",
     "output_type": "stream",
     "text": [
      "100%|██████████| 9203/9203 [01:48<00:00, 84.87it/s] \n"
     ]
    }
   ],
   "source": [
    "from tqdm import tqdm\n",
    "stop_words = set(stopwords.words('english'))\n",
    "stemmer = SnowballStemmer(\"english\")\n",
    "preprocessed_plot_train = []\n",
    "# tqdm is for printing the status bar\n",
    "for sentance in tqdm(train_set['plot_synopsis'].values):\n",
    "    sentance = sentance.lower()\n",
    "    sentance = re.sub(r'\\d+', '', sentance)\n",
    "    sentance = re.sub('[^A-Za-z0-9]+', ' ', sentance)\n",
    "    sentance = sentance.strip()\n",
    "    sentance = word_tokenize(sentance)\n",
    "    sentance= ' '.join(str(stemmer.stem(j)) for j in sentance if j not in stop_words)\n",
    "    preprocessed_plot_train.append(sentance.strip())"
   ]
  },
  {
   "cell_type": "code",
   "execution_count": 26,
   "metadata": {
    "scrolled": false
   },
   "outputs": [
    {
     "data": {
      "text/plain": [
       "'note synopsi orgin italian releas segment certain order bori karloff introduc three horror tale macabr supernatur known three face fear telephonerosi michel mercier attract high price parisian call girl return spacious basement apart even immedi get beset seri strang phone call caller soon identifi frank ex pimp recent escap prison rosi terrifi testimoni land man jail look solac rosi phone lesbian lover mari lynda alfonsi two women estrang time rosi certain one help mari agre come night second later frank call promis matter call protect reveng unknown rosi mari caller imperson frank marri arriv rosi apart soon best calm rosi nerv give panic struck woman tranquil put bed later night rosi sleep mari get bed pen note confess one make strang phone call learn frank escap prison know rosi would call help explain felt way come back life breakup busi write fail notic intrud apart time frank real creep behind mari strangl death one rosi nylon stock sound struggl awaken rosi gasp fright murder pimp realiz kill wrong woman slowli make way rosi bed howev earlier night rosi place butcher knife pillow mari suggest rosi seiz knife stab frank begin strangl rosi drop knife break hysteria surround two corps former lover wurdalakin th centuri russia vladimir urf young nobleman long trip cours journey find behead corps knife plung heart withdraw blade take souvenir later night vladimir stop small rural cottag ask shelter notic sever dagger hang one wall vacant space happen fit one discov vladimir surpris entranc giorgio glauco onorato explain knife belong father seen five day giorgio offer room young count subsequ introduc rest famili wife rika dialina young son ivan giorgio younger brother pietro massimo righi sister sdenka susi anderson subsequ transpir eager anticip arriv father gorcha well reason absenc gone battl outlaw dread wurdalak ali beg vladimir confus term sdenka explain wurdalak walk cadav feed blood live prefer close friend famili member giorgio pietro certain corps vladimir discov ali beg also realiz strong possibl father infect blood curs warn count leav decid stay await old man return stroke midnight gorcha bori karloff return cottag sour demeanor unkempt appear bode wors two brother torn realiz duti kill gorcha feed famili love make difficult reach decis later night ivan pietro attack gorcha drain blood flee cottag giorgio stake behead pietro prevent reviv wurdalak prevent ivan wife threaten commit suicid relunt agre buri child without take necessari precaut night child rise grave beg invit cottag mother run son aid stab giorgio attempt stop greet front door gorcha old man bit infect daughter law husband vladimir sdenka flee cottag go run hide ruin abandon cathedr dawn break vladimir optimist long happi life lie sdenka reluct relinquish famili tie believ meant stay famili sdenka fear famili confirm even gorcha sibl show abandon abbi vladimir sleep sdenka lure love arm bite death awaken scream vladimir rush aid famili alreadi taken home forc lover follow suit young nobleman find lie motionless bed sdenka awaken distinct chang visibl face longer care vladimir embrac bite infect drop waterin victorian london england nurs helen chester jacquelin pierreux call larg hous prepar corps elder medium burial dress bodi notic elabor diamond ring finger tempt greed nurs chester steal glass tip drop water begin splash floor also assail fli doubt attract odor bodi unsettl pleas acquisit finish job return home small east end flat return home nurs chester assail strang event buzz fli return continu pester light apart go sound drip water continu madden regular see old woman corps lie bed come toward terrifi woman beg forgiv ultim strangl imag medium hand grip throat next morn concierg harriet white medin discov nurs chester bodi call polic investig scene gustavo de nardo quick conclud simpl case nurs chester die fright pathologist arriv scene examin bodi taken away note sign violenc small bruis left finger most like caus someon pri ring finger doctor make observ concierg appear distress appar took ring dead nurs chester distract sound fli swoop air bori karloff make final appear gorcha ride hors conclud three tale fear tell viewer care walk home night ghost vampir fear imag pull back actual reveal sit prop fake hors camera crew various crewmen move branch around simul scene ride forest wurdalak segment'"
      ]
     },
     "execution_count": 26,
     "metadata": {},
     "output_type": "execute_result"
    }
   ],
   "source": [
    "preprocessed_plot_train[0]"
   ]
  },
  {
   "cell_type": "code",
   "execution_count": 27,
   "metadata": {},
   "outputs": [
    {
     "name": "stderr",
     "output_type": "stream",
     "text": [
      "100%|██████████| 2934/2934 [00:35<00:00, 81.73it/s] \n"
     ]
    }
   ],
   "source": [
    "from tqdm import tqdm\n",
    "stop_words = set(stopwords.words('english'))\n",
    "stemmer = SnowballStemmer(\"english\")\n",
    "preprocessed_plot_test = []\n",
    "# tqdm is for printing the status bar\n",
    "for sentance in tqdm(test_set['plot_synopsis'].values):\n",
    "    sentance = sentance.lower()\n",
    "    sentance = re.sub(r'\\d+', '', sentance)\n",
    "    sentance = re.sub('[^A-Za-z0-9]+', ' ', sentance)\n",
    "    sentance = sentance.strip()\n",
    "    sentance = word_tokenize(sentance)\n",
    "    sentance= ' '.join(str(stemmer.stem(j)) for j in sentance if j not in stop_words)\n",
    "    preprocessed_plot_test.append(sentance.strip())"
   ]
  },
  {
   "cell_type": "code",
   "execution_count": 28,
   "metadata": {},
   "outputs": [
    {
     "data": {
      "text/plain": [
       "'matuschek gift store budapest workplac alfr kralik jame stewart newli hi ed klara novak margaret sullavan work constant irrit daili aggrav temper fact secret pen pal trade long soul search letter romant correspond sent back forth alfr klara trade barb work dream someday meet sensit care unknown pen pal christma fast approach store busi alfr store time alway treat well mr matuschek frank morgan late attitud chang alfr loss matuschek avoid explan final tell alfr would best left stun alfr accept last paycheck say goodby everyon includ klara civil long await meet secret pen pal plan night alfr lost job desir go find fight curios wander restaur agre meet peek window fellow employe cours klara wait chosen book wear red carnat agre use signal realiz wrong along irrit actual mask attract final enter goe tabl reveal true reason although awar hurt pen pal show alfr hurt rude final leav know wait night someon longer come meanwhil back store mr matuschek late night meet privat detect know wife affair one employe convinc trust friend alfr detect howev tell matuschek fact anoth employe heart broken wife infidel retir offic deliveri boy return late enter prevent matuschek shoot pistol collaps grief shame matuscheki rush hospit next day alfr visit mr matuschek sick bed ask alfr forgiv put back work manag store deliveri boy reward rais store clerk klara arriv work late obvious heartbroken failur correspond materi last night find alfr manag offic believ discov true faint middl offic later rest home alfr pay visit aunt bring anoth letter secret pen pal explain meet saw alfr reliev misunderstand swear alfr back work morn alfr obvious work plan reveal klara christma eve everyon work day mr matuschek near recov sick stop see thing go final talli made store best sale day sinc delight hand bonus take new stock boy christma dinner alfr klara get readi leav anoth date mysteri pen pal alfr delay question never yet seen even know name convinc end engag come back work tell mysteri pen pal stop see earlier fact fat bald older unemploy quit will live klara incom alfr reveal put red carnat lapel sudden eveyth becom clear'"
      ]
     },
     "execution_count": 28,
     "metadata": {},
     "output_type": "execute_result"
    }
   ],
   "source": [
    "preprocessed_plot_test[0]"
   ]
  },
  {
   "cell_type": "code",
   "execution_count": 29,
   "metadata": {},
   "outputs": [
    {
     "name": "stderr",
     "output_type": "stream",
     "text": [
      "100%|██████████| 2349/2349 [00:29<00:00, 78.58it/s] \n"
     ]
    }
   ],
   "source": [
    "from tqdm import tqdm\n",
    "stop_words = set(stopwords.words('english'))\n",
    "stemmer = SnowballStemmer(\"english\")\n",
    "preprocessed_plot_val = []\n",
    "# tqdm is for printing the status bar\n",
    "for sentance in tqdm(val_set['plot_synopsis'].values):\n",
    "    sentance = sentance.lower()\n",
    "    sentance = re.sub(r'\\d+', '', sentance)\n",
    "    sentance = re.sub('[^A-Za-z0-9]+', ' ', sentance)\n",
    "    sentance = sentance.strip()\n",
    "    sentance = word_tokenize(sentance)\n",
    "    sentance= ' '.join(str(stemmer.stem(j)) for j in sentance if j not in stop_words)\n",
    "    preprocessed_plot_val.append(sentance.strip())"
   ]
  },
  {
   "cell_type": "code",
   "execution_count": 30,
   "metadata": {},
   "outputs": [
    {
     "data": {
      "text/plain": [
       "'may cuban man name toni montana al pacino claim asylum florida usa search american dream depart cuba mariel boatlift question three tough talk in offici notic tattoo toni left arm black heart pitchfork identifi hitman detain camp call freedomtown cuban includ toni best friend former cuban armi buddi manolo manni ray ribiera steven bauer local expressway govern evalu visa petit day government dither camp rumor manni receiv offer cuban mafia quick relay toni kill emilio rebenga roberto contrera former aid fidel castro detain freedomtown receiv green card toni agre kill rebenga riot freedomtown murder rebenga request frank l pez wealthi polit astut man deal car trade cocain rebenga tortur l pez brother death still cuba mani year earlier get green card toni montana manni ray find work dishwash corner sandwich taco shop week later l pez henchman underboss omar su rez f murray abraham man contact manni rebenga hit job offer toni manni low risk job unload marijuana boat mexico arriv miami follow night toni insult su rez turn job littl money receiv demand least work alterc su rez set toni anoth job purchas two kilogram cocain worth around piec colombian dealer name hector toad medium high risk job toni manni receiv work weekend toni manni two marielito crew met freedomtown angel fern ndez pepe serna chi chi ngel salazar set meet hector toad al israel seedi motel boulevard miami beach manni chi chi wait car street toni angel go hotel room meet hector meet go smooth toni grow irrit hector slow give cocain exchang money sudden toni angel doubl cross colombian becom appar hector intend sell toni cocain want steal money toni given purchas product convinc toni give cash hector dismemb angel shower stall chainsaw angel dead toni suffer fate save chi chi manni arriv nick time gun hector henchmen manni receiv minor bullet wound shoulder uzi sub machin gun jam hector escap toni veng confront street shoot dead middl crowd ocean drive famous miami south beach boulevard toni crew get away cocain money polic arriv follow night toni manni meet l pez robert loggia hous first time toni impress lopez return cash gift cocain prize botch rip frank immedi hire toni crew crimin hierarchi repres cuban mafia initi get togeth toni also meet lopez ladi blond beauti elvira hancock michell pfeiffer eventu becom sourc tension two men take toni manni local nightclub call babylon club frank frequent attend toni manni see first hand high standard live come acquir though frank actual warn excess toni seduc regardless thus toni montana begin rise rank miami cocain underworld three month later toni montana attempt make amend meet estrang famili impli toni father former u navi sailor abandon famili toni littl sinc mother miriam colon younger year old sister gina mari elizabeth mastrantonio live miami toni show mother gina hous one even fashion dress offer cash financi support gina overjoy see older brother seen five year toni mother scorn sinc turn back mani year ago quick easi life crime back cuba want noth toni full pride accept money despit financi stricken gina idol brother follow outsid slip money secret gina tell toni want flashi life go toni love gina clear genuin person trust also protect afterword manni make comment toni attract gina toni angrili warn avoid court sever month later toni sent bolivia help omar set new distribut deal bolivian kingpin alejandro sosa paul shenar sinc frank legal troubl preclud leav countri though toni suppos let omar talk omar prove poor negoti prompt toni step save deal seem negoti deal surfac seem favor side omar insist frank would approv sosa side omar suggest omar use phone call frank minut later sosa hand toni binocular see two menac assassin alberto shadow mark margoli skull geno silva execut omar hang neck airborn helicopt sosa reveal alberto recogn omar inform polic sever year ago zero toler disloyalti toni insist never goe back word never trust omar sosa agre bring toni board north american distributor cocain drug upon agreement sosa stern warn toni never betray doubl cross way upon return florida toni chew frank overstep author well hear omar death toni explain frank price million pay sosa manufactur transport cost receiv kilogram cocain bolivia nationwid sale distribut earn million period one year frank worri mani million pay sosa cocain toni say tight sosa establish credit line well work payment plan pay sosa million front rest month instal plus case frank come short million toni earn money need street contact frank angrili tell toni negoti good deal sosa mere trick think toni repli time think big expand cartel nationwid distribut cocain main north american distributor wholesal sosa cartel make million becom biggest cartel contin frank warn toni sosa trust sooner later turn slight deviat compromis busi frank order toni stall deal sosa time frank prompt tell toni ambiti drug dealer want much crave money power attent last long busi toni leav shrug indiffer strike note frank l pez two warn toni greed sosa violenc later proven true incid toni seek elvira make unexpect marriag propos shaken agre think frank l pez none happi hear decid take toni babylon nightclub even toni approach shaken miami polic detect name mel bernstein harri yulin propos tax toni transact return polic protect inform toni distract sight gina danc local drug dealer follow two restroom stall berat gina promiscu conduct ask manni take home way gina admit attract manni manni ward mind toni extrem protect back nightclub toni attack two gunmen manag escap kill despit wound gunshot left shoulder suspect frank sent bernstein hitmen toni ask one bodyguard nick pig call frank toni arriv frank offic night inform hit fail toni manni chi chi visit frank car dealership back offic det bernstein nick call frank confirm involv play call elvira tell late home becom appar bernstein arm help frank beg toni forgiv say elvira ten million dollar exchang spare life toni none manni cold execut frank bernstein insist could valuabl alli toni toni disagre kill problem appar solv toni begin profit relationship sosa marri elvira buy new mansion complet surveil camera numer luxuri item toni even set gina busi beauti salon manni gina soon begin romant relationship keep secret toni firm state gina want date anybodi toni busi grow cocain addict paranoia begin spiral control begin end wife becom addict cocain becom bore emot distant toni banker inform launder increas flow drug money becom increas difficult charg higher fee jewish mob boss mel seidelbaum ted beniad contact manni offer assist howev clean money seidelbaum reveal undercov cop arrest toni post million bail toni corrupt lawyer sheffield tell although may get clear corrupt money launder charg toni probabl serv least three year prison tax evas manni suggest take american prison system nowher near harsh cuban counterpart right legal loophol could trim sentenc six month howev strung toni yell would rather die spend singl day jail hear toni arrest sosa want lose main distributor step interven offer toni way go prison call toni back bolivia introduc cocain board director group includ sugar baron bolivia militari chief mysteri american name charl goodson gregg henri assum corrupt cia offic sosa guarante ir abl send toni jail help come price bolivian journalist attempt expos ongo corrupt bolivian govern involv drug traffick crusad begin hurt sosa partner sosa send alberto new york assassin journalist need toni crew provid extra muscl toni clear disturb assassin sinc custom kill man see civilian plus toni never kill anybodi wrong person see option toni reluct agre help sosa hit meantim toni marriag elvira final end bitter alterc local restaur final express contempt live led walk restaur life toni punch drunk cocain tell restaur patron exist necessari sinc societi need man like call crimin toni also inform manni look thing travel new york busi tell sosa assassin deal toni henchmen chi chi reuben alberto travel new york citi alberto place bomb journalist car intent deton outsid un build journalist address general assembl expos sosa cartel toni second thought journalist unexpect pick wife children toni say team suppos kill journalist shoot alberto prevent journalist famili kill author later discov unexplod bomb underneath journalist car realiz execut plan increas amount secur protect journalist sosa primari suspect sosa vow get even toni return miami toni discov gina manni oppos trip new york disappear toni long harbor appar unnatur obsess sister over protect reason may understand toni visit mother angrili tell gina descent immor life accus corrupt flashi lifestyl get gina home address mrs montana know els live toni goe hous nearbi palm grove much toni surpris manni unexpect open door bathrob toni see gina night gown top stair enrag anoth man obvious slept sister toni shoot manni dead hyster gina reveal toni marri go surpris toni riddl guilt gina taken back mansion reveng toni failur kill journalist expos sosa partner world drug lord sosa send latino mercenari hit squad size larg platoon toni mansion kill even sit desk snort enorm pile cocain toni realiz regret done best friend toni contempl action sosa mercenari breach main gate toni estat quiet begin kill guard around mansion time distraught gina wear unbutton sleep shirt arm revolv enter toni offic confront truth feel realiz toni love unnatur way demand gunpoint make love begin shoot demand take sosa assassin hide balconi think gina shoot leap riddl bullet enrag toni throw man balconi kill sub machin gun creat storm chao mansion point mercenari rob element surpris gunshot swarm attack toni mansion direct men kill toni still deliri cocain lean gina dead bodi beg forgiv time merc break mansion chi chi open fire uzi fall back end bang door toni offic lock insid gina plan kill toni unfortun toni seem hear chi chi shot back toni see secur camera hit men prepar storm offic toni final snap drug induc state arm ar assault rifl mount grenad launcher blow door huge climat gun battl begin toni take posit atop grand staircas gun dozen sosa men tri storm balconi toni hit number time return fire keep shoot sosa men dead toni strung drug defiant yell assassin realiz skull sneak room behind skull shoot toni back gaug shotgun toni fall balconi reflect pool base grand staircas final shot skull surviv assassin look toni montana lie dead face reflect pool locat larg brass globe say world'"
      ]
     },
     "execution_count": 30,
     "metadata": {},
     "output_type": "execute_result"
    }
   ],
   "source": [
    "preprocessed_plot_val[0]"
   ]
  },
  {
   "cell_type": "code",
   "execution_count": 31,
   "metadata": {},
   "outputs": [],
   "source": [
    "vectorizer = CountVectorizer(tokenizer = lambda x: x.split(), binary='true')\n",
    "multilabel_train = vectorizer.fit_transform(train_set['tags'])\n",
    "multilabel_test = vectorizer.transform(test_set['tags'])\n",
    "multilable_val = vectorizer.transform(val_set['tags'])"
   ]
  },
  {
   "cell_type": "code",
   "execution_count": 39,
   "metadata": {},
   "outputs": [],
   "source": [
    "vectorizer = TfidfVectorizer(tokenizer = lambda x: x.split(),smooth_idf=True, norm=\"l2\",sublinear_tf=False, ngram_range=(1,4))\n",
    "x_train_multilabel = vectorizer.fit_transform(preprocessed_plot_train)\n",
    "x_test_multilabel = vectorizer.transform(preprocessed_plot_test)\n",
    "x_val_multilabel = vectorizer.transform(preprocessed_plot_val)"
   ]
  },
  {
   "cell_type": "code",
   "execution_count": 40,
   "metadata": {},
   "outputs": [
    {
     "name": "stdout",
     "output_type": "stream",
     "text": [
      "Dimensions of train data X: (9203, 11283746) Y : (9203, 71)\n",
      "Dimensions of test data X: (2934, 11283746) Y: (2934, 71)\n",
      "Dimensions of val data X: (2349, 11283746) Y: (2349, 71)\n"
     ]
    }
   ],
   "source": [
    "print(\"Dimensions of train data X:\",x_train_multilabel.shape, \"Y :\",multilabel_train.shape)\n",
    "print(\"Dimensions of test data X:\",x_test_multilabel.shape,\"Y:\",multilabel_test.shape)\n",
    "print(\"Dimensions of val data X:\",x_val_multilabel.shape,\"Y:\",multilable_val.shape)"
   ]
  },
  {
   "cell_type": "markdown",
   "metadata": {},
   "source": [
    "## 3.5 Applying Logistic Regression with OneVsRest Classifier"
   ]
  },
  {
   "cell_type": "code",
   "execution_count": 41,
   "metadata": {},
   "outputs": [],
   "source": [
    "alpha = [10**i for i in range(-8,-2)]"
   ]
  },
  {
   "cell_type": "markdown",
   "metadata": {},
   "source": [
    "### Hyper parameter tuning using validation set"
   ]
  },
  {
   "cell_type": "code",
   "execution_count": 43,
   "metadata": {},
   "outputs": [
    {
     "name": "stdout",
     "output_type": "stream",
     "text": [
      "Alpha :  1e-08\n",
      "Accuracy : 0.05874840357598978\n",
      "Hamming loss  0.04860923737400992\n",
      "Micro-average quality numbers\n",
      "Precision: 0.3994, Recall: 0.2806, F1-measure: 0.3296\n",
      "Time taken to run this iteration : 0:02:49.619334\n",
      "Alpha :  1e-07\n",
      "Accuracy : 0.06002554278416347\n",
      "Hamming loss  0.04665455483004455\n",
      "Micro-average quality numbers\n",
      "Precision: 0.4263, Recall: 0.2759, F1-measure: 0.3350\n",
      "Time taken to run this iteration : 0:02:25.114052\n",
      "Alpha :  1e-06\n",
      "Accuracy : 0.04938271604938271\n",
      "Hamming loss  0.05360986694967592\n",
      "Micro-average quality numbers\n",
      "Precision: 0.3662, Recall: 0.3542, F1-measure: 0.3601\n",
      "Time taken to run this iteration : 0:02:22.810547\n",
      "Alpha :  1e-05\n",
      "Accuracy : 0.05917411664538101\n",
      "Hamming loss  0.048057609171418464\n",
      "Micro-average quality numbers\n",
      "Precision: 0.4170, Recall: 0.3227, F1-measure: 0.3638\n",
      "Time taken to run this iteration : 0:02:17.202574\n",
      "Alpha :  0.0001\n",
      "Accuracy : 0.05065985525755641\n",
      "Hamming loss  0.040214895160661714\n",
      "Micro-average quality numbers\n",
      "Precision: 0.6110, Recall: 0.1535, F1-measure: 0.2453\n",
      "Time taken to run this iteration : 0:02:47.073700\n",
      "Alpha :  0.001\n",
      "Accuracy : 0.0\n",
      "Hamming loss  0.04258929481529449\n",
      "Micro-average quality numbers\n",
      "Precision: 0.0000, Recall: 0.0000, F1-measure: 0.0000\n",
      "Time taken to run this iteration : 0:03:02.059496\n"
     ]
    },
    {
     "name": "stderr",
     "output_type": "stream",
     "text": [
      "/usr/local/lib/python3.7/site-packages/sklearn/metrics/classification.py:1143: UndefinedMetricWarning: Precision is ill-defined and being set to 0.0 due to no predicted samples.\n",
      "  'precision', 'predicted', average, warn_for)\n",
      "/usr/local/lib/python3.7/site-packages/sklearn/metrics/classification.py:1143: UndefinedMetricWarning: F-score is ill-defined and being set to 0.0 due to no predicted samples.\n",
      "  'precision', 'predicted', average, warn_for)\n"
     ]
    }
   ],
   "source": [
    "for i in alpha:\n",
    "    start = datetime.now()\n",
    "    classifier = OneVsRestClassifier(SGDClassifier(loss='log', alpha=i, penalty='l1'))\n",
    "    classifier.fit(x_train_multilabel, multilabel_train)\n",
    "    predictions = classifier.predict(x_val_multilabel)\n",
    "\n",
    "    print(\"Alpha : \",i)\n",
    "    print(\"Accuracy :\",metrics.accuracy_score(multilable_val, predictions))\n",
    "    print(\"Hamming loss \",metrics.hamming_loss(multilable_val,predictions))\n",
    "\n",
    "\n",
    "    precision = precision_score(multilable_val, predictions, average='micro')\n",
    "    recall = recall_score(multilable_val, predictions, average='micro')\n",
    "    f1 = f1_score(multilable_val, predictions, average='micro')\n",
    "\n",
    "    print(\"Micro-average quality numbers\")\n",
    "    print(\"Precision: {:.4f}, Recall: {:.4f}, F1-measure: {:.4f}\".format(precision, recall, f1))\n",
    "    print(\"Time taken to run this iteration :\", datetime.now() - start)"
   ]
  },
  {
   "cell_type": "code",
   "execution_count": 44,
   "metadata": {},
   "outputs": [
    {
     "name": "stdout",
     "output_type": "stream",
     "text": [
      "TEST SCORES\n",
      "Accuracy : 0.07021131561008861\n",
      "Hamming loss  0.048143667732365565\n",
      "Micro-average quality numbers\n",
      "Precision: 0.4208, Recall: 0.3241, F1-measure: 0.3662\n",
      "Time taken to run this iteration : 0:02:57.639340\n"
     ]
    }
   ],
   "source": [
    "start = datetime.now()\n",
    "classifier = OneVsRestClassifier(SGDClassifier(loss='log', alpha=10**-5, penalty='l1'))\n",
    "classifier.fit(x_train_multilabel, multilabel_train)\n",
    "predictions = classifier.predict(x_test_multilabel)\n",
    "\n",
    "print('TEST SCORES')\n",
    "\n",
    "print(\"Accuracy :\",metrics.accuracy_score(multilabel_test, predictions))\n",
    "print(\"Hamming loss \",metrics.hamming_loss(multilabel_test,predictions))\n",
    "\n",
    "\n",
    "precision = precision_score(multilabel_test, predictions, average='micro')\n",
    "recall = recall_score(multilabel_test, predictions, average='micro')\n",
    "f1 = f1_score(multilabel_test, predictions, average='micro')\n",
    "\n",
    "print(\"Micro-average quality numbers\")\n",
    "print(\"Precision: {:.4f}, Recall: {:.4f}, F1-measure: {:.4f}\".format(precision, recall, f1))\n",
    "print(\"Time taken to run this iteration :\", datetime.now() - start)"
   ]
  },
  {
   "cell_type": "markdown",
   "metadata": {},
   "source": [
    "# Conclusion"
   ]
  },
  {
   "cell_type": "code",
   "execution_count": 45,
   "metadata": {},
   "outputs": [
    {
     "name": "stdout",
     "output_type": "stream",
     "text": [
      "+------------------+--------------------+-------------------------+-----------+--------+----------+\n",
      "|    Vectorizer    |       Model        | Hyper parameter (Alpha) | Precision | Recall | F1 Score |\n",
      "+------------------+--------------------+-------------------------+-----------+--------+----------+\n",
      "| TFIDF ngram(1,4) | LogisticRegression |          1e-05          |   0.4208  | 0.3341 |  0.3662  |\n",
      "+------------------+--------------------+-------------------------+-----------+--------+----------+\n"
     ]
    }
   ],
   "source": [
    "from prettytable import PrettyTable \n",
    "x = PrettyTable()\n",
    "x.field_names = [\"Vectorizer\", \"Model\", \"Hyper parameter (Alpha)\", \"Precision\", \"Recall\", \"F1 Score\"]\n",
    "x.add_row([\"TFIDF ngram(1,4)\", \"LogisticRegression\", 10**-5, 0.4208, 0.3341, 0.3662])\n",
    "\n",
    "print(x)"
   ]
  },
  {
   "cell_type": "markdown",
   "metadata": {},
   "source": [
    "#### Steps followed in Case Study"
   ]
  },
  {
   "cell_type": "markdown",
   "metadata": {},
   "source": [
    "- ____Step 1____ : Analyze data and determine features that can be built using the dataset.\n",
    "- ____Step 2____ : In this case study TFIDF is used for feature extraction.\n",
    "- ____Step 3____ : Split data into Test,val and Train data. \n",
    "- ____Step 4____ : Fit train data on each feature and extract corresponding values on test and val data.\n",
    "- ____Step 5____ : Apply Logistic Regression.\n",
    "- ____Step 6____ : Find the corresponding Micro F1 score in each case.\n",
    "- ____Step 7____ : The best model is determined with one having the most F1 score.\n",
    "\n",
    "- ____Observations____ : In the following case study, Logistic Regression shows better scores with precision of 0.42, recall of 0.33 and F1 score of 0.36."
   ]
  }
 ],
 "metadata": {
  "kernelspec": {
   "display_name": "Python 3",
   "language": "python",
   "name": "python3"
  },
  "language_info": {
   "codemirror_mode": {
    "name": "ipython",
    "version": 3
   },
   "file_extension": ".py",
   "mimetype": "text/x-python",
   "name": "python",
   "nbconvert_exporter": "python",
   "pygments_lexer": "ipython3",
   "version": "3.7.3"
  }
 },
 "nbformat": 4,
 "nbformat_minor": 2
}
